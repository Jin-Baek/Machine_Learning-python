{
 "cells": [
  {
   "cell_type": "markdown",
   "metadata": {},
   "source": [
    "# 회귀  Regression \n",
    "\n",
    "## 회귀 소개\n",
    "\n",
    "__< Definition >__ 데이터 값이 평균과 같이 일정한 값으로 돌아가려는 경향을 이용한 통계학의 기법 <br><br>\n",
    "__< In statistics >__ 여러 개의 독립 변수와 한 개의 종속변수 간의 상관 관계를 모델링하는 기법 <br>\n",
    "EX) Y = W₁* X₁+ W₂* X₂+ W₃* X₃.....Wn * Xn 이라는 '선형 회귀식' <br>\n",
    "* Y = 종속 변수 / 아파트 가격 \n",
    "* X = 독립 변수 / 방의 갯수 , 방의 크기 , 주변 시설 등 \n",
    "* W = 회귀 계수 (Regression cofficients) : 독립 변수의 값에 영향을 미치는 값 \n",
    "\n",
    "__< In Machine Learning >__\n",
    "* Y = label\n",
    "* X = feature \n",
    "* <u>머신러닝 회귀 예측의 핵심은</u> 주어진 feature 와 label 값 데이터 기반에서 학습을 통해 __최적의 회귀 계수__ 를 찾아내는 것 <br><br>\n",
    "\n",
    "__< Regression type >__\n",
    "\n",
    "|독립 변수 갯수|회귀 계수|\n",
    "|---|---|\n",
    "|1개:단일 회귀|선형 : 선형 회귀|\n",
    "|여러 개:다중 회귀|비선형 : 비선형 회귀|<br><br>\n",
    "\n",
    "__< Difference between Classification and Regression >__<br>\n",
    "* Classification → 이산형 클래스 값 \n",
    "* Regression → 연속형 숫자 값\n",
    "\n",
    "__< What is Linear Regression >__ <br><br>선형 회귀는 실제 값과 예측 값의 차이 ( = 오류의 제곱 값 ) 를 최소화하는 직선형 회귀선을 최적화 하는 방식.<br><br>\n",
    "선형 회귀 모델은 규제 방법에 따라 유형이 나누어진다. <br>\n",
    "규제(Regularization) 는 선형 회귀의 과적합 문제를 해결하기 위한 방법. 대표적인 예시는 다음과 같습니다.\n",
    "* 일반 선형 회귀: 예측값과 실제값의 RSS를 최소화할 수 있도록 회귀 계수를 최적화(규제를 적용하지 않은 모델)\n",
    "\n",
    "* 릿지(Ridge): 릿지 회귀는 선형 회귀에 L2 규제를 추가한 회귀 모델.\n",
    "\n",
    "* 라쏘(Lasso): 라쏘 회귀는 선형 회귀에 L1 규제를 적용.\n",
    "\n",
    "* 엘라스틱넷(ElasticNet): L2, L1 규제를 결합한 모델. 주로 피처가 많은 데이터에 적용을 합니다.\n",
    "\n",
    "* 로지스틱 회귀(Logistic Regression): 일반적으로 이진 분류뿐만이 아닌 희소 영역의 분류, 텍스트 분류와 같은 영역에서 뛰어난 예측 성능을 나타냅니다."
   ]
  },
  {
   "cell_type": "markdown",
   "metadata": {},
   "source": [
    "## 단순 선형 회귀를 통한 회귀 이해 \n",
    "\n",
    "단순 선형 회귀는 독립변수 1개 , 종속 변수 1개인 선형 회귀<br> \n",
    "주택 가격 Y 가 오로지 주택 크기 X 에 의해 결정된다고 가정을 해보자. 일반적으로 주택의 크기가 커지면 가격이 높아지는 경향이 있기 때문에<br> 선형 = 직선 형태로 표현이 가능. ( p.292 ) <br><br>\n",
    "쉽게 말해, 해당 [그림](https://img1.daumcdn.net/thumb/R1280x0/?scode=mtistory2&fname=https%3A%2F%2Fblog.kakaocdn.net%2Fdn%2FoIjSc%2FbtqEsqTrzG8%2FzpuzMbIT4DcL5Uji05Ua1k%2Fimg.png)을 분석해보자면, \n",
    "* 그래프 위 점 = 실제 데이터\n",
    "* 함수 = 알고리즘 모델 : f(x) = ω0 + ω₁* x  \n",
    "* X 값을 함수에 넣었을 때 나오는 Y 값 = 예측 데이터<br><br>\n",
    "[numpy 참고 자료](https://nittaku.tistory.com/443)"
   ]
  },
  {
   "cell_type": "markdown",
   "metadata": {},
   "source": [
    "독립 변수가 1개인 단순 선형 회귀에서 ω0 ,ω₁를 회귀 계수 라 한다.<br><br>\n",
    "[그림을 보면](https://img1.daumcdn.net/thumb/R1280x0/?scode=mtistory2&fname=https%3A%2F%2Fblog.kakaocdn.net%2Fdn%2F61TQn%2FbtqEsEDVIYR%2FcqybjRuqO7GIXLKgb2hK9k%2Fimg.png), 실제 값과 모델 사이의 오류값을 '잔차' 라고 부른다.<br>\n",
    "이 오류 값은 + , -  모두 될 수 있기 때문에 제곱을 구해서 더하는 방식  →  *Error^2* = RSS 라 부른다.<br><br>\n",
    "식을 구체화 시키면,\n",
    "> RSS( ω0 ,ω1 ) = ( 1 / N )  ∑_(i=1)^N ( yi - ( ω0 +ω1 * xi))^2\n",
    "\n",
    "회귀에서 이 RSS 를 cost function 이라 하며, <br> 최적의 회귀 모델을 만들기 위해서는 <br><span style=\"color:red\">전체 데이터의 잔차(오류 값) 합들이 최소가 될 수 있는 최적의 회귀 계수 ( ω 변수 ) 를 찾는 것 이 중요</span>하다.\n",
    "\n"
   ]
  },
  {
   "cell_type": "markdown",
   "metadata": {},
   "source": [
    "## 비용 최소화하기 - 경사 하강법 ( Gradient Descent ) 소개 \n",
    "\n",
    "__< Definition >__ 반복적으로 비용 함수 ( 예측값과 실제 값의 차이 ) 를 감소 시키기 위해 W 파라미터를 지속해서 업데이트 하는 방식.<br><br>\n",
    "__< Concept Reference>__\n",
    "1. Book p.294\n",
    "2. [Organized by me - Model and Cost function, Gradient Descent](https://github.com/Jin-Baek/courseraML/blob/main/week1.md)<br>\n",
    "3. [Organized by otehr - Model and Cost function, Gradient Descent](http://soopsaram.com/ml/markdowns/1.2-linear-regression-with-one-variable.html#124-cost-function)\n",
    "\n",
    "먼저, 회귀식에 근사하기 위한 실제 데이터 set 을 임의로 만들어서 분포 시켜둔다."
   ]
  },
  {
   "cell_type": "code",
   "execution_count": 30,
   "metadata": {},
   "outputs": [
    {
     "data": {
      "text/plain": [
       "<matplotlib.collections.PathCollection at 0x295ce9eaf10>"
      ]
     },
     "execution_count": 30,
     "metadata": {},
     "output_type": "execute_result"
    },
    {
     "data": {
      "image/png": "[encoded data removed]",
      "text/plain": [
       "<Figure size 432x288 with 1 Axes>"
      ]
     },
     "metadata": {
      "needs_background": "light"
     },
     "output_type": "display_data"
    }
   ],
   "source": [
    "# 회귀식 y = 4X + 6 일 때, \n",
    "import numpy as np\n",
    "import matplotlib.pyplot as plt \n",
    "%matplotlib inline \n",
    "\n",
    "np.random.seed(0)\n",
    "\n",
    "# numpy ndarray 타입 \n",
    "X = 2 * np.random.rand(100,1)\n",
    "y = 6 + 4* X+np.random.randn(100,1)\n",
    "\n",
    "plt.scatter(X,y)"
   ]
  },
  {
   "cell_type": "markdown",
   "metadata": {},
   "source": [
    "위 데이터들은 X, y 는 실제 데이터 라 가정하고 만든 임의 데이터 이며, 앞으로 해야할 일은 실제 데이터에 기반하여 근사한 알고리즘 모델을 만드는 일이라는 것을 명심하자.<br><br>\n",
    "다음으로 비용 함수를 정의 해두자."
   ]
  },
  {
   "cell_type": "code",
   "execution_count": 31,
   "metadata": {},
   "outputs": [],
   "source": [
    "# y = 실제 값, y_pred = 에측 값 \n",
    "def get_cost(y,y_pred):\n",
    "    N = len(y)\n",
    "    cost = np.sum(np.square(y-y_pred))/N\n",
    "    return cost"
   ]
  },
  {
   "cell_type": "markdown",
   "metadata": {},
   "source": [
    "이제 다시 Gradient Descent 를 생각해 보자.\n",
    "> Formula<br><br>\n",
    "ω__j := ω_j - α * (∂/∂ω_j) * cost function <br><br>\n",
    "ω_j := ω_j - α * (∂/∂ω_j) * { ( 1 / N ) ∑_(i=1)^N ( yi - ( ω0 +ω1 * xi))^2 }\n",
    "\n",
    "위 식을 분석해보자. <br> \n",
    "1. 단순 선형 회귀에서는 j = 0, j = 1  → ω0 , ω1 인 형태 <br>\n",
    "   다중 선형 회귀에서는 j = 0 .... j = n  →  ω0 .... ωn 인 형태 <br><br>\n",
    "\n",
    "2. ω0 ,ω1, X , y 등 모두 ndarray type  → .T 와 행렬 내적 필요 [참고 자료](https://github.com/Jin-Baek/courseraML/raw/main/image/week2/multiply_features2.PNG)<br> 행렬 내적을 하면 ∑ 와 유사한 역할 <br><br>\n",
    "\n",
    "3. ω_j 에서 learning rate * cost function 의 미분 만큼 (-) 하면서 최솟값 찾는 흐름 / 이 때 매 반복마다 ω 파라미터 ( 회귀 계수 ) 들을 동시에 업데이트<br><br>\n",
    "\n",
    "4. j = 1 일 때, cost function 을 ω_1 에 대한 편미분 / 그 계수인 xi 가 곱해짐.<br>\n",
    "\n",
    "      * ex)  (∂/∂ω_1) * cost function = -(2/N) * ∑_(i=1)^N (실제 값 - 예측 값) * xi<br>\n",
    "      \n",
    "   j = 0 일 때, cost function 을 ω_0 에 대한 편미분 /  상수 라 1 곱해짐. <br>\n",
    "      * ex)  (∂/∂ω_0) * cost function = -(2/N) * ∑_(i=1)^N (실제 값 - 예측 값) * xi<br>\n",
    "      [참고 자료](https://github.com/Jin-Baek/courseraML/raw/main/image/gradient_descent_for_linear_regression2.PNG)\n",
    "      \n",
    "   다중 선형 회귀일 경우 이렇게 [확장](https://github.com/Jin-Baek/courseraML/raw/main/image/week2/gradient_descent_for_multiple_variables1.PNG)<br><br>\n",
    " "
   ]
  },
  {
   "cell_type": "code",
   "execution_count": 32,
   "metadata": {},
   "outputs": [],
   "source": [
    "# w1 과 w0 을 업데이트 할 w1_update, w0_update 반환 함수 \n",
    "def get_weight_updates(w1,w0,X,y,learning_rate=0.01):\n",
    "    N = len(y)\n",
    "    # 업데이트 하기 위해 0으로 채워진 행렬 준비 \n",
    "    w1_update = np.zeros_like(w1)\n",
    "    w0_update = np.zeros_like(w0)\n",
    "    \n",
    "    # 예측과 실제 값의 차이 계산 : cost function 에서 쓰였던 형태 \n",
    "    # ndarray type 인 두 vector 중 한 쪽을 transpose 한 뒤 행렬 내적 →  cost function 의 ∑ 부분 ? \n",
    "    y_pred = np.dot(X,w1.T)+w0\n",
    "    diff = y - y_pred\n",
    "    \n",
    "    # w0_update 를 dot 행렬 연산으로 구하기 위해 모두 1 값을 가진 행렬 생성\n",
    "    w0_factors = np.ones((N,1))\n",
    "    \n",
    "    # 업데이트 할 w1_update, w0_update 계산 ( .T = transpose() )\n",
    "    # cost function 에 미분계수를 취해준 형태 \n",
    "    # 분석에 4 번과 연관\n",
    "    w1_update = -(2/N) * learning_rate*(np.dot(X.T,diff))\n",
    "    w0_update = -(2/N) * learning_rate*(np.dot(w0_factors.T,diff))\n",
    "    \n",
    "    return w1_update,w0_update    "
   ]
  },
  {
   "cell_type": "markdown",
   "metadata": {},
   "source": [
    "다음으로 get_weight_updates 를 반복적으로 수행해서 ω0, ω1 를 업데이트 시켜줄 함수를 생성하자."
   ]
  },
  {
   "cell_type": "code",
   "execution_count": 47,
   "metadata": {},
   "outputs": [],
   "source": [
    "# 입력 입자 iters 로 주어진 횟수 만큼 반복적으로 ω0, ω1 를 업데이트\n",
    "def gradient_descent_steps(X,y,iters=10000):\n",
    "    w0 = np.zeros((1,1)) \n",
    "    w1 = np.zeros((1,1))\n",
    "    \n",
    "    # iters 만큼 get_weight_updates 를 호출해서 ω0, ω1 업데이트\n",
    "    for iter in range(iters):\n",
    "        \n",
    "        # 분석에 3번 코드\n",
    "        w1_update, w0_update = get_weight_updates(w1,w0,X,y,learning_rate=0.01)\n",
    "        w1 = w1 - w1_update\n",
    "        w0 = w0 - w0_update\n",
    "        \n",
    "    return w1,w0"
   ]
  },
  {
   "cell_type": "markdown",
   "metadata": {},
   "source": [
    "이제 X, y 와 앞서 만들어둔 함수를 사용해서 ω0 와 ω1 의 최적값과 예측 오류 비용을 찾아보자.\n",
    "##### w1[0,0] 이 부분 이해 안감 ( ndarray format 에 맞춰주기 위함? →  알아보자)"
   ]
  },
  {
   "cell_type": "code",
   "execution_count": 48,
   "metadata": {
    "scrolled": true
   },
   "outputs": [
    {
     "name": "stdout",
     "output_type": "stream",
     "text": [
      "w1: 3.968, w0: 6.222\n",
      "Gradient Descent Total Cost:0.9924 \n",
      "\n",
      "\n",
      "Total time : 0.16516923904418945\n"
     ]
    }
   ],
   "source": [
    "import time\n",
    "start_time = time.time()\n",
    "\n",
    "w1, w0 = gradient_descent_steps(X,y)\n",
    "\n",
    "print(\"w1: {0:.3f}, w0: {1:.3f}\".format(w1[0,0],w0[0,0]))\n",
    "\n",
    "y_pred = w1[0,0]*X+w0\n",
    "\n",
    "print('Gradient Descent Total Cost:{0:.4f}'.format(get_cost(y,y_pred)),'\\n\\n')\n",
    "\n",
    "print(\"Total time : {0}\".format(time.time()-start_time))"
   ]
  },
  {
   "cell_type": "markdown",
   "metadata": {},
   "source": [
    "실제 선형 식인 y = 4X + 6 과 유사하게 ω0, ω1 값이 도출되었다. <br>\n",
    "이제 구한 y_pred = 예측 값을 그래프에 추가 시킨다."
   ]
  },
  {
   "cell_type": "code",
   "execution_count": 35,
   "metadata": {},
   "outputs": [
    {
     "data": {
      "text/plain": [
       "[<matplotlib.lines.Line2D at 0x295cf1ab460>]"
      ]
     },
     "execution_count": 35,
     "metadata": {},
     "output_type": "execute_result"
    },
    {
     "data": {
      "image/png": "[encoded data removed]",
      "text/plain": [
       "<Figure size 432x288 with 1 Axes>"
      ]
     },
     "metadata": {
      "needs_background": "light"
     },
     "output_type": "display_data"
    }
   ],
   "source": [
    "# 실제 데이터\n",
    "plt.scatter(X,y)\n",
    "\n",
    "# 예측 모델\n",
    "plt.plot(X,y_pred)"
   ]
  },
  {
   "cell_type": "markdown",
   "metadata": {},
   "source": [
    "Gradient descent 는  모든 학습 데이터에 대해 반복적으로 비용 함수 최소화를 위한 값을 업데이트 하기 때문에 수행시간이 매우 오래 걸린다.<br>\n",
    "그래서 일부 데이터만 이용해 w가 업데이트 되는 값을 계산하는 'Stochastic Gradient Descent' 를 실전에서 더 많이 사용한다.<br><br>\n",
    "SGD, Mini Batch SGD 로 나뉘는데,<br>\n",
    "전자는 데이터 셋을 무작위로 섞은 뒤 정렬된 순서대로 처리하는 방식<br>\n",
    "후자는 데이터 셋에서 무작위로 데이터를 추출해서 처리하는 방식<br>\n",
    "\n",
    "여기서는 Mini Batch 를 함수로 구현해보자.<br>\n",
    "[Numpy.permutation](https://docs.scipy.org/doc/numpy-1.15.0/reference/generated/numpy.random.permutation.html)<br>\n",
    "[Numpy.seed](https://antilibrary.org/2481)"
   ]
  },
  {
   "cell_type": "code",
   "execution_count": 49,
   "metadata": {},
   "outputs": [],
   "source": [
    "# 일부 데이터(batch_size) 만 이용한 gradient descent\n",
    "def stochastic_gradient_descent_steps(X,y,batch_size=10,iters=1000):\n",
    "    w0 = np.zeros((1,1))\n",
    "    w1 = np.zeros((1,1))\n",
    "    \n",
    "    prev_cost = 100000\n",
    "    iter_index = 0\n",
    "    \n",
    "    for iter in range(iters):\n",
    "        \n",
    "        # 같은 시드 사용 \n",
    "        np.random.seed(iter)\n",
    "        \n",
    "        # 전체 X,y 데이터에서 랜덤하게 batch_size 만큼 데이터를 추출해 sample_X , sample_y 리스트 저장 \n",
    "        stochastic_random_index = np.random.permutation(X.shape[0])\n",
    "        sample_X = X[stochastic_random_index[0:batch_size]]\n",
    "        sample_y = y[stochastic_random_index[0:batch_size]]\n",
    "        \n",
    "        # 랜덤하게 batch_size 만큼 추출된 데이터 값들을 기반으로 w0, w1  업데이트 \n",
    "        w1_update, w0_update = get_weight_updates(w1,w0,sample_X,sample_y,learning_rate=0.01)\n",
    "        w1 = w1 - w1_update\n",
    "        w0 = w0 - w0_update\n",
    "        \n",
    "    return w1, w0 "
   ]
  },
  {
   "cell_type": "markdown",
   "metadata": {},
   "source": [
    "이제 sample_X, sample_y 와 앞서 만들어둔 함수를 사용해서 ω0 와 ω1 의 최적값과 예측 오류 비용을 찾아보자."
   ]
  },
  {
   "cell_type": "code",
   "execution_count": 50,
   "metadata": {},
   "outputs": [
    {
     "name": "stdout",
     "output_type": "stream",
     "text": [
      "w1: 4.028, w0: 6.156\n",
      "Stochastic Gradient Descent Total Cost:0.9937 \n",
      "\n",
      "\n",
      "Total time : 0.029015302658081055\n"
     ]
    }
   ],
   "source": [
    "start_time = time.time()\n",
    "\n",
    "w1 , w0 = stochastic_gradient_descent_steps(X,y)\n",
    "\n",
    "print(\"w1: {0:.3f}, w0: {1:.3f}\".format(w1[0,0],w0[0,0]))\n",
    "\n",
    "y_pred = w1[0,0]*X+w0\n",
    "\n",
    "print('Stochastic Gradient Descent Total Cost:{0:.4f}'.format(get_cost(y,y_pred)),'\\n\\n')\n",
    "\n",
    "print(\"Total time : {0}\".format(time.time()-start_time))"
   ]
  },
  {
   "cell_type": "markdown",
   "metadata": {},
   "source": [
    "SGD 와 GD 를 비교해보면 , 성능의 차이는 크게 없다. 그럼에도 SGD의 시간이 압도적으로 빠른 것을 확인 할 수 있다. <br>\n",
    "\n",
    "#### SGD 는 iters 1000, GD 는 iters 10000 인 이유를 알아보자! "
   ]
  },
  {
   "cell_type": "markdown",
   "metadata": {},
   "source": [
    "앞에서도 잠깐 살펴보았지만, Multivariate linear regression 도 유사한 형태로 간단하게 구할 수 있다. 해당 [링크](http://soopsaram.com/ml/markdowns/2.1-multivariate-linear-regression.html) or p.301 ~ 302를 참고하자."
   ]
  }
 ],
 "metadata": {
  "kernelspec": {
   "display_name": "Python 3",
   "language": "python",
   "name": "python3"
  },
  "language_info": {
   "codemirror_mode": {
    "name": "ipython",
    "version": 3
   },
   "file_extension": ".py",
   "mimetype": "text/x-python",
   "name": "python",
   "nbconvert_exporter": "python",
   "pygments_lexer": "ipython3",
   "version": "3.8.5"
  }
 },
 "nbformat": 4,
 "nbformat_minor": 4
}
