{
 "cells": [
  {
   "cell_type": "markdown",
   "metadata": {},
   "source": [
    "# 규제 선형 모델 \n",
    "\n",
    "__< Good Regression Model ? >__<br><br>\n",
    "이전 까지는 좋은 회귀 모델을 위해 <span style=\"color:red\">RSS (실제 값 - 예측 값) 를 최소화 방법</span>만 고려했다.<br>\n",
    "* 편향-분산 Trade off 를 유지 하며, 오류 값은 최소가 되어야함. \n",
    "                            ∥ \n",
    "* 지나치지 않고 적절하게 데이터에 적합해야 함.<br><br>\n",
    "\n",
    "그러다 보니, 학습 데이터에 지나치게 맞추게 되고 회귀 계수가 쉽게 커지는 상황이 발생했다. <br> \n",
    "그러면, 예측 성능이 저하 되기 때문에  <span style=\"color:red\">회귀 계수의 크기 제어</span>도 고려 해야 한다. <br><br>\n",
    "즉, 회귀 계수의 크기를 제어해 과적합을 개선하려면 cost function 의 목표를 아래와 같이 설정 할 수 있다.\n",
    "> 비용 함수 목표 = Min ( RSS ( W ) + alpha * || W || ²₂)\n",
    "\n",
    "__목표 수식 분석__\n",
    "\n",
    "* 비용함수 의 목표는 위 식을 최소화하는 W vector 를 찾는 것<br>W 파라미터 =  ω₀, ω₁ 등 회귀 계수<br><br>\n",
    "* alpha 는 학습 데이터 적합 정도와 회귀 계수 값의 크기 제어를 수행하는 튜닝 파라미터 <br>\n",
    "    * alpha = 0 인 경우 : W 가 커도  alpha * || W || ²₂= 0 이기 때문에 비용함수는  Min ( RSS ( W ) ) <br>\n",
    "    * alpha = ∞ 인 경우 : alpha * || W || ²₂가 ∞ 가 되므로 비용 함수는 W를 0 에 가깝게 최소화 해야 함.<br>\n",
    "    &nbsp; &nbsp; &nbsp; &nbsp; &nbsp; &nbsp; &nbsp; &nbsp; &nbsp; &nbsp; &nbsp; &nbsp; &nbsp; &nbsp; &nbsp; 그래야 RSS(W) 값이 작아지고 어느 정도 상쇄가 가능<br>\n",
    "    \n",
    "즉, alpha 를 0 에서 부터 지속적으로 값을 증가시키면 회귀 계수 값의 크기를 감소 시킬 수 있다. ( p.321 )<br><br>\n",
    "\n",
    "__< About Regulation >__<br><br>\n",
    "이처럼 비용 함수에 alpha 값으로 페널티를 부여해 회귀 계수 값의 크기를 감소시켜 과적합을 개선하는 방식을 __규제 Regulation__ 이라 부른다.\n",
    "* L2 규제 : alpha * || W || ²₂와 같이 W 의 제곱에 대해 페널티를 부여하는 방식 ≒ Ridge Regression\n",
    "* L1 규제 : alpha * || W || ₁  와 같이 W 의 절대 값에 대해 페널티를 부여하는 방식 ≒ Lasso Regression\n",
    "\n"
   ]
  },
  {
   "cell_type": "markdown",
   "metadata": {},
   "source": [
    "## Ridge Regression\n",
    "\n",
    "__< What is Ridge >__\n",
    "\n",
    "alpha 에 L2 규제를 적용하는 릿지 회귀 구현 \n",
    "\n",
    "__< 예제 >__\n",
    "* 내장 dataset : boston 주택 가격 데이터 \n",
    "* 성능 평가 : MSE , RMSE "
   ]
  },
  {
   "cell_type": "code",
   "execution_count": 3,
   "metadata": {},
   "outputs": [
    {
     "name": "stdout",
     "output_type": "stream",
     "text": [
      "5 folds 의 개별 Negative MSE score:  [-11.422 -24.294 -28.144 -74.599 -28.517]\n",
      "5 folds 의 개별 RMSE score:  [3.38  4.929 5.305 8.637 5.34 ]\n",
      "5 folds 의 평균 RMSE:  5.518\n"
     ]
    }
   ],
   "source": [
    "from sklearn.linear_model import Ridge\n",
    "from sklearn.model_selection import cross_val_score\n",
    "from sklearn.datasets import load_boston\n",
    "import numpy as np\n",
    "import pandas as pd\n",
    "import warnings\n",
    "warnings.filterwarnings('ignore')\n",
    "\n",
    "boston = load_boston()\n",
    "\n",
    "bostonDF = pd.DataFrame(boston.data,columns= boston.feature_names)\n",
    "bostonDF['PRICE'] = boston.target\n",
    "\n",
    "y_label = bostonDF['PRICE']\n",
    "X_feature = bostonDF.drop(['PRICE'],axis=1,inplace=False)\n",
    "\n",
    "# alpha = 10으로 설정해 릿지 회귀 수행\n",
    "ridge = Ridge(alpha = 10)\n",
    "\n",
    "# 성능평가 지표로 MSE 와 RMSE 사용\n",
    "neg_mse_score = cross_val_score(ridge,X_feature,y_label,scoring=\"neg_mean_squared_error\",cv=5)\n",
    "rmse_score = np.sqrt(neg_mse_score * -1)\n",
    "\n",
    "print('5 folds 의 개별 Negative MSE score: ',np.round(neg_mse_score,3))\n",
    "print('5 folds 의 개별 RMSE score: ',np.round(rmse_score,3))\n",
    "print('5 folds 의 평균 RMSE: ',np.round(np.mean(rmse_score),3))\n"
   ]
  },
  {
   "cell_type": "markdown",
   "metadata": {},
   "source": [
    "회귀 성능 평가 지표에서 수치가 낮을 수록 좋은 모델이라 했었다 .<br>\n",
    "즉, 앞선 파일의 예제와 비교해 보아, 규제가 없는 LinearRegression 보다 Ridge 가 훨씬 좋은 성능을 보여준다.  <br><br>\n",
    "\n",
    "이제는 __Ridge 의 alpha 값을 변화 시키면서 RMSE 값의 변화__를 살펴보자.\n"
   ]
  },
  {
   "cell_type": "code",
   "execution_count": 5,
   "metadata": {},
   "outputs": [
    {
     "name": "stdout",
     "output_type": "stream",
     "text": [
      "alpha 0 일 때 5 folds 의 평균 RMSE 값은 5.829 \n",
      "\n",
      "alpha 0.1 일 때 5 folds 의 평균 RMSE 값은 5.788 \n",
      "\n",
      "alpha 1 일 때 5 folds 의 평균 RMSE 값은 5.653 \n",
      "\n",
      "alpha 10 일 때 5 folds 의 평균 RMSE 값은 5.518 \n",
      "\n",
      "alpha 100 일 때 5 folds 의 평균 RMSE 값은 5.330 \n",
      "\n"
     ]
    }
   ],
   "source": [
    "alphas = [0,0.1,1,10,100]\n",
    "\n",
    "for alpha in alphas:\n",
    "    ridge = Ridge(alpha=alpha)\n",
    "    \n",
    "    neg_mse_scores = cross_val_score(ridge,X_feature,y_label,scoring='neg_mean_squared_error',cv=5)\n",
    "    avg_rmse_score = np.mean(np.sqrt(-1 * neg_mse_scores))\n",
    "    \n",
    "    print('alpha {0} 일 때 5 folds 의 평균 RMSE 값은 {1:.3f}'.format(alpha,avg_rmse_score),'\\n')"
   ]
  },
  {
   "cell_type": "markdown",
   "metadata": {},
   "source": [
    "이번에는 __Ridge 의 alpha 값 변화에 따른 회귀 계수 값의 변화__ 를 살펴보자.<br><br>\n",
    "Plotly 공식문서 ( Graph Objects 사용 )\n",
    "- [Subplots](https://plotly.com/python/subplots/) \n",
    "- [Horizontal bar](https://plotly.com/python/horizontal-bar-charts/#horizontal-bar-chart-with-gobar) \n",
    "- [Axes ](https://plotly.com/python/axes/)\n",
    "\n",
    "를 활용해서 시각화 하였다."
   ]
  },
  {
   "cell_type": "code",
   "execution_count": 72,
   "metadata": {},
   "outputs": [
    {
     "data": {
      "application/vnd.plotly.v1+json": {
       "config": {
        "plotlyServerURL": "https://plot.ly"
       },
       "data": [
        {
         "orientation": "h",
         "type": "bar",
         "x": [
          -17.76661122829984,
          -1.4755668456002475,
          -0.9527472317072797,
          -0.5247583778554922,
          -0.10801135783679416,
          -0.012334593916573577,
          0.0006922246403446992,
          0.009311683273793885,
          0.02055862636706762,
          0.046420458366881814,
          0.30604947898515594,
          2.6867338193448873,
          3.809865206809211
         ],
         "xaxis": "x",
         "y": [
          "NOX",
          "DIS",
          "PTRATIO",
          "LSTAT",
          "CRIM",
          "TAX",
          "AGE",
          "B",
          "INDUS",
          "ZN",
          "RAD",
          "CHAS",
          "RM"
         ],
         "yaxis": "y"
        },
        {
         "orientation": "h",
         "type": "bar",
         "x": [
          -16.684645231856248,
          -1.4596255697013574,
          -0.9407585407258704,
          -0.525966203065629,
          -0.10747372032822641,
          -0.012420591042128547,
          -0.0002690605984917631,
          0.009368074613793097,
          0.015998998160852526,
          0.04657163659157776,
          0.3035152660175763,
          2.670018588405279,
          3.8182332173071787
         ],
         "xaxis": "x2",
         "y": [
          "NOX",
          "DIS",
          "PTRATIO",
          "LSTAT",
          "CRIM",
          "TAX",
          "AGE",
          "B",
          "INDUS",
          "ZN",
          "RAD",
          "CHAS",
          "RM"
         ],
         "yaxis": "y2"
        },
        {
         "orientation": "h",
         "type": "bar",
         "x": [
          -10.777014648164442,
          -1.3726535250455079,
          -0.876074393829159,
          -0.5333432253389853,
          -0.10459527842441295,
          -0.012911646303983207,
          -0.00880467888633001,
          -0.005414538098998888,
          0.009673279451802701,
          0.04744322433513775,
          0.2901415888480309,
          2.5523932187040135,
          3.854000198298652
         ],
         "xaxis": "x3",
         "y": [
          "NOX",
          "DIS",
          "PTRATIO",
          "LSTAT",
          "CRIM",
          "TAX",
          "INDUS",
          "AGE",
          "B",
          "ZN",
          "RAD",
          "CHAS",
          "RM"
         ],
         "yaxis": "y3"
        },
        {
         "orientation": "h",
         "type": "bar",
         "x": [
          -2.3716189615754786,
          -1.2488082128636517,
          -0.7979449751505189,
          -0.5593664222657863,
          -0.10143535010820233,
          -0.04296239915928067,
          -0.013993131891498306,
          -0.010707347185546482,
          0.010036842143759658,
          0.049579097364934696,
          0.2795955982679738,
          1.9520208232677192,
          3.7022720695011566
         ],
         "xaxis": "x4",
         "y": [
          "NOX",
          "DIS",
          "PTRATIO",
          "LSTAT",
          "CRIM",
          "INDUS",
          "TAX",
          "AGE",
          "B",
          "ZN",
          "RAD",
          "CHAS",
          "RM"
         ],
         "yaxis": "y4"
        },
        {
         "orientation": "h",
         "type": "bar",
         "x": [
          -1.1533898902377877,
          -0.8292178785355487,
          -0.6607638276989476,
          -0.2628470339019671,
          -0.10220158483305262,
          -0.052826304580564,
          -0.01585575717375459,
          0.0012116895517543917,
          0.009392609956456003,
          0.05449648064441827,
          0.31535757904361894,
          0.6383348355824862,
          2.334535785331552
         ],
         "xaxis": "x5",
         "y": [
          "DIS",
          "PTRATIO",
          "LSTAT",
          "NOX",
          "CRIM",
          "INDUS",
          "TAX",
          "AGE",
          "B",
          "ZN",
          "RAD",
          "CHAS",
          "RM"
         ],
         "yaxis": "y5"
        }
       ],
       "layout": {
        "annotations": [
         {
          "font": {
           "size": 16
          },
          "showarrow": false,
          "text": "alpha 0",
          "x": 0.08399999999999999,
          "xanchor": "center",
          "xref": "paper",
          "y": 1,
          "yanchor": "bottom",
          "yref": "paper"
         },
         {
          "font": {
           "size": 16
          },
          "showarrow": false,
          "text": "alpha 0.1",
          "x": 0.292,
          "xanchor": "center",
          "xref": "paper",
          "y": 1,
          "yanchor": "bottom",
          "yref": "paper"
         },
         {
          "font": {
           "size": 16
          },
          "showarrow": false,
          "text": "alpha 1",
          "x": 0.5,
          "xanchor": "center",
          "xref": "paper",
          "y": 1,
          "yanchor": "bottom",
          "yref": "paper"
         },
         {
          "font": {
           "size": 16
          },
          "showarrow": false,
          "text": "alpha 10",
          "x": 0.708,
          "xanchor": "center",
          "xref": "paper",
          "y": 1,
          "yanchor": "bottom",
          "yref": "paper"
         },
         {
          "font": {
           "size": 16
          },
          "showarrow": false,
          "text": "alpha 100",
          "x": 0.9159999999999999,
          "xanchor": "center",
          "xref": "paper",
          "y": 1,
          "yanchor": "bottom",
          "yref": "paper"
         }
        ],
        "template": {
         "data": {
          "bar": [
           {
            "error_x": {
             "color": "#2a3f5f"
            },
            "error_y": {
             "color": "#2a3f5f"
            },
            "marker": {
             "line": {
              "color": "#E5ECF6",
              "width": 0.5
             }
            },
            "type": "bar"
           }
          ],
          "barpolar": [
           {
            "marker": {
             "line": {
              "color": "#E5ECF6",
              "width": 0.5
             }
            },
            "type": "barpolar"
           }
          ],
          "carpet": [
           {
            "aaxis": {
             "endlinecolor": "#2a3f5f",
             "gridcolor": "white",
             "linecolor": "white",
             "minorgridcolor": "white",
             "startlinecolor": "#2a3f5f"
            },
            "baxis": {
             "endlinecolor": "#2a3f5f",
             "gridcolor": "white",
             "linecolor": "white",
             "minorgridcolor": "white",
             "startlinecolor": "#2a3f5f"
            },
            "type": "carpet"
           }
          ],
          "choropleth": [
           {
            "colorbar": {
             "outlinewidth": 0,
             "ticks": ""
            },
            "type": "choropleth"
           }
          ],
          "contour": [
           {
            "colorbar": {
             "outlinewidth": 0,
             "ticks": ""
            },
            "colorscale": [
             [
              0,
              "#0d0887"
             ],
             [
              0.1111111111111111,
              "#46039f"
             ],
             [
              0.2222222222222222,
              "#7201a8"
             ],
             [
              0.3333333333333333,
              "#9c179e"
             ],
             [
              0.4444444444444444,
              "#bd3786"
             ],
             [
              0.5555555555555556,
              "#d8576b"
             ],
             [
              0.6666666666666666,
              "#ed7953"
             ],
             [
              0.7777777777777778,
              "#fb9f3a"
             ],
             [
              0.8888888888888888,
              "#fdca26"
             ],
             [
              1,
              "#f0f921"
             ]
            ],
            "type": "contour"
           }
          ],
          "contourcarpet": [
           {
            "colorbar": {
             "outlinewidth": 0,
             "ticks": ""
            },
            "type": "contourcarpet"
           }
          ],
          "heatmap": [
           {
            "colorbar": {
             "outlinewidth": 0,
             "ticks": ""
            },
            "colorscale": [
             [
              0,
              "#0d0887"
             ],
             [
              0.1111111111111111,
              "#46039f"
             ],
             [
              0.2222222222222222,
              "#7201a8"
             ],
             [
              0.3333333333333333,
              "#9c179e"
             ],
             [
              0.4444444444444444,
              "#bd3786"
             ],
             [
              0.5555555555555556,
              "#d8576b"
             ],
             [
              0.6666666666666666,
              "#ed7953"
             ],
             [
              0.7777777777777778,
              "#fb9f3a"
             ],
             [
              0.8888888888888888,
              "#fdca26"
             ],
             [
              1,
              "#f0f921"
             ]
            ],
            "type": "heatmap"
           }
          ],
          "heatmapgl": [
           {
            "colorbar": {
             "outlinewidth": 0,
             "ticks": ""
            },
            "colorscale": [
             [
              0,
              "#0d0887"
             ],
             [
              0.1111111111111111,
              "#46039f"
             ],
             [
              0.2222222222222222,
              "#7201a8"
             ],
             [
              0.3333333333333333,
              "#9c179e"
             ],
             [
              0.4444444444444444,
              "#bd3786"
             ],
             [
              0.5555555555555556,
              "#d8576b"
             ],
             [
              0.6666666666666666,
              "#ed7953"
             ],
             [
              0.7777777777777778,
              "#fb9f3a"
             ],
             [
              0.8888888888888888,
              "#fdca26"
             ],
             [
              1,
              "#f0f921"
             ]
            ],
            "type": "heatmapgl"
           }
          ],
          "histogram": [
           {
            "marker": {
             "colorbar": {
              "outlinewidth": 0,
              "ticks": ""
             }
            },
            "type": "histogram"
           }
          ],
          "histogram2d": [
           {
            "colorbar": {
             "outlinewidth": 0,
             "ticks": ""
            },
            "colorscale": [
             [
              0,
              "#0d0887"
             ],
             [
              0.1111111111111111,
              "#46039f"
             ],
             [
              0.2222222222222222,
              "#7201a8"
             ],
             [
              0.3333333333333333,
              "#9c179e"
             ],
             [
              0.4444444444444444,
              "#bd3786"
             ],
             [
              0.5555555555555556,
              "#d8576b"
             ],
             [
              0.6666666666666666,
              "#ed7953"
             ],
             [
              0.7777777777777778,
              "#fb9f3a"
             ],
             [
              0.8888888888888888,
              "#fdca26"
             ],
             [
              1,
              "#f0f921"
             ]
            ],
            "type": "histogram2d"
           }
          ],
          "histogram2dcontour": [
           {
            "colorbar": {
             "outlinewidth": 0,
             "ticks": ""
            },
            "colorscale": [
             [
              0,
              "#0d0887"
             ],
             [
              0.1111111111111111,
              "#46039f"
             ],
             [
              0.2222222222222222,
              "#7201a8"
             ],
             [
              0.3333333333333333,
              "#9c179e"
             ],
             [
              0.4444444444444444,
              "#bd3786"
             ],
             [
              0.5555555555555556,
              "#d8576b"
             ],
             [
              0.6666666666666666,
              "#ed7953"
             ],
             [
              0.7777777777777778,
              "#fb9f3a"
             ],
             [
              0.8888888888888888,
              "#fdca26"
             ],
             [
              1,
              "#f0f921"
             ]
            ],
            "type": "histogram2dcontour"
           }
          ],
          "mesh3d": [
           {
            "colorbar": {
             "outlinewidth": 0,
             "ticks": ""
            },
            "type": "mesh3d"
           }
          ],
          "parcoords": [
           {
            "line": {
             "colorbar": {
              "outlinewidth": 0,
              "ticks": ""
             }
            },
            "type": "parcoords"
           }
          ],
          "pie": [
           {
            "automargin": true,
            "type": "pie"
           }
          ],
          "scatter": [
           {
            "marker": {
             "colorbar": {
              "outlinewidth": 0,
              "ticks": ""
             }
            },
            "type": "scatter"
           }
          ],
          "scatter3d": [
           {
            "line": {
             "colorbar": {
              "outlinewidth": 0,
              "ticks": ""
             }
            },
            "marker": {
             "colorbar": {
              "outlinewidth": 0,
              "ticks": ""
             }
            },
            "type": "scatter3d"
           }
          ],
          "scattercarpet": [
           {
            "marker": {
             "colorbar": {
              "outlinewidth": 0,
              "ticks": ""
             }
            },
            "type": "scattercarpet"
           }
          ],
          "scattergeo": [
           {
            "marker": {
             "colorbar": {
              "outlinewidth": 0,
              "ticks": ""
             }
            },
            "type": "scattergeo"
           }
          ],
          "scattergl": [
           {
            "marker": {
             "colorbar": {
              "outlinewidth": 0,
              "ticks": ""
             }
            },
            "type": "scattergl"
           }
          ],
          "scattermapbox": [
           {
            "marker": {
             "colorbar": {
              "outlinewidth": 0,
              "ticks": ""
             }
            },
            "type": "scattermapbox"
           }
          ],
          "scatterpolar": [
           {
            "marker": {
             "colorbar": {
              "outlinewidth": 0,
              "ticks": ""
             }
            },
            "type": "scatterpolar"
           }
          ],
          "scatterpolargl": [
           {
            "marker": {
             "colorbar": {
              "outlinewidth": 0,
              "ticks": ""
             }
            },
            "type": "scatterpolargl"
           }
          ],
          "scatterternary": [
           {
            "marker": {
             "colorbar": {
              "outlinewidth": 0,
              "ticks": ""
             }
            },
            "type": "scatterternary"
           }
          ],
          "surface": [
           {
            "colorbar": {
             "outlinewidth": 0,
             "ticks": ""
            },
            "colorscale": [
             [
              0,
              "#0d0887"
             ],
             [
              0.1111111111111111,
              "#46039f"
             ],
             [
              0.2222222222222222,
              "#7201a8"
             ],
             [
              0.3333333333333333,
              "#9c179e"
             ],
             [
              0.4444444444444444,
              "#bd3786"
             ],
             [
              0.5555555555555556,
              "#d8576b"
             ],
             [
              0.6666666666666666,
              "#ed7953"
             ],
             [
              0.7777777777777778,
              "#fb9f3a"
             ],
             [
              0.8888888888888888,
              "#fdca26"
             ],
             [
              1,
              "#f0f921"
             ]
            ],
            "type": "surface"
           }
          ],
          "table": [
           {
            "cells": {
             "fill": {
              "color": "#EBF0F8"
             },
             "line": {
              "color": "white"
             }
            },
            "header": {
             "fill": {
              "color": "#C8D4E3"
             },
             "line": {
              "color": "white"
             }
            },
            "type": "table"
           }
          ]
         },
         "layout": {
          "annotationdefaults": {
           "arrowcolor": "#2a3f5f",
           "arrowhead": 0,
           "arrowwidth": 1
          },
          "autotypenumbers": "strict",
          "coloraxis": {
           "colorbar": {
            "outlinewidth": 0,
            "ticks": ""
           }
          },
          "colorscale": {
           "diverging": [
            [
             0,
             "#8e0152"
            ],
            [
             0.1,
             "#c51b7d"
            ],
            [
             0.2,
             "#de77ae"
            ],
            [
             0.3,
             "#f1b6da"
            ],
            [
             0.4,
             "#fde0ef"
            ],
            [
             0.5,
             "#f7f7f7"
            ],
            [
             0.6,
             "#e6f5d0"
            ],
            [
             0.7,
             "#b8e186"
            ],
            [
             0.8,
             "#7fbc41"
            ],
            [
             0.9,
             "#4d9221"
            ],
            [
             1,
             "#276419"
            ]
           ],
           "sequential": [
            [
             0,
             "#0d0887"
            ],
            [
             0.1111111111111111,
             "#46039f"
            ],
            [
             0.2222222222222222,
             "#7201a8"
            ],
            [
             0.3333333333333333,
             "#9c179e"
            ],
            [
             0.4444444444444444,
             "#bd3786"
            ],
            [
             0.5555555555555556,
             "#d8576b"
            ],
            [
             0.6666666666666666,
             "#ed7953"
            ],
            [
             0.7777777777777778,
             "#fb9f3a"
            ],
            [
             0.8888888888888888,
             "#fdca26"
            ],
            [
             1,
             "#f0f921"
            ]
           ],
           "sequentialminus": [
            [
             0,
             "#0d0887"
            ],
            [
             0.1111111111111111,
             "#46039f"
            ],
            [
             0.2222222222222222,
             "#7201a8"
            ],
            [
             0.3333333333333333,
             "#9c179e"
            ],
            [
             0.4444444444444444,
             "#bd3786"
            ],
            [
             0.5555555555555556,
             "#d8576b"
            ],
            [
             0.6666666666666666,
             "#ed7953"
            ],
            [
             0.7777777777777778,
             "#fb9f3a"
            ],
            [
             0.8888888888888888,
             "#fdca26"
            ],
            [
             1,
             "#f0f921"
            ]
           ]
          },
          "colorway": [
           "#636efa",
           "#EF553B",
           "#00cc96",
           "#ab63fa",
           "#FFA15A",
           "#19d3f3",
           "#FF6692",
           "#B6E880",
           "#FF97FF",
           "#FECB52"
          ],
          "font": {
           "color": "#2a3f5f"
          },
          "geo": {
           "bgcolor": "white",
           "lakecolor": "white",
           "landcolor": "#E5ECF6",
           "showlakes": true,
           "showland": true,
           "subunitcolor": "white"
          },
          "hoverlabel": {
           "align": "left"
          },
          "hovermode": "closest",
          "mapbox": {
           "style": "light"
          },
          "paper_bgcolor": "white",
          "plot_bgcolor": "#E5ECF6",
          "polar": {
           "angularaxis": {
            "gridcolor": "white",
            "linecolor": "white",
            "ticks": ""
           },
           "bgcolor": "#E5ECF6",
           "radialaxis": {
            "gridcolor": "white",
            "linecolor": "white",
            "ticks": ""
           }
          },
          "scene": {
           "xaxis": {
            "backgroundcolor": "#E5ECF6",
            "gridcolor": "white",
            "gridwidth": 2,
            "linecolor": "white",
            "showbackground": true,
            "ticks": "",
            "zerolinecolor": "white"
           },
           "yaxis": {
            "backgroundcolor": "#E5ECF6",
            "gridcolor": "white",
            "gridwidth": 2,
            "linecolor": "white",
            "showbackground": true,
            "ticks": "",
            "zerolinecolor": "white"
           },
           "zaxis": {
            "backgroundcolor": "#E5ECF6",
            "gridcolor": "white",
            "gridwidth": 2,
            "linecolor": "white",
            "showbackground": true,
            "ticks": "",
            "zerolinecolor": "white"
           }
          },
          "shapedefaults": {
           "line": {
            "color": "#2a3f5f"
           }
          },
          "ternary": {
           "aaxis": {
            "gridcolor": "white",
            "linecolor": "white",
            "ticks": ""
           },
           "baxis": {
            "gridcolor": "white",
            "linecolor": "white",
            "ticks": ""
           },
           "bgcolor": "#E5ECF6",
           "caxis": {
            "gridcolor": "white",
            "linecolor": "white",
            "ticks": ""
           }
          },
          "title": {
           "x": 0.05
          },
          "xaxis": {
           "automargin": true,
           "gridcolor": "white",
           "linecolor": "white",
           "ticks": "",
           "title": {
            "standoff": 15
           },
           "zerolinecolor": "white",
           "zerolinewidth": 2
          },
          "yaxis": {
           "automargin": true,
           "gridcolor": "white",
           "linecolor": "white",
           "ticks": "",
           "title": {
            "standoff": 15
           },
           "zerolinecolor": "white",
           "zerolinewidth": 2
          }
         }
        },
        "xaxis": {
         "anchor": "y",
         "domain": [
          0,
          0.16799999999999998
         ],
         "range": [
          -2,
          2
         ]
        },
        "xaxis2": {
         "anchor": "y2",
         "domain": [
          0.208,
          0.376
         ],
         "range": [
          -2,
          2
         ]
        },
        "xaxis3": {
         "anchor": "y3",
         "domain": [
          0.416,
          0.584
         ],
         "range": [
          -2,
          2
         ]
        },
        "xaxis4": {
         "anchor": "y4",
         "domain": [
          0.624,
          0.792
         ],
         "range": [
          -2,
          2
         ]
        },
        "xaxis5": {
         "anchor": "y5",
         "domain": [
          0.832,
          1
         ],
         "range": [
          -2,
          2
         ]
        },
        "yaxis": {
         "anchor": "x",
         "domain": [
          0,
          1
         ]
        },
        "yaxis2": {
         "anchor": "x2",
         "domain": [
          0,
          1
         ]
        },
        "yaxis3": {
         "anchor": "x3",
         "domain": [
          0,
          1
         ]
        },
        "yaxis4": {
         "anchor": "x4",
         "domain": [
          0,
          1
         ]
        },
        "yaxis5": {
         "anchor": "x5",
         "domain": [
          0,
          1
         ]
        }
       }
      },
      "text/html": [
       "<div>                            <div id=\"e295c2a6-6753-4a7c-9121-26a059c74985\" class=\"plotly-graph-div\" style=\"height:525px; width:100%;\"></div>            <script type=\"text/javascript\">                require([\"plotly\"], function(Plotly) {                    window.PLOTLYENV=window.PLOTLYENV || {};                                    if (document.getElementById(\"e295c2a6-6753-4a7c-9121-26a059c74985\")) {                    Plotly.newPlot(                        \"e295c2a6-6753-4a7c-9121-26a059c74985\",                        [{\"orientation\": \"h\", \"type\": \"bar\", \"x\": [-17.76661122829984, -1.4755668456002475, -0.9527472317072797, -0.5247583778554922, -0.10801135783679416, -0.012334593916573577, 0.0006922246403446992, 0.009311683273793885, 0.02055862636706762, 0.046420458366881814, 0.30604947898515594, 2.6867338193448873, 3.809865206809211], \"xaxis\": \"x\", \"y\": [\"NOX\", \"DIS\", \"PTRATIO\", \"LSTAT\", \"CRIM\", \"TAX\", \"AGE\", \"B\", \"INDUS\", \"ZN\", \"RAD\", \"CHAS\", \"RM\"], \"yaxis\": \"y\"}, {\"orientation\": \"h\", \"type\": \"bar\", \"x\": [-16.684645231856248, -1.4596255697013574, -0.9407585407258704, -0.525966203065629, -0.10747372032822641, -0.012420591042128547, -0.0002690605984917631, 0.009368074613793097, 0.015998998160852526, 0.04657163659157776, 0.3035152660175763, 2.670018588405279, 3.8182332173071787], \"xaxis\": \"x2\", \"y\": [\"NOX\", \"DIS\", \"PTRATIO\", \"LSTAT\", \"CRIM\", \"TAX\", \"AGE\", \"B\", \"INDUS\", \"ZN\", \"RAD\", \"CHAS\", \"RM\"], \"yaxis\": \"y2\"}, {\"orientation\": \"h\", \"type\": \"bar\", \"x\": [-10.777014648164442, -1.3726535250455079, -0.876074393829159, -0.5333432253389853, -0.10459527842441295, -0.012911646303983207, -0.00880467888633001, -0.005414538098998888, 0.009673279451802701, 0.04744322433513775, 0.2901415888480309, 2.5523932187040135, 3.854000198298652], \"xaxis\": \"x3\", \"y\": [\"NOX\", \"DIS\", \"PTRATIO\", \"LSTAT\", \"CRIM\", \"TAX\", \"INDUS\", \"AGE\", \"B\", \"ZN\", \"RAD\", \"CHAS\", \"RM\"], \"yaxis\": \"y3\"}, {\"orientation\": \"h\", \"type\": \"bar\", \"x\": [-2.3716189615754786, -1.2488082128636517, -0.7979449751505189, -0.5593664222657863, -0.10143535010820233, -0.04296239915928067, -0.013993131891498306, -0.010707347185546482, 0.010036842143759658, 0.049579097364934696, 0.2795955982679738, 1.9520208232677192, 3.7022720695011566], \"xaxis\": \"x4\", \"y\": [\"NOX\", \"DIS\", \"PTRATIO\", \"LSTAT\", \"CRIM\", \"INDUS\", \"TAX\", \"AGE\", \"B\", \"ZN\", \"RAD\", \"CHAS\", \"RM\"], \"yaxis\": \"y4\"}, {\"orientation\": \"h\", \"type\": \"bar\", \"x\": [-1.1533898902377877, -0.8292178785355487, -0.6607638276989476, -0.2628470339019671, -0.10220158483305262, -0.052826304580564, -0.01585575717375459, 0.0012116895517543917, 0.009392609956456003, 0.05449648064441827, 0.31535757904361894, 0.6383348355824862, 2.334535785331552], \"xaxis\": \"x5\", \"y\": [\"DIS\", \"PTRATIO\", \"LSTAT\", \"NOX\", \"CRIM\", \"INDUS\", \"TAX\", \"AGE\", \"B\", \"ZN\", \"RAD\", \"CHAS\", \"RM\"], \"yaxis\": \"y5\"}],                        {\"annotations\": [{\"font\": {\"size\": 16}, \"showarrow\": false, \"text\": \"alpha 0\", \"x\": 0.08399999999999999, \"xanchor\": \"center\", \"xref\": \"paper\", \"y\": 1.0, \"yanchor\": \"bottom\", \"yref\": \"paper\"}, {\"font\": {\"size\": 16}, \"showarrow\": false, \"text\": \"alpha 0.1\", \"x\": 0.292, \"xanchor\": \"center\", \"xref\": \"paper\", \"y\": 1.0, \"yanchor\": \"bottom\", \"yref\": \"paper\"}, {\"font\": {\"size\": 16}, \"showarrow\": false, \"text\": \"alpha 1\", \"x\": 0.5, \"xanchor\": \"center\", \"xref\": \"paper\", \"y\": 1.0, \"yanchor\": \"bottom\", \"yref\": \"paper\"}, {\"font\": {\"size\": 16}, \"showarrow\": false, \"text\": \"alpha 10\", \"x\": 0.708, \"xanchor\": \"center\", \"xref\": \"paper\", \"y\": 1.0, \"yanchor\": \"bottom\", \"yref\": \"paper\"}, {\"font\": {\"size\": 16}, \"showarrow\": false, \"text\": \"alpha 100\", \"x\": 0.9159999999999999, \"xanchor\": \"center\", \"xref\": \"paper\", \"y\": 1.0, \"yanchor\": \"bottom\", \"yref\": \"paper\"}], \"template\": {\"data\": {\"bar\": [{\"error_x\": {\"color\": \"#2a3f5f\"}, \"error_y\": {\"color\": \"#2a3f5f\"}, \"marker\": {\"line\": {\"color\": \"#E5ECF6\", \"width\": 0.5}}, \"type\": \"bar\"}], \"barpolar\": [{\"marker\": {\"line\": {\"color\": \"#E5ECF6\", \"width\": 0.5}}, \"type\": \"barpolar\"}], \"carpet\": [{\"aaxis\": {\"endlinecolor\": \"#2a3f5f\", \"gridcolor\": \"white\", \"linecolor\": \"white\", \"minorgridcolor\": \"white\", \"startlinecolor\": \"#2a3f5f\"}, \"baxis\": {\"endlinecolor\": \"#2a3f5f\", \"gridcolor\": \"white\", \"linecolor\": \"white\", \"minorgridcolor\": \"white\", \"startlinecolor\": \"#2a3f5f\"}, \"type\": \"carpet\"}], \"choropleth\": [{\"colorbar\": {\"outlinewidth\": 0, \"ticks\": \"\"}, \"type\": \"choropleth\"}], \"contour\": [{\"colorbar\": {\"outlinewidth\": 0, \"ticks\": \"\"}, \"colorscale\": [[0.0, \"#0d0887\"], [0.1111111111111111, \"#46039f\"], [0.2222222222222222, \"#7201a8\"], [0.3333333333333333, \"#9c179e\"], [0.4444444444444444, \"#bd3786\"], [0.5555555555555556, \"#d8576b\"], [0.6666666666666666, \"#ed7953\"], [0.7777777777777778, \"#fb9f3a\"], [0.8888888888888888, \"#fdca26\"], [1.0, \"#f0f921\"]], \"type\": \"contour\"}], \"contourcarpet\": [{\"colorbar\": {\"outlinewidth\": 0, \"ticks\": \"\"}, \"type\": \"contourcarpet\"}], \"heatmap\": [{\"colorbar\": {\"outlinewidth\": 0, \"ticks\": \"\"}, \"colorscale\": [[0.0, \"#0d0887\"], [0.1111111111111111, \"#46039f\"], [0.2222222222222222, \"#7201a8\"], [0.3333333333333333, \"#9c179e\"], [0.4444444444444444, \"#bd3786\"], [0.5555555555555556, \"#d8576b\"], [0.6666666666666666, \"#ed7953\"], [0.7777777777777778, \"#fb9f3a\"], [0.8888888888888888, \"#fdca26\"], [1.0, \"#f0f921\"]], \"type\": \"heatmap\"}], \"heatmapgl\": [{\"colorbar\": {\"outlinewidth\": 0, \"ticks\": \"\"}, \"colorscale\": [[0.0, \"#0d0887\"], [0.1111111111111111, \"#46039f\"], [0.2222222222222222, \"#7201a8\"], [0.3333333333333333, \"#9c179e\"], [0.4444444444444444, \"#bd3786\"], [0.5555555555555556, \"#d8576b\"], [0.6666666666666666, \"#ed7953\"], [0.7777777777777778, \"#fb9f3a\"], [0.8888888888888888, \"#fdca26\"], [1.0, \"#f0f921\"]], \"type\": \"heatmapgl\"}], \"histogram\": [{\"marker\": {\"colorbar\": {\"outlinewidth\": 0, \"ticks\": \"\"}}, \"type\": \"histogram\"}], \"histogram2d\": [{\"colorbar\": {\"outlinewidth\": 0, \"ticks\": \"\"}, \"colorscale\": [[0.0, \"#0d0887\"], [0.1111111111111111, \"#46039f\"], [0.2222222222222222, \"#7201a8\"], [0.3333333333333333, \"#9c179e\"], [0.4444444444444444, \"#bd3786\"], [0.5555555555555556, \"#d8576b\"], [0.6666666666666666, \"#ed7953\"], [0.7777777777777778, \"#fb9f3a\"], [0.8888888888888888, \"#fdca26\"], [1.0, \"#f0f921\"]], \"type\": \"histogram2d\"}], \"histogram2dcontour\": [{\"colorbar\": {\"outlinewidth\": 0, \"ticks\": \"\"}, \"colorscale\": [[0.0, \"#0d0887\"], [0.1111111111111111, \"#46039f\"], [0.2222222222222222, \"#7201a8\"], [0.3333333333333333, \"#9c179e\"], [0.4444444444444444, \"#bd3786\"], [0.5555555555555556, \"#d8576b\"], [0.6666666666666666, \"#ed7953\"], [0.7777777777777778, \"#fb9f3a\"], [0.8888888888888888, \"#fdca26\"], [1.0, \"#f0f921\"]], \"type\": \"histogram2dcontour\"}], \"mesh3d\": [{\"colorbar\": {\"outlinewidth\": 0, \"ticks\": \"\"}, \"type\": \"mesh3d\"}], \"parcoords\": [{\"line\": {\"colorbar\": {\"outlinewidth\": 0, \"ticks\": \"\"}}, \"type\": \"parcoords\"}], \"pie\": [{\"automargin\": true, \"type\": \"pie\"}], \"scatter\": [{\"marker\": {\"colorbar\": {\"outlinewidth\": 0, \"ticks\": \"\"}}, \"type\": \"scatter\"}], \"scatter3d\": [{\"line\": {\"colorbar\": {\"outlinewidth\": 0, \"ticks\": \"\"}}, \"marker\": {\"colorbar\": {\"outlinewidth\": 0, \"ticks\": \"\"}}, \"type\": \"scatter3d\"}], \"scattercarpet\": [{\"marker\": {\"colorbar\": {\"outlinewidth\": 0, \"ticks\": \"\"}}, \"type\": \"scattercarpet\"}], \"scattergeo\": [{\"marker\": {\"colorbar\": {\"outlinewidth\": 0, \"ticks\": \"\"}}, \"type\": \"scattergeo\"}], \"scattergl\": [{\"marker\": {\"colorbar\": {\"outlinewidth\": 0, \"ticks\": \"\"}}, \"type\": \"scattergl\"}], \"scattermapbox\": [{\"marker\": {\"colorbar\": {\"outlinewidth\": 0, \"ticks\": \"\"}}, \"type\": \"scattermapbox\"}], \"scatterpolar\": [{\"marker\": {\"colorbar\": {\"outlinewidth\": 0, \"ticks\": \"\"}}, \"type\": \"scatterpolar\"}], \"scatterpolargl\": [{\"marker\": {\"colorbar\": {\"outlinewidth\": 0, \"ticks\": \"\"}}, \"type\": \"scatterpolargl\"}], \"scatterternary\": [{\"marker\": {\"colorbar\": {\"outlinewidth\": 0, \"ticks\": \"\"}}, \"type\": \"scatterternary\"}], \"surface\": [{\"colorbar\": {\"outlinewidth\": 0, \"ticks\": \"\"}, \"colorscale\": [[0.0, \"#0d0887\"], [0.1111111111111111, \"#46039f\"], [0.2222222222222222, \"#7201a8\"], [0.3333333333333333, \"#9c179e\"], [0.4444444444444444, \"#bd3786\"], [0.5555555555555556, \"#d8576b\"], [0.6666666666666666, \"#ed7953\"], [0.7777777777777778, \"#fb9f3a\"], [0.8888888888888888, \"#fdca26\"], [1.0, \"#f0f921\"]], \"type\": \"surface\"}], \"table\": [{\"cells\": {\"fill\": {\"color\": \"#EBF0F8\"}, \"line\": {\"color\": \"white\"}}, \"header\": {\"fill\": {\"color\": \"#C8D4E3\"}, \"line\": {\"color\": \"white\"}}, \"type\": \"table\"}]}, \"layout\": {\"annotationdefaults\": {\"arrowcolor\": \"#2a3f5f\", \"arrowhead\": 0, \"arrowwidth\": 1}, \"autotypenumbers\": \"strict\", \"coloraxis\": {\"colorbar\": {\"outlinewidth\": 0, \"ticks\": \"\"}}, \"colorscale\": {\"diverging\": [[0, \"#8e0152\"], [0.1, \"#c51b7d\"], [0.2, \"#de77ae\"], [0.3, \"#f1b6da\"], [0.4, \"#fde0ef\"], [0.5, \"#f7f7f7\"], [0.6, \"#e6f5d0\"], [0.7, \"#b8e186\"], [0.8, \"#7fbc41\"], [0.9, \"#4d9221\"], [1, \"#276419\"]], \"sequential\": [[0.0, \"#0d0887\"], [0.1111111111111111, \"#46039f\"], [0.2222222222222222, \"#7201a8\"], [0.3333333333333333, \"#9c179e\"], [0.4444444444444444, \"#bd3786\"], [0.5555555555555556, \"#d8576b\"], [0.6666666666666666, \"#ed7953\"], [0.7777777777777778, \"#fb9f3a\"], [0.8888888888888888, \"#fdca26\"], [1.0, \"#f0f921\"]], \"sequentialminus\": [[0.0, \"#0d0887\"], [0.1111111111111111, \"#46039f\"], [0.2222222222222222, \"#7201a8\"], [0.3333333333333333, \"#9c179e\"], [0.4444444444444444, \"#bd3786\"], [0.5555555555555556, \"#d8576b\"], [0.6666666666666666, \"#ed7953\"], [0.7777777777777778, \"#fb9f3a\"], [0.8888888888888888, \"#fdca26\"], [1.0, \"#f0f921\"]]}, \"colorway\": [\"#636efa\", \"#EF553B\", \"#00cc96\", \"#ab63fa\", \"#FFA15A\", \"#19d3f3\", \"#FF6692\", \"#B6E880\", \"#FF97FF\", \"#FECB52\"], \"font\": {\"color\": \"#2a3f5f\"}, \"geo\": {\"bgcolor\": \"white\", \"lakecolor\": \"white\", \"landcolor\": \"#E5ECF6\", \"showlakes\": true, \"showland\": true, \"subunitcolor\": \"white\"}, \"hoverlabel\": {\"align\": \"left\"}, \"hovermode\": \"closest\", \"mapbox\": {\"style\": \"light\"}, \"paper_bgcolor\": \"white\", \"plot_bgcolor\": \"#E5ECF6\", \"polar\": {\"angularaxis\": {\"gridcolor\": \"white\", \"linecolor\": \"white\", \"ticks\": \"\"}, \"bgcolor\": \"#E5ECF6\", \"radialaxis\": {\"gridcolor\": \"white\", \"linecolor\": \"white\", \"ticks\": \"\"}}, \"scene\": {\"xaxis\": {\"backgroundcolor\": \"#E5ECF6\", \"gridcolor\": \"white\", \"gridwidth\": 2, \"linecolor\": \"white\", \"showbackground\": true, \"ticks\": \"\", \"zerolinecolor\": \"white\"}, \"yaxis\": {\"backgroundcolor\": \"#E5ECF6\", \"gridcolor\": \"white\", \"gridwidth\": 2, \"linecolor\": \"white\", \"showbackground\": true, \"ticks\": \"\", \"zerolinecolor\": \"white\"}, \"zaxis\": {\"backgroundcolor\": \"#E5ECF6\", \"gridcolor\": \"white\", \"gridwidth\": 2, \"linecolor\": \"white\", \"showbackground\": true, \"ticks\": \"\", \"zerolinecolor\": \"white\"}}, \"shapedefaults\": {\"line\": {\"color\": \"#2a3f5f\"}}, \"ternary\": {\"aaxis\": {\"gridcolor\": \"white\", \"linecolor\": \"white\", \"ticks\": \"\"}, \"baxis\": {\"gridcolor\": \"white\", \"linecolor\": \"white\", \"ticks\": \"\"}, \"bgcolor\": \"#E5ECF6\", \"caxis\": {\"gridcolor\": \"white\", \"linecolor\": \"white\", \"ticks\": \"\"}}, \"title\": {\"x\": 0.05}, \"xaxis\": {\"automargin\": true, \"gridcolor\": \"white\", \"linecolor\": \"white\", \"ticks\": \"\", \"title\": {\"standoff\": 15}, \"zerolinecolor\": \"white\", \"zerolinewidth\": 2}, \"yaxis\": {\"automargin\": true, \"gridcolor\": \"white\", \"linecolor\": \"white\", \"ticks\": \"\", \"title\": {\"standoff\": 15}, \"zerolinecolor\": \"white\", \"zerolinewidth\": 2}}}, \"xaxis\": {\"anchor\": \"y\", \"domain\": [0.0, 0.16799999999999998], \"range\": [-2, 2]}, \"xaxis2\": {\"anchor\": \"y2\", \"domain\": [0.208, 0.376], \"range\": [-2, 2]}, \"xaxis3\": {\"anchor\": \"y3\", \"domain\": [0.416, 0.584], \"range\": [-2, 2]}, \"xaxis4\": {\"anchor\": \"y4\", \"domain\": [0.624, 0.792], \"range\": [-2, 2]}, \"xaxis5\": {\"anchor\": \"y5\", \"domain\": [0.832, 1.0], \"range\": [-2, 2]}, \"yaxis\": {\"anchor\": \"x\", \"domain\": [0.0, 1.0]}, \"yaxis2\": {\"anchor\": \"x2\", \"domain\": [0.0, 1.0]}, \"yaxis3\": {\"anchor\": \"x3\", \"domain\": [0.0, 1.0]}, \"yaxis4\": {\"anchor\": \"x4\", \"domain\": [0.0, 1.0]}, \"yaxis5\": {\"anchor\": \"x5\", \"domain\": [0.0, 1.0]}},                        {\"responsive\": true}                    ).then(function(){\n",
       "                            \n",
       "var gd = document.getElementById('e295c2a6-6753-4a7c-9121-26a059c74985');\n",
       "var x = new MutationObserver(function (mutations, observer) {{\n",
       "        var display = window.getComputedStyle(gd).display;\n",
       "        if (!display || display === 'none') {{\n",
       "            console.log([gd, 'removed!']);\n",
       "            Plotly.purge(gd);\n",
       "            observer.disconnect();\n",
       "        }}\n",
       "}});\n",
       "\n",
       "// Listen for the removal of the full notebook cells\n",
       "var notebookContainer = gd.closest('#notebook-container');\n",
       "if (notebookContainer) {{\n",
       "    x.observe(notebookContainer, {childList: true});\n",
       "}}\n",
       "\n",
       "// Listen for the clearing of the current output cell\n",
       "var outputEl = gd.closest('.output');\n",
       "if (outputEl) {{\n",
       "    x.observe(outputEl, {childList: true});\n",
       "}}\n",
       "\n",
       "                        })                };                });            </script>        </div>"
      ]
     },
     "metadata": {},
     "output_type": "display_data"
    }
   ],
   "source": [
    "from plotly.subplots import make_subplots\n",
    "import plotly.graph_objects as go\n",
    "\n",
    "fig = make_subplots(rows=1,cols=5,\n",
    "                        subplot_titles=(\"alpha 0\", \"alpha 0.1\", \"alpha 1\", \"alpha 10\",\"alpha 100\"))\n",
    "\n",
    "coeff_df = pd.DataFrame()\n",
    "\n",
    "for pos,alpha in enumerate(alphas):\n",
    "    ridge = Ridge(alpha=alpha)\n",
    "    ridge.fit(X_feature,y_label)\n",
    "    \n",
    "    # fit 시킨 뒤 회귀 계수로 Series 를 만든 뒤 DataFrame 에 각 alpha 따라 붙이기 \n",
    "    # Dataframe 의 index 는 boston dataset 의 feature 들 \n",
    "    coeff = pd.Series(data=ridge.coef_,index=X_feature.columns)\n",
    "    colname = 'alpha:'+str(alpha)\n",
    "    coeff_df[colname]=coeff\n",
    "    \n",
    "    \n",
    "    # 막대 그래프로 각 alpha 값에서의 피처별 회귀 계수를 시각화 , 높은 순으로 \n",
    "    coeff = coeff.sort_values(ascending=True)\n",
    "    \n",
    "    fig.add_trace(\n",
    "        go.Bar(x=coeff.values,y=coeff.index, orientation='h'),\n",
    "        row=1, col=pos+1\n",
    "    )\n",
    "    \n",
    "    fig.update_xaxes(range=[-2,2])\n",
    "\n",
    "fig.show()"
   ]
  },
  {
   "cell_type": "markdown",
   "metadata": {},
   "source": [
    "해당 그래프를 보면, alpha 값이 계속 증가 할 수록 회귀 계수 값은 지속적으로 작아짐을 알 수 있다."
   ]
  },
  {
   "cell_type": "code",
   "execution_count": 62,
   "metadata": {},
   "outputs": [
    {
     "data": {
      "text/html": [
       "<div>\n",
       "<style scoped>\n",
       "    .dataframe tbody tr th:only-of-type {\n",
       "        vertical-align: middle;\n",
       "    }\n",
       "\n",
       "    .dataframe tbody tr th {\n",
       "        vertical-align: top;\n",
       "    }\n",
       "\n",
       "    .dataframe thead th {\n",
       "        text-align: right;\n",
       "    }\n",
       "</style>\n",
       "<table border=\"1\" class=\"dataframe\">\n",
       "  <thead>\n",
       "    <tr style=\"text-align: right;\">\n",
       "      <th></th>\n",
       "      <th>alpha:0</th>\n",
       "      <th>alpha:0.1</th>\n",
       "      <th>alpha:1</th>\n",
       "      <th>alpha:10</th>\n",
       "      <th>alpha:100</th>\n",
       "    </tr>\n",
       "  </thead>\n",
       "  <tbody>\n",
       "    <tr>\n",
       "      <th>CRIM</th>\n",
       "      <td>-0.108011</td>\n",
       "      <td>-0.107474</td>\n",
       "      <td>-0.104595</td>\n",
       "      <td>-0.101435</td>\n",
       "      <td>-0.102202</td>\n",
       "    </tr>\n",
       "    <tr>\n",
       "      <th>ZN</th>\n",
       "      <td>0.046420</td>\n",
       "      <td>0.046572</td>\n",
       "      <td>0.047443</td>\n",
       "      <td>0.049579</td>\n",
       "      <td>0.054496</td>\n",
       "    </tr>\n",
       "    <tr>\n",
       "      <th>INDUS</th>\n",
       "      <td>0.020559</td>\n",
       "      <td>0.015999</td>\n",
       "      <td>-0.008805</td>\n",
       "      <td>-0.042962</td>\n",
       "      <td>-0.052826</td>\n",
       "    </tr>\n",
       "    <tr>\n",
       "      <th>CHAS</th>\n",
       "      <td>2.686734</td>\n",
       "      <td>2.670019</td>\n",
       "      <td>2.552393</td>\n",
       "      <td>1.952021</td>\n",
       "      <td>0.638335</td>\n",
       "    </tr>\n",
       "    <tr>\n",
       "      <th>NOX</th>\n",
       "      <td>-17.766611</td>\n",
       "      <td>-16.684645</td>\n",
       "      <td>-10.777015</td>\n",
       "      <td>-2.371619</td>\n",
       "      <td>-0.262847</td>\n",
       "    </tr>\n",
       "    <tr>\n",
       "      <th>RM</th>\n",
       "      <td>3.809865</td>\n",
       "      <td>3.818233</td>\n",
       "      <td>3.854000</td>\n",
       "      <td>3.702272</td>\n",
       "      <td>2.334536</td>\n",
       "    </tr>\n",
       "    <tr>\n",
       "      <th>AGE</th>\n",
       "      <td>0.000692</td>\n",
       "      <td>-0.000269</td>\n",
       "      <td>-0.005415</td>\n",
       "      <td>-0.010707</td>\n",
       "      <td>0.001212</td>\n",
       "    </tr>\n",
       "    <tr>\n",
       "      <th>DIS</th>\n",
       "      <td>-1.475567</td>\n",
       "      <td>-1.459626</td>\n",
       "      <td>-1.372654</td>\n",
       "      <td>-1.248808</td>\n",
       "      <td>-1.153390</td>\n",
       "    </tr>\n",
       "    <tr>\n",
       "      <th>RAD</th>\n",
       "      <td>0.306049</td>\n",
       "      <td>0.303515</td>\n",
       "      <td>0.290142</td>\n",
       "      <td>0.279596</td>\n",
       "      <td>0.315358</td>\n",
       "    </tr>\n",
       "    <tr>\n",
       "      <th>TAX</th>\n",
       "      <td>-0.012335</td>\n",
       "      <td>-0.012421</td>\n",
       "      <td>-0.012912</td>\n",
       "      <td>-0.013993</td>\n",
       "      <td>-0.015856</td>\n",
       "    </tr>\n",
       "    <tr>\n",
       "      <th>PTRATIO</th>\n",
       "      <td>-0.952747</td>\n",
       "      <td>-0.940759</td>\n",
       "      <td>-0.876074</td>\n",
       "      <td>-0.797945</td>\n",
       "      <td>-0.829218</td>\n",
       "    </tr>\n",
       "    <tr>\n",
       "      <th>B</th>\n",
       "      <td>0.009312</td>\n",
       "      <td>0.009368</td>\n",
       "      <td>0.009673</td>\n",
       "      <td>0.010037</td>\n",
       "      <td>0.009393</td>\n",
       "    </tr>\n",
       "    <tr>\n",
       "      <th>LSTAT</th>\n",
       "      <td>-0.524758</td>\n",
       "      <td>-0.525966</td>\n",
       "      <td>-0.533343</td>\n",
       "      <td>-0.559366</td>\n",
       "      <td>-0.660764</td>\n",
       "    </tr>\n",
       "  </tbody>\n",
       "</table>\n",
       "</div>"
      ],
      "text/plain": [
       "           alpha:0  alpha:0.1    alpha:1  alpha:10  alpha:100\n",
       "CRIM     -0.108011  -0.107474  -0.104595 -0.101435  -0.102202\n",
       "ZN        0.046420   0.046572   0.047443  0.049579   0.054496\n",
       "INDUS     0.020559   0.015999  -0.008805 -0.042962  -0.052826\n",
       "CHAS      2.686734   2.670019   2.552393  1.952021   0.638335\n",
       "NOX     -17.766611 -16.684645 -10.777015 -2.371619  -0.262847\n",
       "RM        3.809865   3.818233   3.854000  3.702272   2.334536\n",
       "AGE       0.000692  -0.000269  -0.005415 -0.010707   0.001212\n",
       "DIS      -1.475567  -1.459626  -1.372654 -1.248808  -1.153390\n",
       "RAD       0.306049   0.303515   0.290142  0.279596   0.315358\n",
       "TAX      -0.012335  -0.012421  -0.012912 -0.013993  -0.015856\n",
       "PTRATIO  -0.952747  -0.940759  -0.876074 -0.797945  -0.829218\n",
       "B         0.009312   0.009368   0.009673  0.010037   0.009393\n",
       "LSTAT    -0.524758  -0.525966  -0.533343 -0.559366  -0.660764"
      ]
     },
     "execution_count": 62,
     "metadata": {},
     "output_type": "execute_result"
    }
   ],
   "source": [
    "coeff_df"
   ]
  },
  {
   "cell_type": "markdown",
   "metadata": {},
   "source": [
    "## Lasso Regression\n",
    "\n",
    "\n",
    "__< What is Lasso >__\n",
    "\n",
    "W 의 절댓값에 페널티를 부여하는 L1 규제를 적용한 선형 회귀 <br><br>\n",
    "\n",
    "L2 규제가 회귀 계수의 크기를 감소 시키는데 반해, L1 규제는 <span style=\"color:red\">불필요한 회귀 계수를 급격하게 감소</span>시켜 0 으로 만들고 제거한다.<br>\n",
    "그래서 L1 규제는 적절한 피처만 회귀에 포함시키는 피처 선택의 특성을 가진다. <br><br>\n",
    "__< 예제 >__<br>\n",
    "* 이번에도 alpha 값을 변화 시키면서 RMSE 값과 각 피처의 회귀 계수에 대해 알아보자. <br>\n",
    "  이를 수행하기 위해 별도의 함수 get_linear_reg_eval() 를 만들었으며, 필요한 생성 파라미터는 변수명으로 명시해 두었다.\n",
    "  \n",
    "  \n",
    "* 릿지 회귀에서 사용했던 datset 을 그대로 사용"
   ]
  },
  {
   "cell_type": "code",
   "execution_count": 88,
   "metadata": {},
   "outputs": [],
   "source": [
    "from sklearn.linear_model import Lasso,ElasticNet\n",
    "\n",
    "def get_linear_reg_eval(model_name, params=None, X_feature=None, y_label=None, verbose=True , return_coeff=True):\n",
    "    \n",
    "    dataframe = pd.DataFrame()\n",
    "    \n",
    "    for param in params:\n",
    "        \n",
    "        if model_name == 'Ridge': model = Ridge(alpha=param)\n",
    "        if model_name == 'Lasso': model = Lasso(alpha=param)\n",
    "        if model_name == 'ElasticNet': model = ElasticNet(alpha=param, l1_ratio=0.7)\n",
    "            \n",
    "        # RMSE 예측 성능 \n",
    "        neg_mse_scores = cross_val_score(model,X_feature,y_label,scoring='neg_mean_squared_error',cv=5)\n",
    "        avg_rmse_score = np.mean(np.sqrt(neg_mse_scores *  -1))\n",
    "        \n",
    "        print('alpha {0} 일 때. 5 folds 의 평균 RMSE 값은 {1:.3f}'.format(param,avg_rmse_score),'\\n')\n",
    "        \n",
    "        # 회귀 계수 추출 \n",
    "        model.fit(X_feature,y_label)\n",
    "        \n",
    "        if return_coeff:\n",
    "            coeff = pd.Series(data=model.coef_,index=X_feature.columns)\n",
    "            colname = 'alpha:'+str(param)\n",
    "            dataframe[colname] = coeff\n",
    "            coeff = coeff.sort_values(ascending=True)\n",
    "\n",
    "    return dataframe"
   ]
  },
  {
   "cell_type": "code",
   "execution_count": 97,
   "metadata": {},
   "outputs": [
    {
     "name": "stdout",
     "output_type": "stream",
     "text": [
      "alpha 0.01 일 때. 5 folds 의 평균 RMSE 값은 5.740 \n",
      "\n",
      "alpha 0.05 일 때. 5 folds 의 평균 RMSE 값은 5.628 \n",
      "\n",
      "alpha 0.1 일 때. 5 folds 의 평균 RMSE 값은 5.615 \n",
      "\n",
      "alpha 0.3 일 때. 5 folds 의 평균 RMSE 값은 5.628 \n",
      "\n",
      "alpha 0.5 일 때. 5 folds 의 평균 RMSE 값은 5.669 \n",
      "\n",
      "alpha 1 일 때. 5 folds 의 평균 RMSE 값은 5.776 \n",
      "\n",
      "alpha 5 일 때. 5 folds 의 평균 RMSE 값은 6.375 \n",
      "\n"
     ]
    },
    {
     "data": {
      "text/html": [
       "<div>\n",
       "<style scoped>\n",
       "    .dataframe tbody tr th:only-of-type {\n",
       "        vertical-align: middle;\n",
       "    }\n",
       "\n",
       "    .dataframe tbody tr th {\n",
       "        vertical-align: top;\n",
       "    }\n",
       "\n",
       "    .dataframe thead th {\n",
       "        text-align: right;\n",
       "    }\n",
       "</style>\n",
       "<table border=\"1\" class=\"dataframe\">\n",
       "  <thead>\n",
       "    <tr style=\"text-align: right;\">\n",
       "      <th></th>\n",
       "      <th>alpha:0.01</th>\n",
       "      <th>alpha:0.05</th>\n",
       "      <th>alpha:0.1</th>\n",
       "      <th>alpha:0.3</th>\n",
       "      <th>alpha:0.5</th>\n",
       "      <th>alpha:1</th>\n",
       "      <th>alpha:5</th>\n",
       "    </tr>\n",
       "  </thead>\n",
       "  <tbody>\n",
       "    <tr>\n",
       "      <th>CRIM</th>\n",
       "      <td>-0.106228</td>\n",
       "      <td>-0.098935</td>\n",
       "      <td>-0.097894</td>\n",
       "      <td>-0.091461</td>\n",
       "      <td>-0.083289</td>\n",
       "      <td>-0.063437</td>\n",
       "      <td>-0.000000</td>\n",
       "    </tr>\n",
       "    <tr>\n",
       "      <th>ZN</th>\n",
       "      <td>0.046860</td>\n",
       "      <td>0.048826</td>\n",
       "      <td>0.049211</td>\n",
       "      <td>0.049744</td>\n",
       "      <td>0.049544</td>\n",
       "      <td>0.049165</td>\n",
       "      <td>0.038467</td>\n",
       "    </tr>\n",
       "    <tr>\n",
       "      <th>INDUS</th>\n",
       "      <td>0.006474</td>\n",
       "      <td>-0.041355</td>\n",
       "      <td>-0.036619</td>\n",
       "      <td>-0.017829</td>\n",
       "      <td>-0.005253</td>\n",
       "      <td>-0.000000</td>\n",
       "      <td>-0.000000</td>\n",
       "    </tr>\n",
       "    <tr>\n",
       "      <th>CHAS</th>\n",
       "      <td>2.504190</td>\n",
       "      <td>1.761631</td>\n",
       "      <td>0.955190</td>\n",
       "      <td>0.000000</td>\n",
       "      <td>0.000000</td>\n",
       "      <td>0.000000</td>\n",
       "      <td>0.000000</td>\n",
       "    </tr>\n",
       "    <tr>\n",
       "      <th>NOX</th>\n",
       "      <td>-14.394478</td>\n",
       "      <td>-1.044929</td>\n",
       "      <td>-0.000000</td>\n",
       "      <td>-0.000000</td>\n",
       "      <td>-0.000000</td>\n",
       "      <td>-0.000000</td>\n",
       "      <td>0.000000</td>\n",
       "    </tr>\n",
       "    <tr>\n",
       "      <th>RM</th>\n",
       "      <td>3.814186</td>\n",
       "      <td>3.836618</td>\n",
       "      <td>3.703202</td>\n",
       "      <td>3.095828</td>\n",
       "      <td>2.498212</td>\n",
       "      <td>0.949811</td>\n",
       "      <td>0.000000</td>\n",
       "    </tr>\n",
       "    <tr>\n",
       "      <th>AGE</th>\n",
       "      <td>-0.001818</td>\n",
       "      <td>-0.011858</td>\n",
       "      <td>-0.010037</td>\n",
       "      <td>-0.000963</td>\n",
       "      <td>0.003604</td>\n",
       "      <td>0.020910</td>\n",
       "      <td>0.031679</td>\n",
       "    </tr>\n",
       "    <tr>\n",
       "      <th>DIS</th>\n",
       "      <td>-1.422155</td>\n",
       "      <td>-1.202690</td>\n",
       "      <td>-1.160538</td>\n",
       "      <td>-1.040480</td>\n",
       "      <td>-0.936605</td>\n",
       "      <td>-0.668790</td>\n",
       "      <td>-0.000000</td>\n",
       "    </tr>\n",
       "    <tr>\n",
       "      <th>RAD</th>\n",
       "      <td>0.298526</td>\n",
       "      <td>0.271034</td>\n",
       "      <td>0.274707</td>\n",
       "      <td>0.280509</td>\n",
       "      <td>0.277451</td>\n",
       "      <td>0.264206</td>\n",
       "      <td>0.000000</td>\n",
       "    </tr>\n",
       "    <tr>\n",
       "      <th>TAX</th>\n",
       "      <td>-0.012627</td>\n",
       "      <td>-0.014028</td>\n",
       "      <td>-0.014570</td>\n",
       "      <td>-0.015277</td>\n",
       "      <td>-0.015442</td>\n",
       "      <td>-0.015212</td>\n",
       "      <td>-0.007669</td>\n",
       "    </tr>\n",
       "    <tr>\n",
       "      <th>PTRATIO</th>\n",
       "      <td>-0.916369</td>\n",
       "      <td>-0.773205</td>\n",
       "      <td>-0.770654</td>\n",
       "      <td>-0.772002</td>\n",
       "      <td>-0.758752</td>\n",
       "      <td>-0.722966</td>\n",
       "      <td>-0.000000</td>\n",
       "    </tr>\n",
       "    <tr>\n",
       "      <th>B</th>\n",
       "      <td>0.009485</td>\n",
       "      <td>0.010193</td>\n",
       "      <td>0.010249</td>\n",
       "      <td>0.009913</td>\n",
       "      <td>0.009469</td>\n",
       "      <td>0.008247</td>\n",
       "      <td>0.006286</td>\n",
       "    </tr>\n",
       "    <tr>\n",
       "      <th>LSTAT</th>\n",
       "      <td>-0.530481</td>\n",
       "      <td>-0.553925</td>\n",
       "      <td>-0.568769</td>\n",
       "      <td>-0.616818</td>\n",
       "      <td>-0.656290</td>\n",
       "      <td>-0.761115</td>\n",
       "      <td>-0.747258</td>\n",
       "    </tr>\n",
       "  </tbody>\n",
       "</table>\n",
       "</div>"
      ],
      "text/plain": [
       "         alpha:0.01  alpha:0.05  alpha:0.1  alpha:0.3  alpha:0.5   alpha:1  \\\n",
       "CRIM      -0.106228   -0.098935  -0.097894  -0.091461  -0.083289 -0.063437   \n",
       "ZN         0.046860    0.048826   0.049211   0.049744   0.049544  0.049165   \n",
       "INDUS      0.006474   -0.041355  -0.036619  -0.017829  -0.005253 -0.000000   \n",
       "CHAS       2.504190    1.761631   0.955190   0.000000   0.000000  0.000000   \n",
       "NOX      -14.394478   -1.044929  -0.000000  -0.000000  -0.000000 -0.000000   \n",
       "RM         3.814186    3.836618   3.703202   3.095828   2.498212  0.949811   \n",
       "AGE       -0.001818   -0.011858  -0.010037  -0.000963   0.003604  0.020910   \n",
       "DIS       -1.422155   -1.202690  -1.160538  -1.040480  -0.936605 -0.668790   \n",
       "RAD        0.298526    0.271034   0.274707   0.280509   0.277451  0.264206   \n",
       "TAX       -0.012627   -0.014028  -0.014570  -0.015277  -0.015442 -0.015212   \n",
       "PTRATIO   -0.916369   -0.773205  -0.770654  -0.772002  -0.758752 -0.722966   \n",
       "B          0.009485    0.010193   0.010249   0.009913   0.009469  0.008247   \n",
       "LSTAT     -0.530481   -0.553925  -0.568769  -0.616818  -0.656290 -0.761115   \n",
       "\n",
       "          alpha:5  \n",
       "CRIM    -0.000000  \n",
       "ZN       0.038467  \n",
       "INDUS   -0.000000  \n",
       "CHAS     0.000000  \n",
       "NOX      0.000000  \n",
       "RM       0.000000  \n",
       "AGE      0.031679  \n",
       "DIS     -0.000000  \n",
       "RAD      0.000000  \n",
       "TAX     -0.007669  \n",
       "PTRATIO -0.000000  \n",
       "B        0.006286  \n",
       "LSTAT   -0.747258  "
      ]
     },
     "execution_count": 97,
     "metadata": {},
     "output_type": "execute_result"
    }
   ],
   "source": [
    "# lasso 모델 사용 \n",
    "\n",
    "lasso_alpha = [0.01,0.05,0.1,0.3,0.5,1,5]\n",
    "\n",
    "get_linear_reg_eval('Lasso',params=lasso_alpha,X_feature=X_feature,y_label=y_label)\n",
    "\n"
   ]
  },
  {
   "cell_type": "markdown",
   "metadata": {},
   "source": [
    "RSME 는 낮을 수록 높은 예측 성능을 가짐으로, 0.1 에서 가장 좋은 성능을 보인다. <br><br>\n",
    "아래 dataframe 을 보면, <br>\n",
    "* NOX 피처 :  alpha 0.01 → 0.05 회귀 계수가 급격하게 감소하다가 0 에 도달\n",
    "* CHAS 피처 : alpha 0.1 → 0.3 회귀 계수의 감소로 0 에 도달\n",
    "* INDUS 피처 : alpha 0.5 → 1 회귀 계수의 감소로 0 에 도달 \n",
    "\n",
    "즉, 회귀 계수가 0인 피처는 회귀 식에서 제외되면서 피처 선택의 효과를 얻을 수 있는 것이 __Lasso Regression__ 이다."
   ]
  },
  {
   "cell_type": "markdown",
   "metadata": {},
   "source": [
    "## Elastic Net Regression \n",
    "\n",
    "__< What is Elastic Net >__\n",
    "\n",
    "엘라스틱넷은 L2 규제와 L1 규제를 결합한 회귀이다. 따라서, 엘라스틱넷의 회귀 비용 함수의 목표는\n",
    "> Min ( RSS ( W ) + alpha 2 * || W || ²₂+ alpha 1 * || W || ₁) 을 만족하는 W 를 찾는 것 \n",
    "\n",
    "먼저, __라쏘 회귀__ 에 의해 서로 상관관계가 높은 피처들의 경우, 중요 피처만을 설렉션하고 다른 피처들은 모두 회귀 계수를 0으로 만드려는 성향이 강하다. 그래서 alpha 값에 따라 회귀 계수의 값이 급격히 변동 될 수 있는데 이를 완화 하기 위해 __L2 규제를 라쏘 회귀에 추가__ 한 것.<br><br>\n",
    "두 규제가 결합되었기 때문에 상대적으로 수행 시간은 오래걸린다.\n",
    "<br><br>\n",
    "\n",
    "__< How to use in sklearn >__\n",
    "\n",
    "앞서 말한대로, ElasticNet = a * L1 + b * L2 로 정의 될 수 있기 때문에 \n",
    "\n",
    "생성 파라미터 \n",
    "* alpha = <span style=\"color:red\">a + b </span>( a 는 L1 규제의 alpha 값, b 는 L2 규제의 alpha 값 )<br><br>\n",
    "* l1_ratio : a / (a+b) = L1 규제의 비율 ⇒ a 가 0 이면 L2 규제와 동일 , b 가 0 이면 L1 규제와 동일 \n",
    "<br><br>\n",
    "\n",
    "__< 예제 >__\n",
    "\n",
    "앞서 연습한 릿지와 라쏘 회귀 처럼 alpha 값을 변화 시키면서 RMSE 값과 각 피처의 회귀 계수를 출력해보자.<br>\n",
    "미리 만들어 두었던 get_linear_reg_eval() 함수를 이용한다."
   ]
  },
  {
   "cell_type": "code",
   "execution_count": 100,
   "metadata": {},
   "outputs": [
    {
     "name": "stdout",
     "output_type": "stream",
     "text": [
      "alpha 0.07 일 때. 5 folds 의 평균 RMSE 값은 5.542 \n",
      "\n",
      "alpha 0.1 일 때. 5 folds 의 평균 RMSE 값은 5.526 \n",
      "\n",
      "alpha 0.5 일 때. 5 folds 의 평균 RMSE 값은 5.467 \n",
      "\n",
      "alpha 1 일 때. 5 folds 의 평균 RMSE 값은 5.597 \n",
      "\n",
      "alpha 3 일 때. 5 folds 의 평균 RMSE 값은 6.068 \n",
      "\n"
     ]
    },
    {
     "data": {
      "text/html": [
       "<div>\n",
       "<style scoped>\n",
       "    .dataframe tbody tr th:only-of-type {\n",
       "        vertical-align: middle;\n",
       "    }\n",
       "\n",
       "    .dataframe tbody tr th {\n",
       "        vertical-align: top;\n",
       "    }\n",
       "\n",
       "    .dataframe thead th {\n",
       "        text-align: right;\n",
       "    }\n",
       "</style>\n",
       "<table border=\"1\" class=\"dataframe\">\n",
       "  <thead>\n",
       "    <tr style=\"text-align: right;\">\n",
       "      <th></th>\n",
       "      <th>alpha:0.07</th>\n",
       "      <th>alpha:0.1</th>\n",
       "      <th>alpha:0.5</th>\n",
       "      <th>alpha:1</th>\n",
       "      <th>alpha:3</th>\n",
       "    </tr>\n",
       "  </thead>\n",
       "  <tbody>\n",
       "    <tr>\n",
       "      <th>CRIM</th>\n",
       "      <td>-0.099468</td>\n",
       "      <td>-0.099213</td>\n",
       "      <td>-0.089070</td>\n",
       "      <td>-0.073577</td>\n",
       "      <td>-0.019058</td>\n",
       "    </tr>\n",
       "    <tr>\n",
       "      <th>ZN</th>\n",
       "      <td>0.050107</td>\n",
       "      <td>0.050617</td>\n",
       "      <td>0.052878</td>\n",
       "      <td>0.052136</td>\n",
       "      <td>0.038268</td>\n",
       "    </tr>\n",
       "    <tr>\n",
       "      <th>INDUS</th>\n",
       "      <td>-0.044855</td>\n",
       "      <td>-0.042719</td>\n",
       "      <td>-0.023252</td>\n",
       "      <td>-0.000000</td>\n",
       "      <td>-0.000000</td>\n",
       "    </tr>\n",
       "    <tr>\n",
       "      <th>CHAS</th>\n",
       "      <td>1.330724</td>\n",
       "      <td>0.979706</td>\n",
       "      <td>0.000000</td>\n",
       "      <td>0.000000</td>\n",
       "      <td>0.000000</td>\n",
       "    </tr>\n",
       "    <tr>\n",
       "      <th>NOX</th>\n",
       "      <td>-0.175072</td>\n",
       "      <td>-0.000000</td>\n",
       "      <td>-0.000000</td>\n",
       "      <td>-0.000000</td>\n",
       "      <td>-0.000000</td>\n",
       "    </tr>\n",
       "    <tr>\n",
       "      <th>RM</th>\n",
       "      <td>3.574162</td>\n",
       "      <td>3.414154</td>\n",
       "      <td>1.918419</td>\n",
       "      <td>0.938789</td>\n",
       "      <td>0.000000</td>\n",
       "    </tr>\n",
       "    <tr>\n",
       "      <th>AGE</th>\n",
       "      <td>-0.010116</td>\n",
       "      <td>-0.008276</td>\n",
       "      <td>0.007760</td>\n",
       "      <td>0.020348</td>\n",
       "      <td>0.043446</td>\n",
       "    </tr>\n",
       "    <tr>\n",
       "      <th>DIS</th>\n",
       "      <td>-1.189438</td>\n",
       "      <td>-1.173647</td>\n",
       "      <td>-0.975902</td>\n",
       "      <td>-0.725174</td>\n",
       "      <td>-0.031208</td>\n",
       "    </tr>\n",
       "    <tr>\n",
       "      <th>RAD</th>\n",
       "      <td>0.278880</td>\n",
       "      <td>0.283443</td>\n",
       "      <td>0.300761</td>\n",
       "      <td>0.289299</td>\n",
       "      <td>0.146846</td>\n",
       "    </tr>\n",
       "    <tr>\n",
       "      <th>TAX</th>\n",
       "      <td>-0.014522</td>\n",
       "      <td>-0.014814</td>\n",
       "      <td>-0.016046</td>\n",
       "      <td>-0.016218</td>\n",
       "      <td>-0.011417</td>\n",
       "    </tr>\n",
       "    <tr>\n",
       "      <th>PTRATIO</th>\n",
       "      <td>-0.779498</td>\n",
       "      <td>-0.784725</td>\n",
       "      <td>-0.790969</td>\n",
       "      <td>-0.738672</td>\n",
       "      <td>-0.423065</td>\n",
       "    </tr>\n",
       "    <tr>\n",
       "      <th>B</th>\n",
       "      <td>0.010122</td>\n",
       "      <td>0.010067</td>\n",
       "      <td>0.009114</td>\n",
       "      <td>0.008320</td>\n",
       "      <td>0.007020</td>\n",
       "    </tr>\n",
       "    <tr>\n",
       "      <th>LSTAT</th>\n",
       "      <td>-0.574822</td>\n",
       "      <td>-0.587702</td>\n",
       "      <td>-0.693861</td>\n",
       "      <td>-0.760457</td>\n",
       "      <td>-0.800368</td>\n",
       "    </tr>\n",
       "  </tbody>\n",
       "</table>\n",
       "</div>"
      ],
      "text/plain": [
       "         alpha:0.07  alpha:0.1  alpha:0.5   alpha:1   alpha:3\n",
       "CRIM      -0.099468  -0.099213  -0.089070 -0.073577 -0.019058\n",
       "ZN         0.050107   0.050617   0.052878  0.052136  0.038268\n",
       "INDUS     -0.044855  -0.042719  -0.023252 -0.000000 -0.000000\n",
       "CHAS       1.330724   0.979706   0.000000  0.000000  0.000000\n",
       "NOX       -0.175072  -0.000000  -0.000000 -0.000000 -0.000000\n",
       "RM         3.574162   3.414154   1.918419  0.938789  0.000000\n",
       "AGE       -0.010116  -0.008276   0.007760  0.020348  0.043446\n",
       "DIS       -1.189438  -1.173647  -0.975902 -0.725174 -0.031208\n",
       "RAD        0.278880   0.283443   0.300761  0.289299  0.146846\n",
       "TAX       -0.014522  -0.014814  -0.016046 -0.016218 -0.011417\n",
       "PTRATIO   -0.779498  -0.784725  -0.790969 -0.738672 -0.423065\n",
       "B          0.010122   0.010067   0.009114  0.008320  0.007020\n",
       "LSTAT     -0.574822  -0.587702  -0.693861 -0.760457 -0.800368"
      ]
     },
     "execution_count": 100,
     "metadata": {},
     "output_type": "execute_result"
    }
   ],
   "source": [
    "elastic_alpha = [0.07,0.1,0.5,1,3]\n",
    "get_linear_reg_eval('ElasticNet',params=elastic_alpha,X_feature=X_feature,y_label=y_label)"
   ]
  },
  {
   "cell_type": "markdown",
   "metadata": {},
   "source": [
    "alpha 0.5 에서 가장 좋은 예측 성능을 보이고 있다.<br><br>\n",
    "그 아래 dataframe 을 살펴보면, 회귀 계수가 0 이 되는 피처가 아직 존재하긴 하나 Lasso 보다는 적음을 알 수 있다."
   ]
  },
  {
   "cell_type": "markdown",
   "metadata": {},
   "source": [
    "## 선형 회귀 모델을 위한 데이터 변환 \n",
    "\n",
    "선형 회귀 모델은 피처값과 타깃값의 분포가 정규 분포 형태를 띄는 것이 좋다. <br>\n",
    "특히 타깃값의 경우 정규 분포 형태가 아니라, 분포가 치우진 왜곡된 형태일 경우 예측 성능에 부정적인 영향을 미칠 가능성이 매우 높다.<br><br>\n",
    "그래서 선형 회귀 모델 적용 전에 <u>스케일링 / 정규화 작업</u> 은 필수적이다. <br>\n",
    "여기서 문제는 피처값과 타깃값에 위 작업을 수행하는 방법에 약간의 차이가 있다. <br><br>\n",
    "__< 피처 dataset 에 적용하는 방법 >__<br>\n",
    "\n",
    "* StandardScaler 로 평균 0 , 분산 1 인 표준 정규 분포로 변환 or MinMaxScaler 로 최솟값 0 , 최댓값 1 인 값으로 정규화 \n",
    "* 위 방법을 통해 성능 향상이 없을 경우, 수행한 dataset 에 다항 변환 적용\n",
    "* Log transformation : 가장 유용한 방법 / 원래 값에 log 함수를 적용하면 정규 분포에 가까운 형태로 변환됨 \n",
    "    * Scaler 는 성능 향상을 기대하기 어려움 \n",
    "    * Polynomial 은 피처가 많을 경우 다항 변환 시 피처의 갯수가 기하급수로 늘어나서 과적합 문제가 우려됨 \n",
    "\n",
    "__< 타켓 dataset 에 적용하는 방법 >__<br>\n",
    "* 항상 Log transformation 적용 \n",
    "<br><br>\n",
    "\n",
    "이제, boston dataset 을 가지고 명시한 변환 방법 = Standard, MinMax, Log 변환을 차례로 적용한 후에<br>\n",
    "Ridge 회귀로 각 변환 별 alpha 값 들을 조정하여 RMSE 의 예측 성능을 비교해 보자.<br><br>\n",
    "이를 위해 get_scaled_data() 함수를 생성한다.\n",
    "<br><br>\n",
    "\n",
    "__< get_scaled_data() 사용자 정의 함수 >__\n",
    "\n",
    "\n",
    "\n",
    "생성 파라미터\n",
    "* method : 변환 방법 결정 \n",
    "* p_degree : 다항식 차수 결정 \n",
    "* input_data : 변환 하고자 하는 데이터 \n"
   ]
  },
  {
   "cell_type": "code",
   "execution_count": 101,
   "metadata": {},
   "outputs": [],
   "source": [
    "from sklearn.preprocessing import StandardScaler\n",
    "from sklearn.preprocessing import MinMaxScaler\n",
    "import numpy as np \n",
    "from sklearn.preprocessing import PolynomialFeatures\n",
    "\n",
    "def get_scaled_data(method='None',p_degree='None', input_data='None'):\n",
    "    if method == 'Standard':\n",
    "        scaled_data = StandardScaler().fit_transform(input_data)\n",
    "    elif method == \"MinMax\":\n",
    "        scaled_data = MinMaxScaler().fit_transform(input_data)\n",
    "    else:\n",
    "        # 원래 log 변환은 np.log() 를 사용하지만, 언더 플로우 발생을 방지하기 위해서 1 + log() 인 log1p() 사용 \n",
    "        scaled_data = np.log1p(input_data)\n",
    "        \n",
    "    if p_degree != None:\n",
    "        scaled_data = PolynomialFeatures(degree=p_degree,include_bias=False).fit_transform(scaled_data)\n",
    "    \n",
    "    return scaled_data"
   ]
  },
  {
   "cell_type": "markdown",
   "metadata": {},
   "source": [
    "이제 사전에 만들어 두었던 \n",
    "* get_linear_reg_eval() = 원하는 규제 선형 모델을 선택하여 여러 alpha 값에 따라 변화하는 RMSE 와 회귀 계수를 파악하는 함수\n",
    "* get_scaled_data() = 데이터 변환 방식과 다항식 차수를 임의로 선택하여 그에 맞게 주어진 데이터를 전처리 하는 함수\n",
    "<br>\n",
    "\n",
    "를 이용 해보자.\n",
    "\n",
    "참고로, 데이터 변환은 (None,None) &nbsp; (Standard,None)  &nbsp; (Standard,2)&nbsp; (MinMax,None)  &nbsp; (MinMax,2) &nbsp; (Log,None) &nbsp;  총 6가지를 사용한다."
   ]
  },
  {
   "cell_type": "code",
   "execution_count": 107,
   "metadata": {},
   "outputs": [
    {
     "name": "stdout",
     "output_type": "stream",
     "text": [
      "\n",
      "### 변환 유형: None / Polynomial degree: None ###\n",
      "\n",
      "=======================================================\n",
      "alpha 0.1 일 때. 5 folds 의 평균 RMSE 값은 4.770 \n",
      "\n",
      "alpha 1 일 때. 5 folds 의 평균 RMSE 값은 4.676 \n",
      "\n",
      "alpha 10 일 때. 5 folds 의 평균 RMSE 값은 4.836 \n",
      "\n",
      "alpha 100 일 때. 5 folds 의 평균 RMSE 값은 6.241 \n",
      "\n",
      "\n",
      "### 변환 유형: Standard / Polynomial degree: None ###\n",
      "\n",
      "=======================================================\n",
      "alpha 0.1 일 때. 5 folds 의 평균 RMSE 값은 5.826 \n",
      "\n",
      "alpha 1 일 때. 5 folds 의 평균 RMSE 값은 5.803 \n",
      "\n",
      "alpha 10 일 때. 5 folds 의 평균 RMSE 값은 5.637 \n",
      "\n",
      "alpha 100 일 때. 5 folds 의 평균 RMSE 값은 5.421 \n",
      "\n",
      "\n",
      "### 변환 유형: Standard / Polynomial degree: 2 ###\n",
      "\n",
      "=======================================================\n",
      "alpha 0.1 일 때. 5 folds 의 평균 RMSE 값은 8.827 \n",
      "\n",
      "alpha 1 일 때. 5 folds 의 평균 RMSE 값은 6.871 \n",
      "\n",
      "alpha 10 일 때. 5 folds 의 평균 RMSE 값은 5.485 \n",
      "\n",
      "alpha 100 일 때. 5 folds 의 평균 RMSE 값은 4.634 \n",
      "\n",
      "\n",
      "### 변환 유형: MinMax / Polynomial degree: None ###\n",
      "\n",
      "=======================================================\n",
      "alpha 0.1 일 때. 5 folds 의 평균 RMSE 값은 5.764 \n",
      "\n",
      "alpha 1 일 때. 5 folds 의 평균 RMSE 값은 5.465 \n",
      "\n",
      "alpha 10 일 때. 5 folds 의 평균 RMSE 값은 5.754 \n",
      "\n",
      "alpha 100 일 때. 5 folds 의 평균 RMSE 값은 7.635 \n",
      "\n",
      "\n",
      "### 변환 유형: MinMax / Polynomial degree: 2 ###\n",
      "\n",
      "=======================================================\n",
      "alpha 0.1 일 때. 5 folds 의 평균 RMSE 값은 5.298 \n",
      "\n",
      "alpha 1 일 때. 5 folds 의 평균 RMSE 값은 4.323 \n",
      "\n",
      "alpha 10 일 때. 5 folds 의 평균 RMSE 값은 5.185 \n",
      "\n",
      "alpha 100 일 때. 5 folds 의 평균 RMSE 값은 6.538 \n",
      "\n",
      "\n",
      "### 변환 유형: Log / Polynomial degree: None ###\n",
      "\n",
      "=======================================================\n",
      "alpha 0.1 일 때. 5 folds 의 평균 RMSE 값은 4.770 \n",
      "\n",
      "alpha 1 일 때. 5 folds 의 평균 RMSE 값은 4.676 \n",
      "\n",
      "alpha 10 일 때. 5 folds 의 평균 RMSE 값은 4.836 \n",
      "\n",
      "alpha 100 일 때. 5 folds 의 평균 RMSE 값은 6.241 \n",
      "\n"
     ]
    }
   ],
   "source": [
    "# Ridge 의 alpha 값을 다르게 적용하고 데이터 변환 방법을 선택하여 RMSE 추출 \n",
    "\n",
    "alphas = [0.1,1,10,100]\n",
    "\n",
    "scale_methods = [(None,None),('Standard',None),('Standard',2) , ('MinMax',None) ,('MinMax',2) , ('Log',None) ]\n",
    "\n",
    "for scale_method in scale_methods:\n",
    "    X_feature_scaled = get_scaled_data(method=scale_method[0],p_degree=scale_method[1],input_data=X_feature)\n",
    "    print('\\n### 변환 유형: {0} / Polynomial degree: {1} ###\\n'.format(scale_method[0],scale_method[1]))\n",
    "    print('=======================================================')\n",
    "    \n",
    "    # Ridge 회귀를 사용해서 alpha 값에 변화를 주었고, scaled 된 dataset 을 넘겨주었고, 회귀 계수는 사용안하기 때문에 False\n",
    "    get_linear_reg_eval('Ridge',params=alphas,X_feature=X_feature_scaled,y_label=y_label, verbose=False, return_coeff=False)"
   ]
  },
  {
   "cell_type": "markdown",
   "metadata": {},
   "source": [
    "해당 결과에서 RMSE 가 4.xx 인 경우를 살펴보자. \n",
    "* MinMax  /  Polynomial 2  /  alpha = 1<br><br>\n",
    "* Standard / Polynomial 2 /  alpha = 100 <br><br>\n",
    "* Log / Polynomial None / alpha = 0.1 , 1 , 10 <br><br>\n",
    "\n",
    "즉, 단순 표준 정규 분포 or 최대 / 최소값 정규화 만으로는 RMSE 예측 성능을 향상 시킬 수 없었다. <br>\n",
    "물론 2차 다항식에서는 alpha 값에 따라 예측 성능이 우수한 경우도 있었으나, 피처 갯수가 많을 경우 다항식 변환을 적용하기 어렵기 때문에 한계가 있다.<br><br>\n",
    "반면, Log 변환은 alpha 값에 상관없이 대부분 좋은 성능을 보이기 때문에 \n",
    "> 선형 회귀를 적용하려는 dataset 에 data 의 분포가 심하게 왜곡 되어 있을 경우, __로그 변환__을 적용하는 것이 좋다 !!! \n"
   ]
  }
 ],
 "metadata": {
  "kernelspec": {
   "display_name": "Python 3",
   "language": "python",
   "name": "python3"
  },
  "language_info": {
   "codemirror_mode": {
    "name": "ipython",
    "version": 3
   },
   "file_extension": ".py",
   "mimetype": "text/x-python",
   "name": "python",
   "nbconvert_exporter": "python",
   "pygments_lexer": "ipython3",
   "version": "3.8.5"
  }
 },
 "nbformat": 4,
 "nbformat_minor": 4
}
