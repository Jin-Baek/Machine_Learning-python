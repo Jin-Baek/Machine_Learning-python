{
 "cells": [
  {
   "cell_type": "markdown",
   "metadata": {},
   "source": [
    "# Dimension Reduction  차원 축소 \n",
    "\n",
    "__< What is & Why we use dimension reduction ? >__<br><br>\n",
    "매우 많은 피처로 구성된 다차원 데이터 세트의 차원을 축소해 새로운 차원의 데이터 세트를 생성하는 것<br><br>\n",
    "피처가 많은 데이터 세트의 경우, 상대적으로 적은 차원에서 학습된 모델보다 예측 신뢰도가 떨어진다.<br>\n",
    "그리고 개별 피처 간에 상관 관계가 높을 가능성이 커지기 때문에 '다중 공선성 문제' 로 이어져 예측 성능이 저하된다. <br><br>\n",
    "이러한 문제로 다차원의 피처를 차원 축소하면 직관적으로 데이터를 해석 할 수 있을 뿐만 아니라 시각적으로 데이터의 특성을 파악하거나 학습에 필요한 처리 능력을 줄이는 등의 이점을 가져 갈 수 있다.<br><br>\n",
    "\n",
    "__< Dimension reduction type >__\n",
    "* Feature selection \n",
    "    * 특정 피처에 종속성이 강한 불필요한 피처는 아예 제거하고, 주요 피처만 선택하는 방법 \n",
    "\n",
    "\n",
    "* Feature extraction\n",
    "    * 기존 피처를 저차원의 중요 피처로 압축해서 추출하는 방법 \n",
    "    * 기존 피처를 단순 압축이 아닌, 데이터 들을 더 잘 설명 할 수 있는 함축적인 특정을 살려 또 다른 공간으로 매핑해 추출하는 것으로,<br> 기존 피처와는 완전히 다른 값 \n",
    "    * EX) 모의고사 성적 feature , 수능 성적 feature , 대학교 1 ~ 4 학년 전공 성적 feature 등을 ' 학업 성취도 ' feature 로 압축하는 것 \n",
    "<br><br>   \n",
    "\n",
    "__< Dimension reduction algorithm>__\n",
    "* PCA - Principal Component Analysis\n",
    "* LDA - Linear Discriminant Analysis\n",
    "* SVD - Single Value Decomposition\n",
    "* NMF - Non negative Matrix Factorization\n",
    "<br><br>\n",
    "\n",
    "__< Dimension reduction algorithm uses>__\n",
    "1. 이미지 데이터 \n",
    "* 매우 많은 픽셀로 이뤄진 이미지 데이터에서 잠재된 특성을 피처로 도출해 함축적 형태의 이미지 변환과 압축을 수행 할 수 있다.<br>\n",
    "  이 때, 변환된 이미지는 분류 수행 시에 과적합 영향력이 작아져서 오히려 원본 이미지로 예측하는 것보다 예측 성능을 더 끌어 올릴 수 있다.\n",
    "\n",
    "2. 텍스트 분석\n",
    "* 문서 내 단어들의 구성에서 숨겨져 있는 Semantic 의미나 Topic 을 잠재 요소로 간주하고 이를 찾아 낼 수 있다.<br>\n",
    "  SVD , NMF 가 여기에 사용된다.\n"
   ]
  },
  {
   "cell_type": "markdown",
   "metadata": {},
   "source": [
    "## PCA \n",
    "\n",
    "__< What is PCA ? >__<br><br>\n",
    "여러 변수 = 피처 간에 존재하는 상관관계를 이용해 이를 대표하는 주성분 ( principal component ) 을 추출해 차원을 축소하는 기법.<br>\n",
    "정보 유실이 최소화 되야 하기 때문에 PCA 는 가장 높은 분산을 가지는 데이터의 축 = 주성분 을 찾아 이 축으로 차원 축소를 한다. <br>\n",
    "단, 분산이 데이터 특성을 가장 잘 나타낸 다는 가정 하 <br><br>\n",
    "이 [그림](https://liorpachter.files.wordpress.com/2014/05/pca_figure1.jpg?w=490&h=490) 을 통해 간단하게 원리를 확인 해보자. *p.379 참고* \n",
    "\n",
    "> 평 수 ( X ) 와 주택 가격 ( Y ) 두 피처를 가지고 있는 데이터 세트 ( = 흰 원 ) 이 있다.<br><br>\n",
    "    2개의 피처를 한 개의 주성분을 가진 데이터 세트로 차원 축소를 하기 위해 __데이터 변동성이 가장 큰 = 분산이 큰__ 데이터의 축 ( = 초록 선 ) 을 생성하고, 해당 축으로 데이터를 투영하는 ( = 파란 원 ) 방식이다.\n",
    "\n",
    "\n",
    "\n",
    "이번에는 다른 [그림](https://miro.medium.com/max/602/0*PnqMbZEdnuL9yHuo.png) 을 통해서 더 자세하게 이해해 보자.\n",
    "\n",
    "> PCA 는 제일 먼저 가장 큰 variance 기반으로 첫 번째 벡터 축을 생성하고, 다음 축은 이 벡터 축에 직각이 되는 직교 벡터로 축으로 생성한다. <br>\n",
    "이렇게 생성된 벡터 축에 원본 데이터를 투영하면, __벡터 축의 개수만큼의 차원__ 으로 원본 데이터가 차원 축소 된다.\n",
    "\n",
    "<br><br>\n",
    "\n",
    "__< PCA from a linear algebra perspective >__<br><br>\n",
    "입력 데이터의 공분산 행렬이 고유벡터와 고유값으로 분해 될 수 있으며, 이렇게 분해된 고유 벡터를 이용해 입력 데이터를 선형 변환하는 방식<br>\n",
    "### <span style=\"color:red\">중요</span> \n",
    "[__< Loner 의 학습노트 >__](https://wiserloner.tistory.com/1085) , [__< 공돌이의 수학정리 노트 >__](https://angeloyeo.github.io/2019/07/17/eigen_vector.html), [__< 다크 프로그래머 >__](https://darkpgmr.tistory.com/105) 를 통해, <br>자세한 개념과 수학적 증명을 담은 해당 링크를 참고하자!<br><br>\n",
    "\n",
    "------------\n",
    "\n",
    "### 간략한 정리\n",
    " * __선형 변환__<br>\n",
    "vector 에 matrix 를 내적해서 크기 or 방향이 변하는 선형 형태의 vector 를 만들어 주는 것<br><br>\n",
    " * __고유값 , 고유 벡터__  <br>\n",
    "선형 변환을 할 때, 크기만 변하고 방향이 변하지 않을 수 있다. 이 때, <br>\n",
    "> Ax=λx ( x는 vector )\n",
    "\n",
    "    입력 벡터 x 를 행렬 A 로 선형 변환 시킨 결과가 입력 벡터 x 의 상수 배<br>\n",
    "    즉, 이 때 vector x  = ' 고유 벡터' , 숫자 λ = ' 고유값 ' <br><br>\n",
    "\n",
    " * __공분산 = Covariance__ <br>\n",
    "> COV(x,y) = E{(x-E(x))* (y-E(y))} <br><br> 전체 관측값의 평균 { ( 특정 관측값 - X값 평균 ) * ( 특정 관측값 - Y값 평균 ) } \n",
    "\n",
    "    두 피처 간의 상관 관계를 나타내는 값 <br><br>\n",
    " * __공분산 행렬__ <br>\n",
    "공분산을 나타내는 행렬 = 특정 피처들의 분산이 얼마나 닮았는가 를 나타내는 행렬 <br><br>\n",
    " * __공분산 행렬에서 고유 벡터와 고유값의 의미__<br>\n",
    "고유 벡터 = 데이터가 어떤 방향으로 분산 되어 있는지 <br>\n",
    "고유 값 = 고유 벡터의 크기 = 분산의 크기 <br><br>\n",
    "\n",
    "<span style=\"color:red\">즉, PCA 는 분산이 큰 = 고유 값이 큰 순서대로 고유 벡터를 정렬하면서 결과적으로 중요한 순서대로 주성분을 구하는 것. </span>\n",
    "\n",
    "-----------------\n",
    "\n",
    "\n",
    "__< PCA , order of execution >__\n",
    "1. 입력 데이터 세트의 공분산 행렬을 생성\n",
    "2. 공분산 행렬의 고유벡터와 고유값을 계산\n",
    "3. 고유값이 가장 큰 순으로 K개 ( PCA 변환 차수 ) 만큼 고유벡터를 추출\n",
    "4. 고유값이 가장 큰 순으로 추출된 고유벡터를 이용해 새롭게 입력 데이터를 변환 \n",
    "  \n",
    "<br><br>\n",
    "이제 내장 dataset 붓꽃 데이터를 이용해서 PCA 를 구현해 보자."
   ]
  },
  {
   "cell_type": "code",
   "execution_count": 49,
   "metadata": {
    "scrolled": false
   },
   "outputs": [
    {
     "data": {
      "text/html": [
       "<div>\n",
       "<style scoped>\n",
       "    .dataframe tbody tr th:only-of-type {\n",
       "        vertical-align: middle;\n",
       "    }\n",
       "\n",
       "    .dataframe tbody tr th {\n",
       "        vertical-align: top;\n",
       "    }\n",
       "\n",
       "    .dataframe thead th {\n",
       "        text-align: right;\n",
       "    }\n",
       "</style>\n",
       "<table border=\"1\" class=\"dataframe\">\n",
       "  <thead>\n",
       "    <tr style=\"text-align: right;\">\n",
       "      <th></th>\n",
       "      <th>sepal_length</th>\n",
       "      <th>sepal_width</th>\n",
       "      <th>petal_length</th>\n",
       "      <th>petal_width</th>\n",
       "      <th>target</th>\n",
       "    </tr>\n",
       "  </thead>\n",
       "  <tbody>\n",
       "    <tr>\n",
       "      <th>0</th>\n",
       "      <td>5.1</td>\n",
       "      <td>3.5</td>\n",
       "      <td>1.4</td>\n",
       "      <td>0.2</td>\n",
       "      <td>0</td>\n",
       "    </tr>\n",
       "    <tr>\n",
       "      <th>1</th>\n",
       "      <td>4.9</td>\n",
       "      <td>3.0</td>\n",
       "      <td>1.4</td>\n",
       "      <td>0.2</td>\n",
       "      <td>0</td>\n",
       "    </tr>\n",
       "    <tr>\n",
       "      <th>2</th>\n",
       "      <td>4.7</td>\n",
       "      <td>3.2</td>\n",
       "      <td>1.3</td>\n",
       "      <td>0.2</td>\n",
       "      <td>0</td>\n",
       "    </tr>\n",
       "    <tr>\n",
       "      <th>3</th>\n",
       "      <td>4.6</td>\n",
       "      <td>3.1</td>\n",
       "      <td>1.5</td>\n",
       "      <td>0.2</td>\n",
       "      <td>0</td>\n",
       "    </tr>\n",
       "    <tr>\n",
       "      <th>4</th>\n",
       "      <td>5.0</td>\n",
       "      <td>3.6</td>\n",
       "      <td>1.4</td>\n",
       "      <td>0.2</td>\n",
       "      <td>0</td>\n",
       "    </tr>\n",
       "    <tr>\n",
       "      <th>...</th>\n",
       "      <td>...</td>\n",
       "      <td>...</td>\n",
       "      <td>...</td>\n",
       "      <td>...</td>\n",
       "      <td>...</td>\n",
       "    </tr>\n",
       "    <tr>\n",
       "      <th>145</th>\n",
       "      <td>6.7</td>\n",
       "      <td>3.0</td>\n",
       "      <td>5.2</td>\n",
       "      <td>2.3</td>\n",
       "      <td>2</td>\n",
       "    </tr>\n",
       "    <tr>\n",
       "      <th>146</th>\n",
       "      <td>6.3</td>\n",
       "      <td>2.5</td>\n",
       "      <td>5.0</td>\n",
       "      <td>1.9</td>\n",
       "      <td>2</td>\n",
       "    </tr>\n",
       "    <tr>\n",
       "      <th>147</th>\n",
       "      <td>6.5</td>\n",
       "      <td>3.0</td>\n",
       "      <td>5.2</td>\n",
       "      <td>2.0</td>\n",
       "      <td>2</td>\n",
       "    </tr>\n",
       "    <tr>\n",
       "      <th>148</th>\n",
       "      <td>6.2</td>\n",
       "      <td>3.4</td>\n",
       "      <td>5.4</td>\n",
       "      <td>2.3</td>\n",
       "      <td>2</td>\n",
       "    </tr>\n",
       "    <tr>\n",
       "      <th>149</th>\n",
       "      <td>5.9</td>\n",
       "      <td>3.0</td>\n",
       "      <td>5.1</td>\n",
       "      <td>1.8</td>\n",
       "      <td>2</td>\n",
       "    </tr>\n",
       "  </tbody>\n",
       "</table>\n",
       "<p>150 rows × 5 columns</p>\n",
       "</div>"
      ],
      "text/plain": [
       "     sepal_length  sepal_width  petal_length  petal_width  target\n",
       "0             5.1          3.5           1.4          0.2       0\n",
       "1             4.9          3.0           1.4          0.2       0\n",
       "2             4.7          3.2           1.3          0.2       0\n",
       "3             4.6          3.1           1.5          0.2       0\n",
       "4             5.0          3.6           1.4          0.2       0\n",
       "..            ...          ...           ...          ...     ...\n",
       "145           6.7          3.0           5.2          2.3       2\n",
       "146           6.3          2.5           5.0          1.9       2\n",
       "147           6.5          3.0           5.2          2.0       2\n",
       "148           6.2          3.4           5.4          2.3       2\n",
       "149           5.9          3.0           5.1          1.8       2\n",
       "\n",
       "[150 rows x 5 columns]"
      ]
     },
     "execution_count": 49,
     "metadata": {},
     "output_type": "execute_result"
    }
   ],
   "source": [
    "from sklearn.datasets import load_iris\n",
    "import pandas as pd \n",
    "import plotly.graph_objects as go\n",
    "\n",
    "iris = load_iris()\n",
    "\n",
    "iris_df = pd.DataFrame(data=iris.data,columns=iris.feature_names)\n",
    "iris_df['target']=iris.target \n",
    "iris_df.columns=['sepal_length','sepal_width','petal_length','petal_width','target']\n",
    "\n",
    "iris_df"
   ]
  },
  {
   "cell_type": "markdown",
   "metadata": {},
   "source": [
    "먼저, 두 개의 피처 sepal length 와 sepal width 를 이용해서 2차원 분포로 시각화 해본다.<br><br>\n",
    "참고 : [Plotly text & annotation 으로 그래프 구체화 하기](https://plotly.com/python/text-and-annotations/)"
   ]
  },
  {
   "cell_type": "code",
   "execution_count": 50,
   "metadata": {
    "scrolled": false
   },
   "outputs": [
    {
     "data": {
      "application/vnd.plotly.v1+json": {
       "config": {
        "plotlyServerURL": "https://plot.ly"
       },
       "data": [
        {
         "mode": "markers",
         "name": "setosa",
         "type": "scatter",
         "x": [
          5.1,
          4.9,
          4.7,
          4.6,
          5,
          5.4,
          4.6,
          5,
          4.4,
          4.9,
          5.4,
          4.8,
          4.8,
          4.3,
          5.8,
          5.7,
          5.4,
          5.1,
          5.7,
          5.1,
          5.4,
          5.1,
          4.6,
          5.1,
          4.8,
          5,
          5,
          5.2,
          5.2,
          4.7,
          4.8,
          5.4,
          5.2,
          5.5,
          4.9,
          5,
          5.5,
          4.9,
          4.4,
          5.1,
          5,
          4.5,
          4.4,
          5,
          5.1,
          4.8,
          5.1,
          4.6,
          5.3,
          5
         ],
         "y": [
          3.5,
          3,
          3.2,
          3.1,
          3.6,
          3.9,
          3.4,
          3.4,
          2.9,
          3.1,
          3.7,
          3.4,
          3,
          3,
          4,
          4.4,
          3.9,
          3.5,
          3.8,
          3.8,
          3.4,
          3.7,
          3.6,
          3.3,
          3.4,
          3,
          3.4,
          3.5,
          3.4,
          3.2,
          3.1,
          3.4,
          4.1,
          4.2,
          3.1,
          3.2,
          3.5,
          3.6,
          3,
          3.4,
          3.5,
          2.3,
          3.2,
          3.5,
          3.8,
          3,
          3.8,
          3.2,
          3.7,
          3.3
         ]
        },
        {
         "mode": "markers",
         "name": "versicolor",
         "type": "scatter",
         "x": [
          7,
          6.4,
          6.9,
          5.5,
          6.5,
          5.7,
          6.3,
          4.9,
          6.6,
          5.2,
          5,
          5.9,
          6,
          6.1,
          5.6,
          6.7,
          5.6,
          5.8,
          6.2,
          5.6,
          5.9,
          6.1,
          6.3,
          6.1,
          6.4,
          6.6,
          6.8,
          6.7,
          6,
          5.7,
          5.5,
          5.5,
          5.8,
          6,
          5.4,
          6,
          6.7,
          6.3,
          5.6,
          5.5,
          5.5,
          6.1,
          5.8,
          5,
          5.6,
          5.7,
          5.7,
          6.2,
          5.1,
          5.7
         ],
         "y": [
          3.2,
          3.2,
          3.1,
          2.3,
          2.8,
          2.8,
          3.3,
          2.4,
          2.9,
          2.7,
          2,
          3,
          2.2,
          2.9,
          2.9,
          3.1,
          3,
          2.7,
          2.2,
          2.5,
          3.2,
          2.8,
          2.5,
          2.8,
          2.9,
          3,
          2.8,
          3,
          2.9,
          2.6,
          2.4,
          2.4,
          2.7,
          2.7,
          3,
          3.4,
          3.1,
          2.3,
          3,
          2.5,
          2.6,
          3,
          2.6,
          2.3,
          2.7,
          3,
          2.9,
          2.9,
          2.5,
          2.8
         ]
        },
        {
         "mode": "markers",
         "name": "virginica",
         "type": "scatter",
         "x": [
          6.3,
          5.8,
          7.1,
          6.3,
          6.5,
          7.6,
          4.9,
          7.3,
          6.7,
          7.2,
          6.5,
          6.4,
          6.8,
          5.7,
          5.8,
          6.4,
          6.5,
          7.7,
          7.7,
          6,
          6.9,
          5.6,
          7.7,
          6.3,
          6.7,
          7.2,
          6.2,
          6.1,
          6.4,
          7.2,
          7.4,
          7.9,
          6.4,
          6.3,
          6.1,
          7.7,
          6.3,
          6.4,
          6,
          6.9,
          6.7,
          6.9,
          5.8,
          6.8,
          6.7,
          6.7,
          6.3,
          6.5,
          6.2,
          5.9
         ],
         "y": [
          3.3,
          2.7,
          3,
          2.9,
          3,
          3,
          2.5,
          2.9,
          2.5,
          3.6,
          3.2,
          2.7,
          3,
          2.5,
          2.8,
          3.2,
          3,
          3.8,
          2.6,
          2.2,
          3.2,
          2.8,
          2.8,
          2.7,
          3.3,
          3.2,
          2.8,
          3,
          2.8,
          3,
          2.8,
          3.8,
          2.8,
          2.8,
          2.6,
          3,
          3.4,
          3.1,
          3,
          3.1,
          3.1,
          3.1,
          2.7,
          3.2,
          3.3,
          3,
          2.5,
          3,
          3.4,
          3
         ]
        }
       ],
       "layout": {
        "template": {
         "data": {
          "bar": [
           {
            "error_x": {
             "color": "#2a3f5f"
            },
            "error_y": {
             "color": "#2a3f5f"
            },
            "marker": {
             "line": {
              "color": "#E5ECF6",
              "width": 0.5
             }
            },
            "type": "bar"
           }
          ],
          "barpolar": [
           {
            "marker": {
             "line": {
              "color": "#E5ECF6",
              "width": 0.5
             }
            },
            "type": "barpolar"
           }
          ],
          "carpet": [
           {
            "aaxis": {
             "endlinecolor": "#2a3f5f",
             "gridcolor": "white",
             "linecolor": "white",
             "minorgridcolor": "white",
             "startlinecolor": "#2a3f5f"
            },
            "baxis": {
             "endlinecolor": "#2a3f5f",
             "gridcolor": "white",
             "linecolor": "white",
             "minorgridcolor": "white",
             "startlinecolor": "#2a3f5f"
            },
            "type": "carpet"
           }
          ],
          "choropleth": [
           {
            "colorbar": {
             "outlinewidth": 0,
             "ticks": ""
            },
            "type": "choropleth"
           }
          ],
          "contour": [
           {
            "colorbar": {
             "outlinewidth": 0,
             "ticks": ""
            },
            "colorscale": [
             [
              0,
              "#0d0887"
             ],
             [
              0.1111111111111111,
              "#46039f"
             ],
             [
              0.2222222222222222,
              "#7201a8"
             ],
             [
              0.3333333333333333,
              "#9c179e"
             ],
             [
              0.4444444444444444,
              "#bd3786"
             ],
             [
              0.5555555555555556,
              "#d8576b"
             ],
             [
              0.6666666666666666,
              "#ed7953"
             ],
             [
              0.7777777777777778,
              "#fb9f3a"
             ],
             [
              0.8888888888888888,
              "#fdca26"
             ],
             [
              1,
              "#f0f921"
             ]
            ],
            "type": "contour"
           }
          ],
          "contourcarpet": [
           {
            "colorbar": {
             "outlinewidth": 0,
             "ticks": ""
            },
            "type": "contourcarpet"
           }
          ],
          "heatmap": [
           {
            "colorbar": {
             "outlinewidth": 0,
             "ticks": ""
            },
            "colorscale": [
             [
              0,
              "#0d0887"
             ],
             [
              0.1111111111111111,
              "#46039f"
             ],
             [
              0.2222222222222222,
              "#7201a8"
             ],
             [
              0.3333333333333333,
              "#9c179e"
             ],
             [
              0.4444444444444444,
              "#bd3786"
             ],
             [
              0.5555555555555556,
              "#d8576b"
             ],
             [
              0.6666666666666666,
              "#ed7953"
             ],
             [
              0.7777777777777778,
              "#fb9f3a"
             ],
             [
              0.8888888888888888,
              "#fdca26"
             ],
             [
              1,
              "#f0f921"
             ]
            ],
            "type": "heatmap"
           }
          ],
          "heatmapgl": [
           {
            "colorbar": {
             "outlinewidth": 0,
             "ticks": ""
            },
            "colorscale": [
             [
              0,
              "#0d0887"
             ],
             [
              0.1111111111111111,
              "#46039f"
             ],
             [
              0.2222222222222222,
              "#7201a8"
             ],
             [
              0.3333333333333333,
              "#9c179e"
             ],
             [
              0.4444444444444444,
              "#bd3786"
             ],
             [
              0.5555555555555556,
              "#d8576b"
             ],
             [
              0.6666666666666666,
              "#ed7953"
             ],
             [
              0.7777777777777778,
              "#fb9f3a"
             ],
             [
              0.8888888888888888,
              "#fdca26"
             ],
             [
              1,
              "#f0f921"
             ]
            ],
            "type": "heatmapgl"
           }
          ],
          "histogram": [
           {
            "marker": {
             "colorbar": {
              "outlinewidth": 0,
              "ticks": ""
             }
            },
            "type": "histogram"
           }
          ],
          "histogram2d": [
           {
            "colorbar": {
             "outlinewidth": 0,
             "ticks": ""
            },
            "colorscale": [
             [
              0,
              "#0d0887"
             ],
             [
              0.1111111111111111,
              "#46039f"
             ],
             [
              0.2222222222222222,
              "#7201a8"
             ],
             [
              0.3333333333333333,
              "#9c179e"
             ],
             [
              0.4444444444444444,
              "#bd3786"
             ],
             [
              0.5555555555555556,
              "#d8576b"
             ],
             [
              0.6666666666666666,
              "#ed7953"
             ],
             [
              0.7777777777777778,
              "#fb9f3a"
             ],
             [
              0.8888888888888888,
              "#fdca26"
             ],
             [
              1,
              "#f0f921"
             ]
            ],
            "type": "histogram2d"
           }
          ],
          "histogram2dcontour": [
           {
            "colorbar": {
             "outlinewidth": 0,
             "ticks": ""
            },
            "colorscale": [
             [
              0,
              "#0d0887"
             ],
             [
              0.1111111111111111,
              "#46039f"
             ],
             [
              0.2222222222222222,
              "#7201a8"
             ],
             [
              0.3333333333333333,
              "#9c179e"
             ],
             [
              0.4444444444444444,
              "#bd3786"
             ],
             [
              0.5555555555555556,
              "#d8576b"
             ],
             [
              0.6666666666666666,
              "#ed7953"
             ],
             [
              0.7777777777777778,
              "#fb9f3a"
             ],
             [
              0.8888888888888888,
              "#fdca26"
             ],
             [
              1,
              "#f0f921"
             ]
            ],
            "type": "histogram2dcontour"
           }
          ],
          "mesh3d": [
           {
            "colorbar": {
             "outlinewidth": 0,
             "ticks": ""
            },
            "type": "mesh3d"
           }
          ],
          "parcoords": [
           {
            "line": {
             "colorbar": {
              "outlinewidth": 0,
              "ticks": ""
             }
            },
            "type": "parcoords"
           }
          ],
          "pie": [
           {
            "automargin": true,
            "type": "pie"
           }
          ],
          "scatter": [
           {
            "marker": {
             "colorbar": {
              "outlinewidth": 0,
              "ticks": ""
             }
            },
            "type": "scatter"
           }
          ],
          "scatter3d": [
           {
            "line": {
             "colorbar": {
              "outlinewidth": 0,
              "ticks": ""
             }
            },
            "marker": {
             "colorbar": {
              "outlinewidth": 0,
              "ticks": ""
             }
            },
            "type": "scatter3d"
           }
          ],
          "scattercarpet": [
           {
            "marker": {
             "colorbar": {
              "outlinewidth": 0,
              "ticks": ""
             }
            },
            "type": "scattercarpet"
           }
          ],
          "scattergeo": [
           {
            "marker": {
             "colorbar": {
              "outlinewidth": 0,
              "ticks": ""
             }
            },
            "type": "scattergeo"
           }
          ],
          "scattergl": [
           {
            "marker": {
             "colorbar": {
              "outlinewidth": 0,
              "ticks": ""
             }
            },
            "type": "scattergl"
           }
          ],
          "scattermapbox": [
           {
            "marker": {
             "colorbar": {
              "outlinewidth": 0,
              "ticks": ""
             }
            },
            "type": "scattermapbox"
           }
          ],
          "scatterpolar": [
           {
            "marker": {
             "colorbar": {
              "outlinewidth": 0,
              "ticks": ""
             }
            },
            "type": "scatterpolar"
           }
          ],
          "scatterpolargl": [
           {
            "marker": {
             "colorbar": {
              "outlinewidth": 0,
              "ticks": ""
             }
            },
            "type": "scatterpolargl"
           }
          ],
          "scatterternary": [
           {
            "marker": {
             "colorbar": {
              "outlinewidth": 0,
              "ticks": ""
             }
            },
            "type": "scatterternary"
           }
          ],
          "surface": [
           {
            "colorbar": {
             "outlinewidth": 0,
             "ticks": ""
            },
            "colorscale": [
             [
              0,
              "#0d0887"
             ],
             [
              0.1111111111111111,
              "#46039f"
             ],
             [
              0.2222222222222222,
              "#7201a8"
             ],
             [
              0.3333333333333333,
              "#9c179e"
             ],
             [
              0.4444444444444444,
              "#bd3786"
             ],
             [
              0.5555555555555556,
              "#d8576b"
             ],
             [
              0.6666666666666666,
              "#ed7953"
             ],
             [
              0.7777777777777778,
              "#fb9f3a"
             ],
             [
              0.8888888888888888,
              "#fdca26"
             ],
             [
              1,
              "#f0f921"
             ]
            ],
            "type": "surface"
           }
          ],
          "table": [
           {
            "cells": {
             "fill": {
              "color": "#EBF0F8"
             },
             "line": {
              "color": "white"
             }
            },
            "header": {
             "fill": {
              "color": "#C8D4E3"
             },
             "line": {
              "color": "white"
             }
            },
            "type": "table"
           }
          ]
         },
         "layout": {
          "annotationdefaults": {
           "arrowcolor": "#2a3f5f",
           "arrowhead": 0,
           "arrowwidth": 1
          },
          "autotypenumbers": "strict",
          "coloraxis": {
           "colorbar": {
            "outlinewidth": 0,
            "ticks": ""
           }
          },
          "colorscale": {
           "diverging": [
            [
             0,
             "#8e0152"
            ],
            [
             0.1,
             "#c51b7d"
            ],
            [
             0.2,
             "#de77ae"
            ],
            [
             0.3,
             "#f1b6da"
            ],
            [
             0.4,
             "#fde0ef"
            ],
            [
             0.5,
             "#f7f7f7"
            ],
            [
             0.6,
             "#e6f5d0"
            ],
            [
             0.7,
             "#b8e186"
            ],
            [
             0.8,
             "#7fbc41"
            ],
            [
             0.9,
             "#4d9221"
            ],
            [
             1,
             "#276419"
            ]
           ],
           "sequential": [
            [
             0,
             "#0d0887"
            ],
            [
             0.1111111111111111,
             "#46039f"
            ],
            [
             0.2222222222222222,
             "#7201a8"
            ],
            [
             0.3333333333333333,
             "#9c179e"
            ],
            [
             0.4444444444444444,
             "#bd3786"
            ],
            [
             0.5555555555555556,
             "#d8576b"
            ],
            [
             0.6666666666666666,
             "#ed7953"
            ],
            [
             0.7777777777777778,
             "#fb9f3a"
            ],
            [
             0.8888888888888888,
             "#fdca26"
            ],
            [
             1,
             "#f0f921"
            ]
           ],
           "sequentialminus": [
            [
             0,
             "#0d0887"
            ],
            [
             0.1111111111111111,
             "#46039f"
            ],
            [
             0.2222222222222222,
             "#7201a8"
            ],
            [
             0.3333333333333333,
             "#9c179e"
            ],
            [
             0.4444444444444444,
             "#bd3786"
            ],
            [
             0.5555555555555556,
             "#d8576b"
            ],
            [
             0.6666666666666666,
             "#ed7953"
            ],
            [
             0.7777777777777778,
             "#fb9f3a"
            ],
            [
             0.8888888888888888,
             "#fdca26"
            ],
            [
             1,
             "#f0f921"
            ]
           ]
          },
          "colorway": [
           "#636efa",
           "#EF553B",
           "#00cc96",
           "#ab63fa",
           "#FFA15A",
           "#19d3f3",
           "#FF6692",
           "#B6E880",
           "#FF97FF",
           "#FECB52"
          ],
          "font": {
           "color": "#2a3f5f"
          },
          "geo": {
           "bgcolor": "white",
           "lakecolor": "white",
           "landcolor": "#E5ECF6",
           "showlakes": true,
           "showland": true,
           "subunitcolor": "white"
          },
          "hoverlabel": {
           "align": "left"
          },
          "hovermode": "closest",
          "mapbox": {
           "style": "light"
          },
          "paper_bgcolor": "white",
          "plot_bgcolor": "#E5ECF6",
          "polar": {
           "angularaxis": {
            "gridcolor": "white",
            "linecolor": "white",
            "ticks": ""
           },
           "bgcolor": "#E5ECF6",
           "radialaxis": {
            "gridcolor": "white",
            "linecolor": "white",
            "ticks": ""
           }
          },
          "scene": {
           "xaxis": {
            "backgroundcolor": "#E5ECF6",
            "gridcolor": "white",
            "gridwidth": 2,
            "linecolor": "white",
            "showbackground": true,
            "ticks": "",
            "zerolinecolor": "white"
           },
           "yaxis": {
            "backgroundcolor": "#E5ECF6",
            "gridcolor": "white",
            "gridwidth": 2,
            "linecolor": "white",
            "showbackground": true,
            "ticks": "",
            "zerolinecolor": "white"
           },
           "zaxis": {
            "backgroundcolor": "#E5ECF6",
            "gridcolor": "white",
            "gridwidth": 2,
            "linecolor": "white",
            "showbackground": true,
            "ticks": "",
            "zerolinecolor": "white"
           }
          },
          "shapedefaults": {
           "line": {
            "color": "#2a3f5f"
           }
          },
          "ternary": {
           "aaxis": {
            "gridcolor": "white",
            "linecolor": "white",
            "ticks": ""
           },
           "baxis": {
            "gridcolor": "white",
            "linecolor": "white",
            "ticks": ""
           },
           "bgcolor": "#E5ECF6",
           "caxis": {
            "gridcolor": "white",
            "linecolor": "white",
            "ticks": ""
           }
          },
          "title": {
           "x": 0.05
          },
          "xaxis": {
           "automargin": true,
           "gridcolor": "white",
           "linecolor": "white",
           "ticks": "",
           "title": {
            "standoff": 15
           },
           "zerolinecolor": "white",
           "zerolinewidth": 2
          },
          "yaxis": {
           "automargin": true,
           "gridcolor": "white",
           "linecolor": "white",
           "ticks": "",
           "title": {
            "standoff": 15
           },
           "zerolinecolor": "white",
           "zerolinewidth": 2
          }
         }
        },
        "xaxis": {
         "title": {
          "text": "sepal_length"
         }
        },
        "yaxis": {
         "title": {
          "text": "sepal_width"
         }
        }
       }
      },
      "text/html": [
       "<div>                            <div id=\"747ae926-ed85-4c39-aba6-2a31e4c14d12\" class=\"plotly-graph-div\" style=\"height:525px; width:100%;\"></div>            <script type=\"text/javascript\">                require([\"plotly\"], function(Plotly) {                    window.PLOTLYENV=window.PLOTLYENV || {};                                    if (document.getElementById(\"747ae926-ed85-4c39-aba6-2a31e4c14d12\")) {                    Plotly.newPlot(                        \"747ae926-ed85-4c39-aba6-2a31e4c14d12\",                        [{\"mode\": \"markers\", \"name\": \"setosa\", \"type\": \"scatter\", \"x\": [5.1, 4.9, 4.7, 4.6, 5.0, 5.4, 4.6, 5.0, 4.4, 4.9, 5.4, 4.8, 4.8, 4.3, 5.8, 5.7, 5.4, 5.1, 5.7, 5.1, 5.4, 5.1, 4.6, 5.1, 4.8, 5.0, 5.0, 5.2, 5.2, 4.7, 4.8, 5.4, 5.2, 5.5, 4.9, 5.0, 5.5, 4.9, 4.4, 5.1, 5.0, 4.5, 4.4, 5.0, 5.1, 4.8, 5.1, 4.6, 5.3, 5.0], \"y\": [3.5, 3.0, 3.2, 3.1, 3.6, 3.9, 3.4, 3.4, 2.9, 3.1, 3.7, 3.4, 3.0, 3.0, 4.0, 4.4, 3.9, 3.5, 3.8, 3.8, 3.4, 3.7, 3.6, 3.3, 3.4, 3.0, 3.4, 3.5, 3.4, 3.2, 3.1, 3.4, 4.1, 4.2, 3.1, 3.2, 3.5, 3.6, 3.0, 3.4, 3.5, 2.3, 3.2, 3.5, 3.8, 3.0, 3.8, 3.2, 3.7, 3.3]}, {\"mode\": \"markers\", \"name\": \"versicolor\", \"type\": \"scatter\", \"x\": [7.0, 6.4, 6.9, 5.5, 6.5, 5.7, 6.3, 4.9, 6.6, 5.2, 5.0, 5.9, 6.0, 6.1, 5.6, 6.7, 5.6, 5.8, 6.2, 5.6, 5.9, 6.1, 6.3, 6.1, 6.4, 6.6, 6.8, 6.7, 6.0, 5.7, 5.5, 5.5, 5.8, 6.0, 5.4, 6.0, 6.7, 6.3, 5.6, 5.5, 5.5, 6.1, 5.8, 5.0, 5.6, 5.7, 5.7, 6.2, 5.1, 5.7], \"y\": [3.2, 3.2, 3.1, 2.3, 2.8, 2.8, 3.3, 2.4, 2.9, 2.7, 2.0, 3.0, 2.2, 2.9, 2.9, 3.1, 3.0, 2.7, 2.2, 2.5, 3.2, 2.8, 2.5, 2.8, 2.9, 3.0, 2.8, 3.0, 2.9, 2.6, 2.4, 2.4, 2.7, 2.7, 3.0, 3.4, 3.1, 2.3, 3.0, 2.5, 2.6, 3.0, 2.6, 2.3, 2.7, 3.0, 2.9, 2.9, 2.5, 2.8]}, {\"mode\": \"markers\", \"name\": \"virginica\", \"type\": \"scatter\", \"x\": [6.3, 5.8, 7.1, 6.3, 6.5, 7.6, 4.9, 7.3, 6.7, 7.2, 6.5, 6.4, 6.8, 5.7, 5.8, 6.4, 6.5, 7.7, 7.7, 6.0, 6.9, 5.6, 7.7, 6.3, 6.7, 7.2, 6.2, 6.1, 6.4, 7.2, 7.4, 7.9, 6.4, 6.3, 6.1, 7.7, 6.3, 6.4, 6.0, 6.9, 6.7, 6.9, 5.8, 6.8, 6.7, 6.7, 6.3, 6.5, 6.2, 5.9], \"y\": [3.3, 2.7, 3.0, 2.9, 3.0, 3.0, 2.5, 2.9, 2.5, 3.6, 3.2, 2.7, 3.0, 2.5, 2.8, 3.2, 3.0, 3.8, 2.6, 2.2, 3.2, 2.8, 2.8, 2.7, 3.3, 3.2, 2.8, 3.0, 2.8, 3.0, 2.8, 3.8, 2.8, 2.8, 2.6, 3.0, 3.4, 3.1, 3.0, 3.1, 3.1, 3.1, 2.7, 3.2, 3.3, 3.0, 2.5, 3.0, 3.4, 3.0]}],                        {\"template\": {\"data\": {\"bar\": [{\"error_x\": {\"color\": \"#2a3f5f\"}, \"error_y\": {\"color\": \"#2a3f5f\"}, \"marker\": {\"line\": {\"color\": \"#E5ECF6\", \"width\": 0.5}}, \"type\": \"bar\"}], \"barpolar\": [{\"marker\": {\"line\": {\"color\": \"#E5ECF6\", \"width\": 0.5}}, \"type\": \"barpolar\"}], \"carpet\": [{\"aaxis\": {\"endlinecolor\": \"#2a3f5f\", \"gridcolor\": \"white\", \"linecolor\": \"white\", \"minorgridcolor\": \"white\", \"startlinecolor\": \"#2a3f5f\"}, \"baxis\": {\"endlinecolor\": \"#2a3f5f\", \"gridcolor\": \"white\", \"linecolor\": \"white\", \"minorgridcolor\": \"white\", \"startlinecolor\": \"#2a3f5f\"}, \"type\": \"carpet\"}], \"choropleth\": [{\"colorbar\": {\"outlinewidth\": 0, \"ticks\": \"\"}, \"type\": \"choropleth\"}], \"contour\": [{\"colorbar\": {\"outlinewidth\": 0, \"ticks\": \"\"}, \"colorscale\": [[0.0, \"#0d0887\"], [0.1111111111111111, \"#46039f\"], [0.2222222222222222, \"#7201a8\"], [0.3333333333333333, \"#9c179e\"], [0.4444444444444444, \"#bd3786\"], [0.5555555555555556, \"#d8576b\"], [0.6666666666666666, \"#ed7953\"], [0.7777777777777778, \"#fb9f3a\"], [0.8888888888888888, \"#fdca26\"], [1.0, \"#f0f921\"]], \"type\": \"contour\"}], \"contourcarpet\": [{\"colorbar\": {\"outlinewidth\": 0, \"ticks\": \"\"}, \"type\": \"contourcarpet\"}], \"heatmap\": [{\"colorbar\": {\"outlinewidth\": 0, \"ticks\": \"\"}, \"colorscale\": [[0.0, \"#0d0887\"], [0.1111111111111111, \"#46039f\"], [0.2222222222222222, \"#7201a8\"], [0.3333333333333333, \"#9c179e\"], [0.4444444444444444, \"#bd3786\"], [0.5555555555555556, \"#d8576b\"], [0.6666666666666666, \"#ed7953\"], [0.7777777777777778, \"#fb9f3a\"], [0.8888888888888888, \"#fdca26\"], [1.0, \"#f0f921\"]], \"type\": \"heatmap\"}], \"heatmapgl\": [{\"colorbar\": {\"outlinewidth\": 0, \"ticks\": \"\"}, \"colorscale\": [[0.0, \"#0d0887\"], [0.1111111111111111, \"#46039f\"], [0.2222222222222222, \"#7201a8\"], [0.3333333333333333, \"#9c179e\"], [0.4444444444444444, \"#bd3786\"], [0.5555555555555556, \"#d8576b\"], [0.6666666666666666, \"#ed7953\"], [0.7777777777777778, \"#fb9f3a\"], [0.8888888888888888, \"#fdca26\"], [1.0, \"#f0f921\"]], \"type\": \"heatmapgl\"}], \"histogram\": [{\"marker\": {\"colorbar\": {\"outlinewidth\": 0, \"ticks\": \"\"}}, \"type\": \"histogram\"}], \"histogram2d\": [{\"colorbar\": {\"outlinewidth\": 0, \"ticks\": \"\"}, \"colorscale\": [[0.0, \"#0d0887\"], [0.1111111111111111, \"#46039f\"], [0.2222222222222222, \"#7201a8\"], [0.3333333333333333, \"#9c179e\"], [0.4444444444444444, \"#bd3786\"], [0.5555555555555556, \"#d8576b\"], [0.6666666666666666, \"#ed7953\"], [0.7777777777777778, \"#fb9f3a\"], [0.8888888888888888, \"#fdca26\"], [1.0, \"#f0f921\"]], \"type\": \"histogram2d\"}], \"histogram2dcontour\": [{\"colorbar\": {\"outlinewidth\": 0, \"ticks\": \"\"}, \"colorscale\": [[0.0, \"#0d0887\"], [0.1111111111111111, \"#46039f\"], [0.2222222222222222, \"#7201a8\"], [0.3333333333333333, \"#9c179e\"], [0.4444444444444444, \"#bd3786\"], [0.5555555555555556, \"#d8576b\"], [0.6666666666666666, \"#ed7953\"], [0.7777777777777778, \"#fb9f3a\"], [0.8888888888888888, \"#fdca26\"], [1.0, \"#f0f921\"]], \"type\": \"histogram2dcontour\"}], \"mesh3d\": [{\"colorbar\": {\"outlinewidth\": 0, \"ticks\": \"\"}, \"type\": \"mesh3d\"}], \"parcoords\": [{\"line\": {\"colorbar\": {\"outlinewidth\": 0, \"ticks\": \"\"}}, \"type\": \"parcoords\"}], \"pie\": [{\"automargin\": true, \"type\": \"pie\"}], \"scatter\": [{\"marker\": {\"colorbar\": {\"outlinewidth\": 0, \"ticks\": \"\"}}, \"type\": \"scatter\"}], \"scatter3d\": [{\"line\": {\"colorbar\": {\"outlinewidth\": 0, \"ticks\": \"\"}}, \"marker\": {\"colorbar\": {\"outlinewidth\": 0, \"ticks\": \"\"}}, \"type\": \"scatter3d\"}], \"scattercarpet\": [{\"marker\": {\"colorbar\": {\"outlinewidth\": 0, \"ticks\": \"\"}}, \"type\": \"scattercarpet\"}], \"scattergeo\": [{\"marker\": {\"colorbar\": {\"outlinewidth\": 0, \"ticks\": \"\"}}, \"type\": \"scattergeo\"}], \"scattergl\": [{\"marker\": {\"colorbar\": {\"outlinewidth\": 0, \"ticks\": \"\"}}, \"type\": \"scattergl\"}], \"scattermapbox\": [{\"marker\": {\"colorbar\": {\"outlinewidth\": 0, \"ticks\": \"\"}}, \"type\": \"scattermapbox\"}], \"scatterpolar\": [{\"marker\": {\"colorbar\": {\"outlinewidth\": 0, \"ticks\": \"\"}}, \"type\": \"scatterpolar\"}], \"scatterpolargl\": [{\"marker\": {\"colorbar\": {\"outlinewidth\": 0, \"ticks\": \"\"}}, \"type\": \"scatterpolargl\"}], \"scatterternary\": [{\"marker\": {\"colorbar\": {\"outlinewidth\": 0, \"ticks\": \"\"}}, \"type\": \"scatterternary\"}], \"surface\": [{\"colorbar\": {\"outlinewidth\": 0, \"ticks\": \"\"}, \"colorscale\": [[0.0, \"#0d0887\"], [0.1111111111111111, \"#46039f\"], [0.2222222222222222, \"#7201a8\"], [0.3333333333333333, \"#9c179e\"], [0.4444444444444444, \"#bd3786\"], [0.5555555555555556, \"#d8576b\"], [0.6666666666666666, \"#ed7953\"], [0.7777777777777778, \"#fb9f3a\"], [0.8888888888888888, \"#fdca26\"], [1.0, \"#f0f921\"]], \"type\": \"surface\"}], \"table\": [{\"cells\": {\"fill\": {\"color\": \"#EBF0F8\"}, \"line\": {\"color\": \"white\"}}, \"header\": {\"fill\": {\"color\": \"#C8D4E3\"}, \"line\": {\"color\": \"white\"}}, \"type\": \"table\"}]}, \"layout\": {\"annotationdefaults\": {\"arrowcolor\": \"#2a3f5f\", \"arrowhead\": 0, \"arrowwidth\": 1}, \"autotypenumbers\": \"strict\", \"coloraxis\": {\"colorbar\": {\"outlinewidth\": 0, \"ticks\": \"\"}}, \"colorscale\": {\"diverging\": [[0, \"#8e0152\"], [0.1, \"#c51b7d\"], [0.2, \"#de77ae\"], [0.3, \"#f1b6da\"], [0.4, \"#fde0ef\"], [0.5, \"#f7f7f7\"], [0.6, \"#e6f5d0\"], [0.7, \"#b8e186\"], [0.8, \"#7fbc41\"], [0.9, \"#4d9221\"], [1, \"#276419\"]], \"sequential\": [[0.0, \"#0d0887\"], [0.1111111111111111, \"#46039f\"], [0.2222222222222222, \"#7201a8\"], [0.3333333333333333, \"#9c179e\"], [0.4444444444444444, \"#bd3786\"], [0.5555555555555556, \"#d8576b\"], [0.6666666666666666, \"#ed7953\"], [0.7777777777777778, \"#fb9f3a\"], [0.8888888888888888, \"#fdca26\"], [1.0, \"#f0f921\"]], \"sequentialminus\": [[0.0, \"#0d0887\"], [0.1111111111111111, \"#46039f\"], [0.2222222222222222, \"#7201a8\"], [0.3333333333333333, \"#9c179e\"], [0.4444444444444444, \"#bd3786\"], [0.5555555555555556, \"#d8576b\"], [0.6666666666666666, \"#ed7953\"], [0.7777777777777778, \"#fb9f3a\"], [0.8888888888888888, \"#fdca26\"], [1.0, \"#f0f921\"]]}, \"colorway\": [\"#636efa\", \"#EF553B\", \"#00cc96\", \"#ab63fa\", \"#FFA15A\", \"#19d3f3\", \"#FF6692\", \"#B6E880\", \"#FF97FF\", \"#FECB52\"], \"font\": {\"color\": \"#2a3f5f\"}, \"geo\": {\"bgcolor\": \"white\", \"lakecolor\": \"white\", \"landcolor\": \"#E5ECF6\", \"showlakes\": true, \"showland\": true, \"subunitcolor\": \"white\"}, \"hoverlabel\": {\"align\": \"left\"}, \"hovermode\": \"closest\", \"mapbox\": {\"style\": \"light\"}, \"paper_bgcolor\": \"white\", \"plot_bgcolor\": \"#E5ECF6\", \"polar\": {\"angularaxis\": {\"gridcolor\": \"white\", \"linecolor\": \"white\", \"ticks\": \"\"}, \"bgcolor\": \"#E5ECF6\", \"radialaxis\": {\"gridcolor\": \"white\", \"linecolor\": \"white\", \"ticks\": \"\"}}, \"scene\": {\"xaxis\": {\"backgroundcolor\": \"#E5ECF6\", \"gridcolor\": \"white\", \"gridwidth\": 2, \"linecolor\": \"white\", \"showbackground\": true, \"ticks\": \"\", \"zerolinecolor\": \"white\"}, \"yaxis\": {\"backgroundcolor\": \"#E5ECF6\", \"gridcolor\": \"white\", \"gridwidth\": 2, \"linecolor\": \"white\", \"showbackground\": true, \"ticks\": \"\", \"zerolinecolor\": \"white\"}, \"zaxis\": {\"backgroundcolor\": \"#E5ECF6\", \"gridcolor\": \"white\", \"gridwidth\": 2, \"linecolor\": \"white\", \"showbackground\": true, \"ticks\": \"\", \"zerolinecolor\": \"white\"}}, \"shapedefaults\": {\"line\": {\"color\": \"#2a3f5f\"}}, \"ternary\": {\"aaxis\": {\"gridcolor\": \"white\", \"linecolor\": \"white\", \"ticks\": \"\"}, \"baxis\": {\"gridcolor\": \"white\", \"linecolor\": \"white\", \"ticks\": \"\"}, \"bgcolor\": \"#E5ECF6\", \"caxis\": {\"gridcolor\": \"white\", \"linecolor\": \"white\", \"ticks\": \"\"}}, \"title\": {\"x\": 0.05}, \"xaxis\": {\"automargin\": true, \"gridcolor\": \"white\", \"linecolor\": \"white\", \"ticks\": \"\", \"title\": {\"standoff\": 15}, \"zerolinecolor\": \"white\", \"zerolinewidth\": 2}, \"yaxis\": {\"automargin\": true, \"gridcolor\": \"white\", \"linecolor\": \"white\", \"ticks\": \"\", \"title\": {\"standoff\": 15}, \"zerolinecolor\": \"white\", \"zerolinewidth\": 2}}}, \"xaxis\": {\"title\": {\"text\": \"sepal_length\"}}, \"yaxis\": {\"title\": {\"text\": \"sepal_width\"}}},                        {\"responsive\": true}                    ).then(function(){\n",
       "                            \n",
       "var gd = document.getElementById('747ae926-ed85-4c39-aba6-2a31e4c14d12');\n",
       "var x = new MutationObserver(function (mutations, observer) {{\n",
       "        var display = window.getComputedStyle(gd).display;\n",
       "        if (!display || display === 'none') {{\n",
       "            console.log([gd, 'removed!']);\n",
       "            Plotly.purge(gd);\n",
       "            observer.disconnect();\n",
       "        }}\n",
       "}});\n",
       "\n",
       "// Listen for the removal of the full notebook cells\n",
       "var notebookContainer = gd.closest('#notebook-container');\n",
       "if (notebookContainer) {{\n",
       "    x.observe(notebookContainer, {childList: true});\n",
       "}}\n",
       "\n",
       "// Listen for the clearing of the current output cell\n",
       "var outputEl = gd.closest('.output');\n",
       "if (outputEl) {{\n",
       "    x.observe(outputEl, {childList: true});\n",
       "}}\n",
       "\n",
       "                        })                };                });            </script>        </div>"
      ]
     },
     "metadata": {},
     "output_type": "display_data"
    }
   ],
   "source": [
    "graph = go.Figure()\n",
    "\n",
    "for i in range(0,3):\n",
    "    \n",
    "    graph.add_trace(\n",
    "    go.Scatter(x=iris_df[iris_df['target']==i]['sepal_length'],y=iris_df[iris_df['target']==i]['sepal_width'],mode='markers' ,\n",
    "               name = iris.target_names[i])\n",
    "    )\n",
    "\n",
    "graph.update_xaxes(title_text=\"sepal_length\")    \n",
    "graph.update_yaxes(title_text=\"sepal_width\")\n",
    "\n",
    "graph.show()"
   ]
  },
  {
   "cell_type": "markdown",
   "metadata": {},
   "source": [
    "이제는 PCA 로 4개 속성을 2개로 압축한 뒤 앞의 예제와 비슷하게 2개의 PCA 속성으로 붓꽃 데이터의 품종 분포를 2차원으로 시각화 해보자.<br>\n",
    "PCA 를 적용하기 전에 각 피처를 __동일한 스케일로 변환__ 시켜주는 과정이 필요하다."
   ]
  },
  {
   "cell_type": "code",
   "execution_count": 51,
   "metadata": {},
   "outputs": [],
   "source": [
    "from sklearn.preprocessing import StandardScaler\n",
    "\n",
    "# target 값은 제외하고 스케일링 \n",
    "iris_scaled = StandardScaler().fit_transform(iris_df.iloc[:,:-1])"
   ]
  },
  {
   "cell_type": "markdown",
   "metadata": {},
   "source": [
    "이제 PCA 를 적용해서 차원을 축소 시켜준 뒤에 새로운 2개의 속성으로 변환된 데이트 세트를 시각화 한다."
   ]
  },
  {
   "cell_type": "code",
   "execution_count": 52,
   "metadata": {},
   "outputs": [
    {
     "data": {
      "text/plain": [
       "(150, 2)"
      ]
     },
     "execution_count": 52,
     "metadata": {},
     "output_type": "execute_result"
    }
   ],
   "source": [
    "from sklearn.decomposition import PCA\n",
    "\n",
    "# n_components = PCA 로 변환할 차원의 수 \n",
    "pca = PCA(n_components=2)\n",
    "\n",
    "pca.fit(iris_scaled)\n",
    "iris_pca = pca.transform(iris_scaled)\n",
    "\n",
    "iris_pca.shape"
   ]
  },
  {
   "cell_type": "code",
   "execution_count": 53,
   "metadata": {
    "scrolled": false
   },
   "outputs": [
    {
     "data": {
      "text/html": [
       "<div>\n",
       "<style scoped>\n",
       "    .dataframe tbody tr th:only-of-type {\n",
       "        vertical-align: middle;\n",
       "    }\n",
       "\n",
       "    .dataframe tbody tr th {\n",
       "        vertical-align: top;\n",
       "    }\n",
       "\n",
       "    .dataframe thead th {\n",
       "        text-align: right;\n",
       "    }\n",
       "</style>\n",
       "<table border=\"1\" class=\"dataframe\">\n",
       "  <thead>\n",
       "    <tr style=\"text-align: right;\">\n",
       "      <th></th>\n",
       "      <th>pca_component1</th>\n",
       "      <th>pca_component2</th>\n",
       "      <th>target</th>\n",
       "    </tr>\n",
       "  </thead>\n",
       "  <tbody>\n",
       "    <tr>\n",
       "      <th>0</th>\n",
       "      <td>-2.264703</td>\n",
       "      <td>0.480027</td>\n",
       "      <td>0</td>\n",
       "    </tr>\n",
       "    <tr>\n",
       "      <th>1</th>\n",
       "      <td>-2.080961</td>\n",
       "      <td>-0.674134</td>\n",
       "      <td>0</td>\n",
       "    </tr>\n",
       "    <tr>\n",
       "      <th>2</th>\n",
       "      <td>-2.364229</td>\n",
       "      <td>-0.341908</td>\n",
       "      <td>0</td>\n",
       "    </tr>\n",
       "    <tr>\n",
       "      <th>3</th>\n",
       "      <td>-2.299384</td>\n",
       "      <td>-0.597395</td>\n",
       "      <td>0</td>\n",
       "    </tr>\n",
       "    <tr>\n",
       "      <th>4</th>\n",
       "      <td>-2.389842</td>\n",
       "      <td>0.646835</td>\n",
       "      <td>0</td>\n",
       "    </tr>\n",
       "    <tr>\n",
       "      <th>...</th>\n",
       "      <td>...</td>\n",
       "      <td>...</td>\n",
       "      <td>...</td>\n",
       "    </tr>\n",
       "    <tr>\n",
       "      <th>145</th>\n",
       "      <td>1.870503</td>\n",
       "      <td>0.386966</td>\n",
       "      <td>2</td>\n",
       "    </tr>\n",
       "    <tr>\n",
       "      <th>146</th>\n",
       "      <td>1.564580</td>\n",
       "      <td>-0.896687</td>\n",
       "      <td>2</td>\n",
       "    </tr>\n",
       "    <tr>\n",
       "      <th>147</th>\n",
       "      <td>1.521170</td>\n",
       "      <td>0.269069</td>\n",
       "      <td>2</td>\n",
       "    </tr>\n",
       "    <tr>\n",
       "      <th>148</th>\n",
       "      <td>1.372788</td>\n",
       "      <td>1.011254</td>\n",
       "      <td>2</td>\n",
       "    </tr>\n",
       "    <tr>\n",
       "      <th>149</th>\n",
       "      <td>0.960656</td>\n",
       "      <td>-0.024332</td>\n",
       "      <td>2</td>\n",
       "    </tr>\n",
       "  </tbody>\n",
       "</table>\n",
       "<p>150 rows × 3 columns</p>\n",
       "</div>"
      ],
      "text/plain": [
       "     pca_component1  pca_component2  target\n",
       "0         -2.264703        0.480027       0\n",
       "1         -2.080961       -0.674134       0\n",
       "2         -2.364229       -0.341908       0\n",
       "3         -2.299384       -0.597395       0\n",
       "4         -2.389842        0.646835       0\n",
       "..              ...             ...     ...\n",
       "145        1.870503        0.386966       2\n",
       "146        1.564580       -0.896687       2\n",
       "147        1.521170        0.269069       2\n",
       "148        1.372788        1.011254       2\n",
       "149        0.960656       -0.024332       2\n",
       "\n",
       "[150 rows x 3 columns]"
      ]
     },
     "execution_count": 53,
     "metadata": {},
     "output_type": "execute_result"
    }
   ],
   "source": [
    "pca_columns = ['pca_component1','pca_component2']\n",
    "\n",
    "iris_df_pca = pd.DataFrame(iris_pca,columns=pca_columns)\n",
    "iris_df_pca['target'] = iris.target\n",
    "\n",
    "iris_df_pca"
   ]
  },
  {
   "cell_type": "code",
   "execution_count": 54,
   "metadata": {
    "scrolled": false
   },
   "outputs": [
    {
     "data": {
      "application/vnd.plotly.v1+json": {
       "config": {
        "plotlyServerURL": "https://plot.ly"
       },
       "data": [
        {
         "mode": "markers",
         "name": "setosa",
         "type": "scatter",
         "x": [
          -2.264702808807588,
          -2.0809611519657665,
          -2.3642290538902997,
          -2.299384217042707,
          -2.3898421663138443,
          -2.0756309481765123,
          -2.4440288351341515,
          -2.2328471588720142,
          -2.33464047790762,
          -2.184328174933941,
          -2.166310100701322,
          -2.3261308664426976,
          -2.218450898822408,
          -2.6331006957652265,
          -2.1987406032666903,
          -2.262214531601022,
          -2.2075876958245924,
          -2.1903495091922984,
          -1.8985719958028422,
          -2.343369053074993,
          -1.9143229960825674,
          -2.207012843194798,
          -2.774344702927331,
          -1.8186695286958487,
          -2.227163305706638,
          -1.9518463309003748,
          -2.051151372729415,
          -2.168577174654216,
          -2.139563451301331,
          -2.26526149315424,
          -2.1401221356479834,
          -1.8315947706760278,
          -2.6149479358589347,
          -2.4461773916965153,
          -2.109974875318651,
          -2.2078088990782647,
          -2.0451462067542012,
          -2.5273319131704857,
          -2.4296325750845447,
          -2.169710711630663,
          -2.28647514334567,
          -1.8581224563735694,
          -2.553638395614355,
          -1.9644476837637403,
          -2.137059005811623,
          -2.0697442995918287,
          -2.3847331657782624,
          -2.3943763142196315,
          -2.229446547942674,
          -2.203833435519129
         ],
         "y": [
          0.480026596520989,
          -0.6741335566053529,
          -0.3419080238846762,
          -0.5973945076746755,
          0.6468353829020267,
          1.4891775233211662,
          0.04764419763001419,
          0.22314807268959166,
          -1.1153276754616661,
          -0.46901356140237577,
          1.0436906530538594,
          0.13307833523923154,
          -0.7286761653165708,
          -0.9615067291701629,
          1.8600571132939305,
          2.686284485110591,
          1.483609363155572,
          0.48883831648632736,
          1.4050187944665484,
          1.1278493819084756,
          0.4088557077559061,
          0.924121426746898,
          0.45834366775291524,
          0.085558526287366,
          0.13725445536342723,
          -0.6256185877766766,
          0.24216355266166695,
          0.527149525308267,
          0.31321781013995165,
          -0.33773190376048057,
          -0.5045406901415184,
          0.4236950676037856,
          1.793575856104428,
          2.1507278773929235,
          -0.46020184143703735,
          -0.20610739768843703,
          0.6615581114631077,
          0.5922927741908091,
          -0.9041800403761476,
          0.26887896143547074,
          0.4417153876990497,
          -2.3374151575533477,
          -0.47910069012231393,
          0.4723266677192605,
          1.1422292620394083,
          -0.7110527253858939,
          1.1204297019845357,
          -0.38624687258915713,
          0.99795976430798,
          0.009216357521276114
         ]
        },
        {
         "mode": "markers",
         "name": "versicolor",
         "type": "scatter",
         "x": [
          1.1017811830529476,
          0.7313374253960873,
          1.240979319515831,
          0.4074830588173864,
          1.0754747006090786,
          0.38868733653566556,
          0.7465297413291605,
          -0.4873227421256382,
          0.9279016383549455,
          0.011426188736981174,
          -0.11019628000062695,
          0.44069344898307866,
          0.5621083064431801,
          0.7195618886754969,
          -0.03335470317877169,
          0.8754071908577375,
          0.3502516679950831,
          0.1588100475479721,
          1.2250936335624327,
          0.16491789938632836,
          0.7376826487712582,
          0.4762871909409719,
          1.23417809765715,
          0.6328581997098224,
          0.7026611831361825,
          0.8742736538812904,
          1.2565091165418838,
          1.358405121440632,
          0.6648003672253952,
          -0.04025861090059449,
          0.13079517549786177,
          0.023452688970552,
          0.24153827295451166,
          1.0610946088426148,
          0.22397877351238019,
          0.42913911551616046,
          1.0487280512090875,
          1.0445313843962802,
          0.06958832111642335,
          0.2834772382875765,
          0.2790777760554619,
          0.6245697914985717,
          0.33653037013143666,
          -0.3621833846193816,
          0.28858623882315815,
          0.09136065565450581,
          0.2277168655347006,
          0.5763882886534789,
          -0.4476670190286104,
          0.2567305888875853
         ],
         "y": [
          0.8629724182621589,
          0.5946147256694244,
          0.6162976544374984,
          -1.75440398932341,
          -0.20842104605096531,
          -0.5932836359900748,
          0.7730193120985966,
          -1.8524290868575737,
          0.032226077891153865,
          -1.03401827512944,
          -2.6540728185365636,
          -0.06329518843800133,
          -1.7647243806169448,
          -0.1862246058315056,
          -0.43900320998162456,
          0.5090639567734084,
          -0.1963117345514438,
          -0.7920957424327212,
          -1.6222438030915014,
          -1.3026092302957724,
          0.396571561960239,
          -0.4173202812135508,
          -0.9333257287992781,
          -0.4163877208890992,
          -0.06341181972480003,
          0.25079339290061203,
          -0.07725601969586889,
          0.33131168179089815,
          -0.22592785469484344,
          -1.0587185465539086,
          -1.5622718342099668,
          -1.572475594216704,
          -0.7772563825848414,
          -0.6338432447349465,
          -0.287773512043202,
          0.8455822409050786,
          0.5220517968629426,
          -1.3829887191907815,
          -0.21950333464771485,
          -1.3293246390695759,
          -1.1200285237424035,
          0.024923029254012737,
          -0.9884040176703598,
          -2.019237873238611,
          -0.855730319987066,
          -0.1811921258257751,
          -0.38492008098735364,
          -0.15487359721655872,
          -1.5437920343977558,
          -0.5988517961556691
         ]
        },
        {
         "mode": "markers",
         "name": "virginica",
         "type": "scatter",
         "x": [
          1.8445688677230287,
          1.1578816132057803,
          2.205266791075378,
          1.4401506638275399,
          1.8678122203305376,
          2.751873335666277,
          0.36701768786072575,
          2.3024394446251972,
          2.0066864676766065,
          2.2597773490124995,
          1.3641754921860079,
          1.602678670477931,
          1.8839007017032428,
          1.2601150991975087,
          1.4676452010173247,
          1.5900773176145657,
          1.4714314611333184,
          2.4263289873156992,
          3.310695583933888,
          1.2637666736398294,
          2.0377163014694046,
          0.9779807342494221,
          2.897651490734169,
          1.3332321759732093,
          1.700733897491217,
          1.9543267058530707,
          1.175103631554933,
          1.0209505506957912,
          1.7883499201796662,
          1.8636475533282608,
          2.4359537279227035,
          2.3049277218317634,
          1.862703219794956,
          1.114147740686475,
          1.2024733016783917,
          2.798770447578108,
          1.576255910194754,
          1.3462921036270619,
          0.9248249165424196,
          1.85204505176767,
          2.014810429954876,
          1.901784090262189,
          1.1578816132057803,
          2.0405582280520926,
          1.9981470959523762,
          1.8705032929564107,
          1.564580483030329,
          1.521170499627838,
          1.3727877895140725,
          0.9606560300371281
         ],
         "y": [
          0.8704213123248234,
          -0.69886986233069,
          0.5620104770083556,
          -0.04698758810580632,
          0.2950448244570199,
          0.8004092010275421,
          -1.5615028914765052,
          0.4200655796427764,
          -0.7114386535471586,
          1.921010376459886,
          0.692756454490387,
          -0.4217004497726169,
          0.41924965060512354,
          -1.1622604214064631,
          -0.4422715873770821,
          0.6762448057233201,
          0.2556218244714707,
          2.5566612507954916,
          0.017780949320627126,
          -1.706745380376267,
          0.9104674096183109,
          -0.5717643248129913,
          0.4136410595956478,
          -0.481811218649429,
          1.0139218673227914,
          1.0077775961534523,
          -0.3163944723097908,
          0.06434602923956198,
          -0.18736121459082844,
          0.5622907258861446,
          0.2592844331442803,
          2.626323468232378,
          -0.17854949462549008,
          -0.29292262333573116,
          -0.8113152708396683,
          0.8568033294971054,
          1.0685811073208076,
          0.42243061085250844,
          0.017223100452284312,
          0.6761281744365215,
          0.613885636923575,
          0.6895754942430026,
          -0.69886986233069,
          0.8675206009552283,
          1.049168747184145,
          0.38696608166572555,
          -0.8966868088965261,
          0.26906914427795176,
          1.0112544185267929,
          -0.024331668169399107
         ]
        }
       ],
       "layout": {
        "template": {
         "data": {
          "bar": [
           {
            "error_x": {
             "color": "#2a3f5f"
            },
            "error_y": {
             "color": "#2a3f5f"
            },
            "marker": {
             "line": {
              "color": "#E5ECF6",
              "width": 0.5
             }
            },
            "type": "bar"
           }
          ],
          "barpolar": [
           {
            "marker": {
             "line": {
              "color": "#E5ECF6",
              "width": 0.5
             }
            },
            "type": "barpolar"
           }
          ],
          "carpet": [
           {
            "aaxis": {
             "endlinecolor": "#2a3f5f",
             "gridcolor": "white",
             "linecolor": "white",
             "minorgridcolor": "white",
             "startlinecolor": "#2a3f5f"
            },
            "baxis": {
             "endlinecolor": "#2a3f5f",
             "gridcolor": "white",
             "linecolor": "white",
             "minorgridcolor": "white",
             "startlinecolor": "#2a3f5f"
            },
            "type": "carpet"
           }
          ],
          "choropleth": [
           {
            "colorbar": {
             "outlinewidth": 0,
             "ticks": ""
            },
            "type": "choropleth"
           }
          ],
          "contour": [
           {
            "colorbar": {
             "outlinewidth": 0,
             "ticks": ""
            },
            "colorscale": [
             [
              0,
              "#0d0887"
             ],
             [
              0.1111111111111111,
              "#46039f"
             ],
             [
              0.2222222222222222,
              "#7201a8"
             ],
             [
              0.3333333333333333,
              "#9c179e"
             ],
             [
              0.4444444444444444,
              "#bd3786"
             ],
             [
              0.5555555555555556,
              "#d8576b"
             ],
             [
              0.6666666666666666,
              "#ed7953"
             ],
             [
              0.7777777777777778,
              "#fb9f3a"
             ],
             [
              0.8888888888888888,
              "#fdca26"
             ],
             [
              1,
              "#f0f921"
             ]
            ],
            "type": "contour"
           }
          ],
          "contourcarpet": [
           {
            "colorbar": {
             "outlinewidth": 0,
             "ticks": ""
            },
            "type": "contourcarpet"
           }
          ],
          "heatmap": [
           {
            "colorbar": {
             "outlinewidth": 0,
             "ticks": ""
            },
            "colorscale": [
             [
              0,
              "#0d0887"
             ],
             [
              0.1111111111111111,
              "#46039f"
             ],
             [
              0.2222222222222222,
              "#7201a8"
             ],
             [
              0.3333333333333333,
              "#9c179e"
             ],
             [
              0.4444444444444444,
              "#bd3786"
             ],
             [
              0.5555555555555556,
              "#d8576b"
             ],
             [
              0.6666666666666666,
              "#ed7953"
             ],
             [
              0.7777777777777778,
              "#fb9f3a"
             ],
             [
              0.8888888888888888,
              "#fdca26"
             ],
             [
              1,
              "#f0f921"
             ]
            ],
            "type": "heatmap"
           }
          ],
          "heatmapgl": [
           {
            "colorbar": {
             "outlinewidth": 0,
             "ticks": ""
            },
            "colorscale": [
             [
              0,
              "#0d0887"
             ],
             [
              0.1111111111111111,
              "#46039f"
             ],
             [
              0.2222222222222222,
              "#7201a8"
             ],
             [
              0.3333333333333333,
              "#9c179e"
             ],
             [
              0.4444444444444444,
              "#bd3786"
             ],
             [
              0.5555555555555556,
              "#d8576b"
             ],
             [
              0.6666666666666666,
              "#ed7953"
             ],
             [
              0.7777777777777778,
              "#fb9f3a"
             ],
             [
              0.8888888888888888,
              "#fdca26"
             ],
             [
              1,
              "#f0f921"
             ]
            ],
            "type": "heatmapgl"
           }
          ],
          "histogram": [
           {
            "marker": {
             "colorbar": {
              "outlinewidth": 0,
              "ticks": ""
             }
            },
            "type": "histogram"
           }
          ],
          "histogram2d": [
           {
            "colorbar": {
             "outlinewidth": 0,
             "ticks": ""
            },
            "colorscale": [
             [
              0,
              "#0d0887"
             ],
             [
              0.1111111111111111,
              "#46039f"
             ],
             [
              0.2222222222222222,
              "#7201a8"
             ],
             [
              0.3333333333333333,
              "#9c179e"
             ],
             [
              0.4444444444444444,
              "#bd3786"
             ],
             [
              0.5555555555555556,
              "#d8576b"
             ],
             [
              0.6666666666666666,
              "#ed7953"
             ],
             [
              0.7777777777777778,
              "#fb9f3a"
             ],
             [
              0.8888888888888888,
              "#fdca26"
             ],
             [
              1,
              "#f0f921"
             ]
            ],
            "type": "histogram2d"
           }
          ],
          "histogram2dcontour": [
           {
            "colorbar": {
             "outlinewidth": 0,
             "ticks": ""
            },
            "colorscale": [
             [
              0,
              "#0d0887"
             ],
             [
              0.1111111111111111,
              "#46039f"
             ],
             [
              0.2222222222222222,
              "#7201a8"
             ],
             [
              0.3333333333333333,
              "#9c179e"
             ],
             [
              0.4444444444444444,
              "#bd3786"
             ],
             [
              0.5555555555555556,
              "#d8576b"
             ],
             [
              0.6666666666666666,
              "#ed7953"
             ],
             [
              0.7777777777777778,
              "#fb9f3a"
             ],
             [
              0.8888888888888888,
              "#fdca26"
             ],
             [
              1,
              "#f0f921"
             ]
            ],
            "type": "histogram2dcontour"
           }
          ],
          "mesh3d": [
           {
            "colorbar": {
             "outlinewidth": 0,
             "ticks": ""
            },
            "type": "mesh3d"
           }
          ],
          "parcoords": [
           {
            "line": {
             "colorbar": {
              "outlinewidth": 0,
              "ticks": ""
             }
            },
            "type": "parcoords"
           }
          ],
          "pie": [
           {
            "automargin": true,
            "type": "pie"
           }
          ],
          "scatter": [
           {
            "marker": {
             "colorbar": {
              "outlinewidth": 0,
              "ticks": ""
             }
            },
            "type": "scatter"
           }
          ],
          "scatter3d": [
           {
            "line": {
             "colorbar": {
              "outlinewidth": 0,
              "ticks": ""
             }
            },
            "marker": {
             "colorbar": {
              "outlinewidth": 0,
              "ticks": ""
             }
            },
            "type": "scatter3d"
           }
          ],
          "scattercarpet": [
           {
            "marker": {
             "colorbar": {
              "outlinewidth": 0,
              "ticks": ""
             }
            },
            "type": "scattercarpet"
           }
          ],
          "scattergeo": [
           {
            "marker": {
             "colorbar": {
              "outlinewidth": 0,
              "ticks": ""
             }
            },
            "type": "scattergeo"
           }
          ],
          "scattergl": [
           {
            "marker": {
             "colorbar": {
              "outlinewidth": 0,
              "ticks": ""
             }
            },
            "type": "scattergl"
           }
          ],
          "scattermapbox": [
           {
            "marker": {
             "colorbar": {
              "outlinewidth": 0,
              "ticks": ""
             }
            },
            "type": "scattermapbox"
           }
          ],
          "scatterpolar": [
           {
            "marker": {
             "colorbar": {
              "outlinewidth": 0,
              "ticks": ""
             }
            },
            "type": "scatterpolar"
           }
          ],
          "scatterpolargl": [
           {
            "marker": {
             "colorbar": {
              "outlinewidth": 0,
              "ticks": ""
             }
            },
            "type": "scatterpolargl"
           }
          ],
          "scatterternary": [
           {
            "marker": {
             "colorbar": {
              "outlinewidth": 0,
              "ticks": ""
             }
            },
            "type": "scatterternary"
           }
          ],
          "surface": [
           {
            "colorbar": {
             "outlinewidth": 0,
             "ticks": ""
            },
            "colorscale": [
             [
              0,
              "#0d0887"
             ],
             [
              0.1111111111111111,
              "#46039f"
             ],
             [
              0.2222222222222222,
              "#7201a8"
             ],
             [
              0.3333333333333333,
              "#9c179e"
             ],
             [
              0.4444444444444444,
              "#bd3786"
             ],
             [
              0.5555555555555556,
              "#d8576b"
             ],
             [
              0.6666666666666666,
              "#ed7953"
             ],
             [
              0.7777777777777778,
              "#fb9f3a"
             ],
             [
              0.8888888888888888,
              "#fdca26"
             ],
             [
              1,
              "#f0f921"
             ]
            ],
            "type": "surface"
           }
          ],
          "table": [
           {
            "cells": {
             "fill": {
              "color": "#EBF0F8"
             },
             "line": {
              "color": "white"
             }
            },
            "header": {
             "fill": {
              "color": "#C8D4E3"
             },
             "line": {
              "color": "white"
             }
            },
            "type": "table"
           }
          ]
         },
         "layout": {
          "annotationdefaults": {
           "arrowcolor": "#2a3f5f",
           "arrowhead": 0,
           "arrowwidth": 1
          },
          "autotypenumbers": "strict",
          "coloraxis": {
           "colorbar": {
            "outlinewidth": 0,
            "ticks": ""
           }
          },
          "colorscale": {
           "diverging": [
            [
             0,
             "#8e0152"
            ],
            [
             0.1,
             "#c51b7d"
            ],
            [
             0.2,
             "#de77ae"
            ],
            [
             0.3,
             "#f1b6da"
            ],
            [
             0.4,
             "#fde0ef"
            ],
            [
             0.5,
             "#f7f7f7"
            ],
            [
             0.6,
             "#e6f5d0"
            ],
            [
             0.7,
             "#b8e186"
            ],
            [
             0.8,
             "#7fbc41"
            ],
            [
             0.9,
             "#4d9221"
            ],
            [
             1,
             "#276419"
            ]
           ],
           "sequential": [
            [
             0,
             "#0d0887"
            ],
            [
             0.1111111111111111,
             "#46039f"
            ],
            [
             0.2222222222222222,
             "#7201a8"
            ],
            [
             0.3333333333333333,
             "#9c179e"
            ],
            [
             0.4444444444444444,
             "#bd3786"
            ],
            [
             0.5555555555555556,
             "#d8576b"
            ],
            [
             0.6666666666666666,
             "#ed7953"
            ],
            [
             0.7777777777777778,
             "#fb9f3a"
            ],
            [
             0.8888888888888888,
             "#fdca26"
            ],
            [
             1,
             "#f0f921"
            ]
           ],
           "sequentialminus": [
            [
             0,
             "#0d0887"
            ],
            [
             0.1111111111111111,
             "#46039f"
            ],
            [
             0.2222222222222222,
             "#7201a8"
            ],
            [
             0.3333333333333333,
             "#9c179e"
            ],
            [
             0.4444444444444444,
             "#bd3786"
            ],
            [
             0.5555555555555556,
             "#d8576b"
            ],
            [
             0.6666666666666666,
             "#ed7953"
            ],
            [
             0.7777777777777778,
             "#fb9f3a"
            ],
            [
             0.8888888888888888,
             "#fdca26"
            ],
            [
             1,
             "#f0f921"
            ]
           ]
          },
          "colorway": [
           "#636efa",
           "#EF553B",
           "#00cc96",
           "#ab63fa",
           "#FFA15A",
           "#19d3f3",
           "#FF6692",
           "#B6E880",
           "#FF97FF",
           "#FECB52"
          ],
          "font": {
           "color": "#2a3f5f"
          },
          "geo": {
           "bgcolor": "white",
           "lakecolor": "white",
           "landcolor": "#E5ECF6",
           "showlakes": true,
           "showland": true,
           "subunitcolor": "white"
          },
          "hoverlabel": {
           "align": "left"
          },
          "hovermode": "closest",
          "mapbox": {
           "style": "light"
          },
          "paper_bgcolor": "white",
          "plot_bgcolor": "#E5ECF6",
          "polar": {
           "angularaxis": {
            "gridcolor": "white",
            "linecolor": "white",
            "ticks": ""
           },
           "bgcolor": "#E5ECF6",
           "radialaxis": {
            "gridcolor": "white",
            "linecolor": "white",
            "ticks": ""
           }
          },
          "scene": {
           "xaxis": {
            "backgroundcolor": "#E5ECF6",
            "gridcolor": "white",
            "gridwidth": 2,
            "linecolor": "white",
            "showbackground": true,
            "ticks": "",
            "zerolinecolor": "white"
           },
           "yaxis": {
            "backgroundcolor": "#E5ECF6",
            "gridcolor": "white",
            "gridwidth": 2,
            "linecolor": "white",
            "showbackground": true,
            "ticks": "",
            "zerolinecolor": "white"
           },
           "zaxis": {
            "backgroundcolor": "#E5ECF6",
            "gridcolor": "white",
            "gridwidth": 2,
            "linecolor": "white",
            "showbackground": true,
            "ticks": "",
            "zerolinecolor": "white"
           }
          },
          "shapedefaults": {
           "line": {
            "color": "#2a3f5f"
           }
          },
          "ternary": {
           "aaxis": {
            "gridcolor": "white",
            "linecolor": "white",
            "ticks": ""
           },
           "baxis": {
            "gridcolor": "white",
            "linecolor": "white",
            "ticks": ""
           },
           "bgcolor": "#E5ECF6",
           "caxis": {
            "gridcolor": "white",
            "linecolor": "white",
            "ticks": ""
           }
          },
          "title": {
           "x": 0.05
          },
          "xaxis": {
           "automargin": true,
           "gridcolor": "white",
           "linecolor": "white",
           "ticks": "",
           "title": {
            "standoff": 15
           },
           "zerolinecolor": "white",
           "zerolinewidth": 2
          },
          "yaxis": {
           "automargin": true,
           "gridcolor": "white",
           "linecolor": "white",
           "ticks": "",
           "title": {
            "standoff": 15
           },
           "zerolinecolor": "white",
           "zerolinewidth": 2
          }
         }
        },
        "xaxis": {
         "title": {
          "text": "pca_component1"
         }
        },
        "yaxis": {
         "title": {
          "text": "pca_component2"
         }
        }
       }
      },
      "text/html": [
       "<div>                            <div id=\"82fc1171-c3dc-44a6-b107-564e3ad96952\" class=\"plotly-graph-div\" style=\"height:525px; width:100%;\"></div>            <script type=\"text/javascript\">                require([\"plotly\"], function(Plotly) {                    window.PLOTLYENV=window.PLOTLYENV || {};                                    if (document.getElementById(\"82fc1171-c3dc-44a6-b107-564e3ad96952\")) {                    Plotly.newPlot(                        \"82fc1171-c3dc-44a6-b107-564e3ad96952\",                        [{\"mode\": \"markers\", \"name\": \"setosa\", \"type\": \"scatter\", \"x\": [-2.264702808807588, -2.0809611519657665, -2.3642290538902997, -2.299384217042707, -2.3898421663138443, -2.0756309481765123, -2.4440288351341515, -2.2328471588720142, -2.33464047790762, -2.184328174933941, -2.166310100701322, -2.3261308664426976, -2.218450898822408, -2.6331006957652265, -2.1987406032666903, -2.262214531601022, -2.2075876958245924, -2.1903495091922984, -1.8985719958028422, -2.343369053074993, -1.9143229960825674, -2.207012843194798, -2.774344702927331, -1.8186695286958487, -2.227163305706638, -1.9518463309003748, -2.051151372729415, -2.168577174654216, -2.139563451301331, -2.26526149315424, -2.1401221356479834, -1.8315947706760278, -2.6149479358589347, -2.4461773916965153, -2.109974875318651, -2.2078088990782647, -2.0451462067542012, -2.5273319131704857, -2.4296325750845447, -2.169710711630663, -2.28647514334567, -1.8581224563735694, -2.553638395614355, -1.9644476837637403, -2.137059005811623, -2.0697442995918287, -2.3847331657782624, -2.3943763142196315, -2.229446547942674, -2.203833435519129], \"y\": [0.480026596520989, -0.6741335566053529, -0.3419080238846762, -0.5973945076746755, 0.6468353829020267, 1.4891775233211662, 0.04764419763001419, 0.22314807268959166, -1.1153276754616661, -0.46901356140237577, 1.0436906530538594, 0.13307833523923154, -0.7286761653165708, -0.9615067291701629, 1.8600571132939305, 2.686284485110591, 1.483609363155572, 0.48883831648632736, 1.4050187944665484, 1.1278493819084756, 0.4088557077559061, 0.924121426746898, 0.45834366775291524, 0.085558526287366, 0.13725445536342723, -0.6256185877766766, 0.24216355266166695, 0.527149525308267, 0.31321781013995165, -0.33773190376048057, -0.5045406901415184, 0.4236950676037856, 1.793575856104428, 2.1507278773929235, -0.46020184143703735, -0.20610739768843703, 0.6615581114631077, 0.5922927741908091, -0.9041800403761476, 0.26887896143547074, 0.4417153876990497, -2.3374151575533477, -0.47910069012231393, 0.4723266677192605, 1.1422292620394083, -0.7110527253858939, 1.1204297019845357, -0.38624687258915713, 0.99795976430798, 0.009216357521276114]}, {\"mode\": \"markers\", \"name\": \"versicolor\", \"type\": \"scatter\", \"x\": [1.1017811830529476, 0.7313374253960873, 1.240979319515831, 0.4074830588173864, 1.0754747006090786, 0.38868733653566556, 0.7465297413291605, -0.4873227421256382, 0.9279016383549455, 0.011426188736981174, -0.11019628000062695, 0.44069344898307866, 0.5621083064431801, 0.7195618886754969, -0.03335470317877169, 0.8754071908577375, 0.3502516679950831, 0.1588100475479721, 1.2250936335624327, 0.16491789938632836, 0.7376826487712582, 0.4762871909409719, 1.23417809765715, 0.6328581997098224, 0.7026611831361825, 0.8742736538812904, 1.2565091165418838, 1.358405121440632, 0.6648003672253952, -0.04025861090059449, 0.13079517549786177, 0.023452688970552, 0.24153827295451166, 1.0610946088426148, 0.22397877351238019, 0.42913911551616046, 1.0487280512090875, 1.0445313843962802, 0.06958832111642335, 0.2834772382875765, 0.2790777760554619, 0.6245697914985717, 0.33653037013143666, -0.3621833846193816, 0.28858623882315815, 0.09136065565450581, 0.2277168655347006, 0.5763882886534789, -0.4476670190286104, 0.2567305888875853], \"y\": [0.8629724182621589, 0.5946147256694244, 0.6162976544374984, -1.75440398932341, -0.20842104605096531, -0.5932836359900748, 0.7730193120985966, -1.8524290868575737, 0.032226077891153865, -1.03401827512944, -2.6540728185365636, -0.06329518843800133, -1.7647243806169448, -0.1862246058315056, -0.43900320998162456, 0.5090639567734084, -0.1963117345514438, -0.7920957424327212, -1.6222438030915014, -1.3026092302957724, 0.396571561960239, -0.4173202812135508, -0.9333257287992781, -0.4163877208890992, -0.06341181972480003, 0.25079339290061203, -0.07725601969586889, 0.33131168179089815, -0.22592785469484344, -1.0587185465539086, -1.5622718342099668, -1.572475594216704, -0.7772563825848414, -0.6338432447349465, -0.287773512043202, 0.8455822409050786, 0.5220517968629426, -1.3829887191907815, -0.21950333464771485, -1.3293246390695759, -1.1200285237424035, 0.024923029254012737, -0.9884040176703598, -2.019237873238611, -0.855730319987066, -0.1811921258257751, -0.38492008098735364, -0.15487359721655872, -1.5437920343977558, -0.5988517961556691]}, {\"mode\": \"markers\", \"name\": \"virginica\", \"type\": \"scatter\", \"x\": [1.8445688677230287, 1.1578816132057803, 2.205266791075378, 1.4401506638275399, 1.8678122203305376, 2.751873335666277, 0.36701768786072575, 2.3024394446251972, 2.0066864676766065, 2.2597773490124995, 1.3641754921860079, 1.602678670477931, 1.8839007017032428, 1.2601150991975087, 1.4676452010173247, 1.5900773176145657, 1.4714314611333184, 2.4263289873156992, 3.310695583933888, 1.2637666736398294, 2.0377163014694046, 0.9779807342494221, 2.897651490734169, 1.3332321759732093, 1.700733897491217, 1.9543267058530707, 1.175103631554933, 1.0209505506957912, 1.7883499201796662, 1.8636475533282608, 2.4359537279227035, 2.3049277218317634, 1.862703219794956, 1.114147740686475, 1.2024733016783917, 2.798770447578108, 1.576255910194754, 1.3462921036270619, 0.9248249165424196, 1.85204505176767, 2.014810429954876, 1.901784090262189, 1.1578816132057803, 2.0405582280520926, 1.9981470959523762, 1.8705032929564107, 1.564580483030329, 1.521170499627838, 1.3727877895140725, 0.9606560300371281], \"y\": [0.8704213123248234, -0.69886986233069, 0.5620104770083556, -0.04698758810580632, 0.2950448244570199, 0.8004092010275421, -1.5615028914765052, 0.4200655796427764, -0.7114386535471586, 1.921010376459886, 0.692756454490387, -0.4217004497726169, 0.41924965060512354, -1.1622604214064631, -0.4422715873770821, 0.6762448057233201, 0.2556218244714707, 2.5566612507954916, 0.017780949320627126, -1.706745380376267, 0.9104674096183109, -0.5717643248129913, 0.4136410595956478, -0.481811218649429, 1.0139218673227914, 1.0077775961534523, -0.3163944723097908, 0.06434602923956198, -0.18736121459082844, 0.5622907258861446, 0.2592844331442803, 2.626323468232378, -0.17854949462549008, -0.29292262333573116, -0.8113152708396683, 0.8568033294971054, 1.0685811073208076, 0.42243061085250844, 0.017223100452284312, 0.6761281744365215, 0.613885636923575, 0.6895754942430026, -0.69886986233069, 0.8675206009552283, 1.049168747184145, 0.38696608166572555, -0.8966868088965261, 0.26906914427795176, 1.0112544185267929, -0.024331668169399107]}],                        {\"template\": {\"data\": {\"bar\": [{\"error_x\": {\"color\": \"#2a3f5f\"}, \"error_y\": {\"color\": \"#2a3f5f\"}, \"marker\": {\"line\": {\"color\": \"#E5ECF6\", \"width\": 0.5}}, \"type\": \"bar\"}], \"barpolar\": [{\"marker\": {\"line\": {\"color\": \"#E5ECF6\", \"width\": 0.5}}, \"type\": \"barpolar\"}], \"carpet\": [{\"aaxis\": {\"endlinecolor\": \"#2a3f5f\", \"gridcolor\": \"white\", \"linecolor\": \"white\", \"minorgridcolor\": \"white\", \"startlinecolor\": \"#2a3f5f\"}, \"baxis\": {\"endlinecolor\": \"#2a3f5f\", \"gridcolor\": \"white\", \"linecolor\": \"white\", \"minorgridcolor\": \"white\", \"startlinecolor\": \"#2a3f5f\"}, \"type\": \"carpet\"}], \"choropleth\": [{\"colorbar\": {\"outlinewidth\": 0, \"ticks\": \"\"}, \"type\": \"choropleth\"}], \"contour\": [{\"colorbar\": {\"outlinewidth\": 0, \"ticks\": \"\"}, \"colorscale\": [[0.0, \"#0d0887\"], [0.1111111111111111, \"#46039f\"], [0.2222222222222222, \"#7201a8\"], [0.3333333333333333, \"#9c179e\"], [0.4444444444444444, \"#bd3786\"], [0.5555555555555556, \"#d8576b\"], [0.6666666666666666, \"#ed7953\"], [0.7777777777777778, \"#fb9f3a\"], [0.8888888888888888, \"#fdca26\"], [1.0, \"#f0f921\"]], \"type\": \"contour\"}], \"contourcarpet\": [{\"colorbar\": {\"outlinewidth\": 0, \"ticks\": \"\"}, \"type\": \"contourcarpet\"}], \"heatmap\": [{\"colorbar\": {\"outlinewidth\": 0, \"ticks\": \"\"}, \"colorscale\": [[0.0, \"#0d0887\"], [0.1111111111111111, \"#46039f\"], [0.2222222222222222, \"#7201a8\"], [0.3333333333333333, \"#9c179e\"], [0.4444444444444444, \"#bd3786\"], [0.5555555555555556, \"#d8576b\"], [0.6666666666666666, \"#ed7953\"], [0.7777777777777778, \"#fb9f3a\"], [0.8888888888888888, \"#fdca26\"], [1.0, \"#f0f921\"]], \"type\": \"heatmap\"}], \"heatmapgl\": [{\"colorbar\": {\"outlinewidth\": 0, \"ticks\": \"\"}, \"colorscale\": [[0.0, \"#0d0887\"], [0.1111111111111111, \"#46039f\"], [0.2222222222222222, \"#7201a8\"], [0.3333333333333333, \"#9c179e\"], [0.4444444444444444, \"#bd3786\"], [0.5555555555555556, \"#d8576b\"], [0.6666666666666666, \"#ed7953\"], [0.7777777777777778, \"#fb9f3a\"], [0.8888888888888888, \"#fdca26\"], [1.0, \"#f0f921\"]], \"type\": \"heatmapgl\"}], \"histogram\": [{\"marker\": {\"colorbar\": {\"outlinewidth\": 0, \"ticks\": \"\"}}, \"type\": \"histogram\"}], \"histogram2d\": [{\"colorbar\": {\"outlinewidth\": 0, \"ticks\": \"\"}, \"colorscale\": [[0.0, \"#0d0887\"], [0.1111111111111111, \"#46039f\"], [0.2222222222222222, \"#7201a8\"], [0.3333333333333333, \"#9c179e\"], [0.4444444444444444, \"#bd3786\"], [0.5555555555555556, \"#d8576b\"], [0.6666666666666666, \"#ed7953\"], [0.7777777777777778, \"#fb9f3a\"], [0.8888888888888888, \"#fdca26\"], [1.0, \"#f0f921\"]], \"type\": \"histogram2d\"}], \"histogram2dcontour\": [{\"colorbar\": {\"outlinewidth\": 0, \"ticks\": \"\"}, \"colorscale\": [[0.0, \"#0d0887\"], [0.1111111111111111, \"#46039f\"], [0.2222222222222222, \"#7201a8\"], [0.3333333333333333, \"#9c179e\"], [0.4444444444444444, \"#bd3786\"], [0.5555555555555556, \"#d8576b\"], [0.6666666666666666, \"#ed7953\"], [0.7777777777777778, \"#fb9f3a\"], [0.8888888888888888, \"#fdca26\"], [1.0, \"#f0f921\"]], \"type\": \"histogram2dcontour\"}], \"mesh3d\": [{\"colorbar\": {\"outlinewidth\": 0, \"ticks\": \"\"}, \"type\": \"mesh3d\"}], \"parcoords\": [{\"line\": {\"colorbar\": {\"outlinewidth\": 0, \"ticks\": \"\"}}, \"type\": \"parcoords\"}], \"pie\": [{\"automargin\": true, \"type\": \"pie\"}], \"scatter\": [{\"marker\": {\"colorbar\": {\"outlinewidth\": 0, \"ticks\": \"\"}}, \"type\": \"scatter\"}], \"scatter3d\": [{\"line\": {\"colorbar\": {\"outlinewidth\": 0, \"ticks\": \"\"}}, \"marker\": {\"colorbar\": {\"outlinewidth\": 0, \"ticks\": \"\"}}, \"type\": \"scatter3d\"}], \"scattercarpet\": [{\"marker\": {\"colorbar\": {\"outlinewidth\": 0, \"ticks\": \"\"}}, \"type\": \"scattercarpet\"}], \"scattergeo\": [{\"marker\": {\"colorbar\": {\"outlinewidth\": 0, \"ticks\": \"\"}}, \"type\": \"scattergeo\"}], \"scattergl\": [{\"marker\": {\"colorbar\": {\"outlinewidth\": 0, \"ticks\": \"\"}}, \"type\": \"scattergl\"}], \"scattermapbox\": [{\"marker\": {\"colorbar\": {\"outlinewidth\": 0, \"ticks\": \"\"}}, \"type\": \"scattermapbox\"}], \"scatterpolar\": [{\"marker\": {\"colorbar\": {\"outlinewidth\": 0, \"ticks\": \"\"}}, \"type\": \"scatterpolar\"}], \"scatterpolargl\": [{\"marker\": {\"colorbar\": {\"outlinewidth\": 0, \"ticks\": \"\"}}, \"type\": \"scatterpolargl\"}], \"scatterternary\": [{\"marker\": {\"colorbar\": {\"outlinewidth\": 0, \"ticks\": \"\"}}, \"type\": \"scatterternary\"}], \"surface\": [{\"colorbar\": {\"outlinewidth\": 0, \"ticks\": \"\"}, \"colorscale\": [[0.0, \"#0d0887\"], [0.1111111111111111, \"#46039f\"], [0.2222222222222222, \"#7201a8\"], [0.3333333333333333, \"#9c179e\"], [0.4444444444444444, \"#bd3786\"], [0.5555555555555556, \"#d8576b\"], [0.6666666666666666, \"#ed7953\"], [0.7777777777777778, \"#fb9f3a\"], [0.8888888888888888, \"#fdca26\"], [1.0, \"#f0f921\"]], \"type\": \"surface\"}], \"table\": [{\"cells\": {\"fill\": {\"color\": \"#EBF0F8\"}, \"line\": {\"color\": \"white\"}}, \"header\": {\"fill\": {\"color\": \"#C8D4E3\"}, \"line\": {\"color\": \"white\"}}, \"type\": \"table\"}]}, \"layout\": {\"annotationdefaults\": {\"arrowcolor\": \"#2a3f5f\", \"arrowhead\": 0, \"arrowwidth\": 1}, \"autotypenumbers\": \"strict\", \"coloraxis\": {\"colorbar\": {\"outlinewidth\": 0, \"ticks\": \"\"}}, \"colorscale\": {\"diverging\": [[0, \"#8e0152\"], [0.1, \"#c51b7d\"], [0.2, \"#de77ae\"], [0.3, \"#f1b6da\"], [0.4, \"#fde0ef\"], [0.5, \"#f7f7f7\"], [0.6, \"#e6f5d0\"], [0.7, \"#b8e186\"], [0.8, \"#7fbc41\"], [0.9, \"#4d9221\"], [1, \"#276419\"]], \"sequential\": [[0.0, \"#0d0887\"], [0.1111111111111111, \"#46039f\"], [0.2222222222222222, \"#7201a8\"], [0.3333333333333333, \"#9c179e\"], [0.4444444444444444, \"#bd3786\"], [0.5555555555555556, \"#d8576b\"], [0.6666666666666666, \"#ed7953\"], [0.7777777777777778, \"#fb9f3a\"], [0.8888888888888888, \"#fdca26\"], [1.0, \"#f0f921\"]], \"sequentialminus\": [[0.0, \"#0d0887\"], [0.1111111111111111, \"#46039f\"], [0.2222222222222222, \"#7201a8\"], [0.3333333333333333, \"#9c179e\"], [0.4444444444444444, \"#bd3786\"], [0.5555555555555556, \"#d8576b\"], [0.6666666666666666, \"#ed7953\"], [0.7777777777777778, \"#fb9f3a\"], [0.8888888888888888, \"#fdca26\"], [1.0, \"#f0f921\"]]}, \"colorway\": [\"#636efa\", \"#EF553B\", \"#00cc96\", \"#ab63fa\", \"#FFA15A\", \"#19d3f3\", \"#FF6692\", \"#B6E880\", \"#FF97FF\", \"#FECB52\"], \"font\": {\"color\": \"#2a3f5f\"}, \"geo\": {\"bgcolor\": \"white\", \"lakecolor\": \"white\", \"landcolor\": \"#E5ECF6\", \"showlakes\": true, \"showland\": true, \"subunitcolor\": \"white\"}, \"hoverlabel\": {\"align\": \"left\"}, \"hovermode\": \"closest\", \"mapbox\": {\"style\": \"light\"}, \"paper_bgcolor\": \"white\", \"plot_bgcolor\": \"#E5ECF6\", \"polar\": {\"angularaxis\": {\"gridcolor\": \"white\", \"linecolor\": \"white\", \"ticks\": \"\"}, \"bgcolor\": \"#E5ECF6\", \"radialaxis\": {\"gridcolor\": \"white\", \"linecolor\": \"white\", \"ticks\": \"\"}}, \"scene\": {\"xaxis\": {\"backgroundcolor\": \"#E5ECF6\", \"gridcolor\": \"white\", \"gridwidth\": 2, \"linecolor\": \"white\", \"showbackground\": true, \"ticks\": \"\", \"zerolinecolor\": \"white\"}, \"yaxis\": {\"backgroundcolor\": \"#E5ECF6\", \"gridcolor\": \"white\", \"gridwidth\": 2, \"linecolor\": \"white\", \"showbackground\": true, \"ticks\": \"\", \"zerolinecolor\": \"white\"}, \"zaxis\": {\"backgroundcolor\": \"#E5ECF6\", \"gridcolor\": \"white\", \"gridwidth\": 2, \"linecolor\": \"white\", \"showbackground\": true, \"ticks\": \"\", \"zerolinecolor\": \"white\"}}, \"shapedefaults\": {\"line\": {\"color\": \"#2a3f5f\"}}, \"ternary\": {\"aaxis\": {\"gridcolor\": \"white\", \"linecolor\": \"white\", \"ticks\": \"\"}, \"baxis\": {\"gridcolor\": \"white\", \"linecolor\": \"white\", \"ticks\": \"\"}, \"bgcolor\": \"#E5ECF6\", \"caxis\": {\"gridcolor\": \"white\", \"linecolor\": \"white\", \"ticks\": \"\"}}, \"title\": {\"x\": 0.05}, \"xaxis\": {\"automargin\": true, \"gridcolor\": \"white\", \"linecolor\": \"white\", \"ticks\": \"\", \"title\": {\"standoff\": 15}, \"zerolinecolor\": \"white\", \"zerolinewidth\": 2}, \"yaxis\": {\"automargin\": true, \"gridcolor\": \"white\", \"linecolor\": \"white\", \"ticks\": \"\", \"title\": {\"standoff\": 15}, \"zerolinecolor\": \"white\", \"zerolinewidth\": 2}}}, \"xaxis\": {\"title\": {\"text\": \"pca_component1\"}}, \"yaxis\": {\"title\": {\"text\": \"pca_component2\"}}},                        {\"responsive\": true}                    ).then(function(){\n",
       "                            \n",
       "var gd = document.getElementById('82fc1171-c3dc-44a6-b107-564e3ad96952');\n",
       "var x = new MutationObserver(function (mutations, observer) {{\n",
       "        var display = window.getComputedStyle(gd).display;\n",
       "        if (!display || display === 'none') {{\n",
       "            console.log([gd, 'removed!']);\n",
       "            Plotly.purge(gd);\n",
       "            observer.disconnect();\n",
       "        }}\n",
       "}});\n",
       "\n",
       "// Listen for the removal of the full notebook cells\n",
       "var notebookContainer = gd.closest('#notebook-container');\n",
       "if (notebookContainer) {{\n",
       "    x.observe(notebookContainer, {childList: true});\n",
       "}}\n",
       "\n",
       "// Listen for the clearing of the current output cell\n",
       "var outputEl = gd.closest('.output');\n",
       "if (outputEl) {{\n",
       "    x.observe(outputEl, {childList: true});\n",
       "}}\n",
       "\n",
       "                        })                };                });            </script>        </div>"
      ]
     },
     "metadata": {},
     "output_type": "display_data"
    }
   ],
   "source": [
    "pca_graph = go.Figure()\n",
    "\n",
    "for i in range(0,3):\n",
    "    \n",
    "    pca_graph.add_trace(\n",
    "    go.Scatter(x=iris_df_pca[iris_df_pca['target']==i]['pca_component1'],\n",
    "               y=iris_df_pca[iris_df_pca['target']==i]['pca_component2'],mode='markers' ,\n",
    "               name = iris.target_names[i])\n",
    "    )\n",
    "\n",
    "pca_graph.update_xaxes(title_text=\"pca_component1\")    \n",
    "pca_graph.update_yaxes(title_text=\"pca_component2\")\n",
    "\n",
    "pca_graph.show()"
   ]
  },
  {
   "cell_type": "markdown",
   "metadata": {},
   "source": [
    "PCA 변환 후에도 pca_component1 축을 기반으로 Setosa 품종은 명확하게 구분이 가능하다. Versicolor 와 Virginica 역시 pca_component1 축을 기준으로 서로 겹치는 부분이 일부 존재하지만, PCA 변환 전보다는 잘 구분되었다. <br><br>\n",
    "그 이유는 pca_component1 이 원본 데이터의 변동성을 잘 반영했기 때문이다. <br>\n",
    "이처럼 새롭게 만들어진 두 피처 = 속성 이 각 각 원본 데이터의 변동성을 얼마나 잘 반영했는지 확인 하기 위해서 PCA 객체는 아래와 같은 속성을 지원한다."
   ]
  },
  {
   "cell_type": "code",
   "execution_count": 7,
   "metadata": {
    "scrolled": true
   },
   "outputs": [
    {
     "name": "stdout",
     "output_type": "stream",
     "text": [
      "[0.72962445 0.22850762]\n"
     ]
    }
   ],
   "source": [
    "# pca_component1 , pca_component2\n",
    "print(pca.explained_variance_ratio_)"
   ]
  },
  {
   "cell_type": "markdown",
   "metadata": {},
   "source": [
    "따라서 PCA 를 2개 요소로만 변환해도 원본 데이터의 변동성을 95% 나 설명 할 수 있다. <br><br>\n",
    "이번에는 원본 붓꽃 dataset = iris_df 와 PCA 변환된 dataset = iris_df_pca 를<br>\n",
    "RandomForestClassifier 알고리즘과 cross_val_score 교차 검증을 통해 평가 지표 scoring 을 이용해서 예측 성능을 계산해보자."
   ]
  },
  {
   "cell_type": "code",
   "execution_count": 8,
   "metadata": {},
   "outputs": [
    {
     "name": "stdout",
     "output_type": "stream",
     "text": [
      "원본 붓꽃 Dataset 교차 검증 개별 정확도:  [0.98 0.94 0.96]\n",
      "원본 붓꽃 Dataset 평균 정확도:  0.96\n"
     ]
    }
   ],
   "source": [
    "from sklearn.ensemble import RandomForestClassifier\n",
    "from sklearn.model_selection import cross_val_score\n",
    "from sklearn.metrics import accuracy_score\n",
    "import numpy as np\n",
    "\n",
    "rf_clf =  RandomForestClassifier(random_state=166)\n",
    "\n",
    "scores = cross_val_score(rf_clf,iris.data,iris.target,scoring='accuracy',cv=3)\n",
    "\n",
    "print('원본 붓꽃 Dataset 교차 검증 개별 정확도: ',scores)\n",
    "print('원본 붓꽃 Dataset 평균 정확도: ',np.mean(scores))"
   ]
  },
  {
   "cell_type": "code",
   "execution_count": 9,
   "metadata": {},
   "outputs": [
    {
     "name": "stdout",
     "output_type": "stream",
     "text": [
      "PCA 변환된 붓꽃 Dataset 교차 검증 개별 정확도:  [0.88 0.88 0.9 ]\n",
      "PCA 변환된 붓꽃 Dataset 평균 정확도:  0.89\n"
     ]
    }
   ],
   "source": [
    "scores = cross_val_score(rf_clf,iris_df_pca.iloc[:,:-1].values,iris_df_pca['target'].values,scoring='accuracy',cv=3)\n",
    "\n",
    "print('PCA 변환된 붓꽃 Dataset 교차 검증 개별 정확도: ',scores)\n",
    "print('PCA 변환된 붓꽃 Dataset 평균 정확도: ',np.round(np.mean(scores),2))"
   ]
  },
  {
   "cell_type": "markdown",
   "metadata": {},
   "source": [
    "원본 데이터 세트 대비 예측 정확도는 PCA 변환 차원 개수에 따라 예측 성능이 떨어질 수 밖에 없다. <br><br>\n",
    "두 결과를 보면 약 0.7 가량 정확도가 떨어짐을 알 수 있는데 물론 큰 수치긴 하나 피처의 갯수가 50% 가 된 점을 고려하면 <br> PCA 변환을 하여도 원본 데이터을 상당 부분이 유지 되었음을 알 수 있다. <br><br>\n",
    "\n",
    "이번에는 피처의 갯수가 24개인 ' UCI Machine Learning Repository ' 에 있는 신용카드 고객 데이터 세트를 사용해서 PCA 를 진행해 보자. <br>\n",
    "[Data Origin](https://archive.ics.uci.edu/ml/datasets/default+of+credit+card+clients)"
   ]
  },
  {
   "cell_type": "code",
   "execution_count": 10,
   "metadata": {
    "scrolled": false
   },
   "outputs": [
    {
     "data": {
      "text/html": [
       "<div>\n",
       "<style scoped>\n",
       "    .dataframe tbody tr th:only-of-type {\n",
       "        vertical-align: middle;\n",
       "    }\n",
       "\n",
       "    .dataframe tbody tr th {\n",
       "        vertical-align: top;\n",
       "    }\n",
       "\n",
       "    .dataframe thead th {\n",
       "        text-align: right;\n",
       "    }\n",
       "</style>\n",
       "<table border=\"1\" class=\"dataframe\">\n",
       "  <thead>\n",
       "    <tr style=\"text-align: right;\">\n",
       "      <th></th>\n",
       "      <th>LIMIT_BAL</th>\n",
       "      <th>SEX</th>\n",
       "      <th>EDUCATION</th>\n",
       "      <th>MARRIAGE</th>\n",
       "      <th>AGE</th>\n",
       "      <th>PAY_0</th>\n",
       "      <th>PAY_2</th>\n",
       "      <th>PAY_3</th>\n",
       "      <th>PAY_4</th>\n",
       "      <th>PAY_5</th>\n",
       "      <th>...</th>\n",
       "      <th>BILL_AMT4</th>\n",
       "      <th>BILL_AMT5</th>\n",
       "      <th>BILL_AMT6</th>\n",
       "      <th>PAY_AMT1</th>\n",
       "      <th>PAY_AMT2</th>\n",
       "      <th>PAY_AMT3</th>\n",
       "      <th>PAY_AMT4</th>\n",
       "      <th>PAY_AMT5</th>\n",
       "      <th>PAY_AMT6</th>\n",
       "      <th>default payment next month</th>\n",
       "    </tr>\n",
       "  </thead>\n",
       "  <tbody>\n",
       "    <tr>\n",
       "      <th>0</th>\n",
       "      <td>20000</td>\n",
       "      <td>2</td>\n",
       "      <td>2</td>\n",
       "      <td>1</td>\n",
       "      <td>24</td>\n",
       "      <td>2</td>\n",
       "      <td>2</td>\n",
       "      <td>-1</td>\n",
       "      <td>-1</td>\n",
       "      <td>-2</td>\n",
       "      <td>...</td>\n",
       "      <td>0</td>\n",
       "      <td>0</td>\n",
       "      <td>0</td>\n",
       "      <td>0</td>\n",
       "      <td>689</td>\n",
       "      <td>0</td>\n",
       "      <td>0</td>\n",
       "      <td>0</td>\n",
       "      <td>0</td>\n",
       "      <td>1</td>\n",
       "    </tr>\n",
       "    <tr>\n",
       "      <th>1</th>\n",
       "      <td>120000</td>\n",
       "      <td>2</td>\n",
       "      <td>2</td>\n",
       "      <td>2</td>\n",
       "      <td>26</td>\n",
       "      <td>-1</td>\n",
       "      <td>2</td>\n",
       "      <td>0</td>\n",
       "      <td>0</td>\n",
       "      <td>0</td>\n",
       "      <td>...</td>\n",
       "      <td>3272</td>\n",
       "      <td>3455</td>\n",
       "      <td>3261</td>\n",
       "      <td>0</td>\n",
       "      <td>1000</td>\n",
       "      <td>1000</td>\n",
       "      <td>1000</td>\n",
       "      <td>0</td>\n",
       "      <td>2000</td>\n",
       "      <td>1</td>\n",
       "    </tr>\n",
       "    <tr>\n",
       "      <th>2</th>\n",
       "      <td>90000</td>\n",
       "      <td>2</td>\n",
       "      <td>2</td>\n",
       "      <td>2</td>\n",
       "      <td>34</td>\n",
       "      <td>0</td>\n",
       "      <td>0</td>\n",
       "      <td>0</td>\n",
       "      <td>0</td>\n",
       "      <td>0</td>\n",
       "      <td>...</td>\n",
       "      <td>14331</td>\n",
       "      <td>14948</td>\n",
       "      <td>15549</td>\n",
       "      <td>1518</td>\n",
       "      <td>1500</td>\n",
       "      <td>1000</td>\n",
       "      <td>1000</td>\n",
       "      <td>1000</td>\n",
       "      <td>5000</td>\n",
       "      <td>0</td>\n",
       "    </tr>\n",
       "    <tr>\n",
       "      <th>3</th>\n",
       "      <td>50000</td>\n",
       "      <td>2</td>\n",
       "      <td>2</td>\n",
       "      <td>1</td>\n",
       "      <td>37</td>\n",
       "      <td>0</td>\n",
       "      <td>0</td>\n",
       "      <td>0</td>\n",
       "      <td>0</td>\n",
       "      <td>0</td>\n",
       "      <td>...</td>\n",
       "      <td>28314</td>\n",
       "      <td>28959</td>\n",
       "      <td>29547</td>\n",
       "      <td>2000</td>\n",
       "      <td>2019</td>\n",
       "      <td>1200</td>\n",
       "      <td>1100</td>\n",
       "      <td>1069</td>\n",
       "      <td>1000</td>\n",
       "      <td>0</td>\n",
       "    </tr>\n",
       "    <tr>\n",
       "      <th>4</th>\n",
       "      <td>50000</td>\n",
       "      <td>1</td>\n",
       "      <td>2</td>\n",
       "      <td>1</td>\n",
       "      <td>57</td>\n",
       "      <td>-1</td>\n",
       "      <td>0</td>\n",
       "      <td>-1</td>\n",
       "      <td>0</td>\n",
       "      <td>0</td>\n",
       "      <td>...</td>\n",
       "      <td>20940</td>\n",
       "      <td>19146</td>\n",
       "      <td>19131</td>\n",
       "      <td>2000</td>\n",
       "      <td>36681</td>\n",
       "      <td>10000</td>\n",
       "      <td>9000</td>\n",
       "      <td>689</td>\n",
       "      <td>679</td>\n",
       "      <td>0</td>\n",
       "    </tr>\n",
       "    <tr>\n",
       "      <th>...</th>\n",
       "      <td>...</td>\n",
       "      <td>...</td>\n",
       "      <td>...</td>\n",
       "      <td>...</td>\n",
       "      <td>...</td>\n",
       "      <td>...</td>\n",
       "      <td>...</td>\n",
       "      <td>...</td>\n",
       "      <td>...</td>\n",
       "      <td>...</td>\n",
       "      <td>...</td>\n",
       "      <td>...</td>\n",
       "      <td>...</td>\n",
       "      <td>...</td>\n",
       "      <td>...</td>\n",
       "      <td>...</td>\n",
       "      <td>...</td>\n",
       "      <td>...</td>\n",
       "      <td>...</td>\n",
       "      <td>...</td>\n",
       "      <td>...</td>\n",
       "    </tr>\n",
       "    <tr>\n",
       "      <th>29995</th>\n",
       "      <td>220000</td>\n",
       "      <td>1</td>\n",
       "      <td>3</td>\n",
       "      <td>1</td>\n",
       "      <td>39</td>\n",
       "      <td>0</td>\n",
       "      <td>0</td>\n",
       "      <td>0</td>\n",
       "      <td>0</td>\n",
       "      <td>0</td>\n",
       "      <td>...</td>\n",
       "      <td>88004</td>\n",
       "      <td>31237</td>\n",
       "      <td>15980</td>\n",
       "      <td>8500</td>\n",
       "      <td>20000</td>\n",
       "      <td>5003</td>\n",
       "      <td>3047</td>\n",
       "      <td>5000</td>\n",
       "      <td>1000</td>\n",
       "      <td>0</td>\n",
       "    </tr>\n",
       "    <tr>\n",
       "      <th>29996</th>\n",
       "      <td>150000</td>\n",
       "      <td>1</td>\n",
       "      <td>3</td>\n",
       "      <td>2</td>\n",
       "      <td>43</td>\n",
       "      <td>-1</td>\n",
       "      <td>-1</td>\n",
       "      <td>-1</td>\n",
       "      <td>-1</td>\n",
       "      <td>0</td>\n",
       "      <td>...</td>\n",
       "      <td>8979</td>\n",
       "      <td>5190</td>\n",
       "      <td>0</td>\n",
       "      <td>1837</td>\n",
       "      <td>3526</td>\n",
       "      <td>8998</td>\n",
       "      <td>129</td>\n",
       "      <td>0</td>\n",
       "      <td>0</td>\n",
       "      <td>0</td>\n",
       "    </tr>\n",
       "    <tr>\n",
       "      <th>29997</th>\n",
       "      <td>30000</td>\n",
       "      <td>1</td>\n",
       "      <td>2</td>\n",
       "      <td>2</td>\n",
       "      <td>37</td>\n",
       "      <td>4</td>\n",
       "      <td>3</td>\n",
       "      <td>2</td>\n",
       "      <td>-1</td>\n",
       "      <td>0</td>\n",
       "      <td>...</td>\n",
       "      <td>20878</td>\n",
       "      <td>20582</td>\n",
       "      <td>19357</td>\n",
       "      <td>0</td>\n",
       "      <td>0</td>\n",
       "      <td>22000</td>\n",
       "      <td>4200</td>\n",
       "      <td>2000</td>\n",
       "      <td>3100</td>\n",
       "      <td>1</td>\n",
       "    </tr>\n",
       "    <tr>\n",
       "      <th>29998</th>\n",
       "      <td>80000</td>\n",
       "      <td>1</td>\n",
       "      <td>3</td>\n",
       "      <td>1</td>\n",
       "      <td>41</td>\n",
       "      <td>1</td>\n",
       "      <td>-1</td>\n",
       "      <td>0</td>\n",
       "      <td>0</td>\n",
       "      <td>0</td>\n",
       "      <td>...</td>\n",
       "      <td>52774</td>\n",
       "      <td>11855</td>\n",
       "      <td>48944</td>\n",
       "      <td>85900</td>\n",
       "      <td>3409</td>\n",
       "      <td>1178</td>\n",
       "      <td>1926</td>\n",
       "      <td>52964</td>\n",
       "      <td>1804</td>\n",
       "      <td>1</td>\n",
       "    </tr>\n",
       "    <tr>\n",
       "      <th>29999</th>\n",
       "      <td>50000</td>\n",
       "      <td>1</td>\n",
       "      <td>2</td>\n",
       "      <td>1</td>\n",
       "      <td>46</td>\n",
       "      <td>0</td>\n",
       "      <td>0</td>\n",
       "      <td>0</td>\n",
       "      <td>0</td>\n",
       "      <td>0</td>\n",
       "      <td>...</td>\n",
       "      <td>36535</td>\n",
       "      <td>32428</td>\n",
       "      <td>15313</td>\n",
       "      <td>2078</td>\n",
       "      <td>1800</td>\n",
       "      <td>1430</td>\n",
       "      <td>1000</td>\n",
       "      <td>1000</td>\n",
       "      <td>1000</td>\n",
       "      <td>1</td>\n",
       "    </tr>\n",
       "  </tbody>\n",
       "</table>\n",
       "<p>30000 rows × 24 columns</p>\n",
       "</div>"
      ],
      "text/plain": [
       "       LIMIT_BAL  SEX  EDUCATION  MARRIAGE  AGE  PAY_0  PAY_2  PAY_3  PAY_4  \\\n",
       "0          20000    2          2         1   24      2      2     -1     -1   \n",
       "1         120000    2          2         2   26     -1      2      0      0   \n",
       "2          90000    2          2         2   34      0      0      0      0   \n",
       "3          50000    2          2         1   37      0      0      0      0   \n",
       "4          50000    1          2         1   57     -1      0     -1      0   \n",
       "...          ...  ...        ...       ...  ...    ...    ...    ...    ...   \n",
       "29995     220000    1          3         1   39      0      0      0      0   \n",
       "29996     150000    1          3         2   43     -1     -1     -1     -1   \n",
       "29997      30000    1          2         2   37      4      3      2     -1   \n",
       "29998      80000    1          3         1   41      1     -1      0      0   \n",
       "29999      50000    1          2         1   46      0      0      0      0   \n",
       "\n",
       "       PAY_5  ...  BILL_AMT4  BILL_AMT5  BILL_AMT6  PAY_AMT1  PAY_AMT2  \\\n",
       "0         -2  ...          0          0          0         0       689   \n",
       "1          0  ...       3272       3455       3261         0      1000   \n",
       "2          0  ...      14331      14948      15549      1518      1500   \n",
       "3          0  ...      28314      28959      29547      2000      2019   \n",
       "4          0  ...      20940      19146      19131      2000     36681   \n",
       "...      ...  ...        ...        ...        ...       ...       ...   \n",
       "29995      0  ...      88004      31237      15980      8500     20000   \n",
       "29996      0  ...       8979       5190          0      1837      3526   \n",
       "29997      0  ...      20878      20582      19357         0         0   \n",
       "29998      0  ...      52774      11855      48944     85900      3409   \n",
       "29999      0  ...      36535      32428      15313      2078      1800   \n",
       "\n",
       "       PAY_AMT3  PAY_AMT4  PAY_AMT5  PAY_AMT6  default payment next month  \n",
       "0             0         0         0         0                           1  \n",
       "1          1000      1000         0      2000                           1  \n",
       "2          1000      1000      1000      5000                           0  \n",
       "3          1200      1100      1069      1000                           0  \n",
       "4         10000      9000       689       679                           0  \n",
       "...         ...       ...       ...       ...                         ...  \n",
       "29995      5003      3047      5000      1000                           0  \n",
       "29996      8998       129         0         0                           0  \n",
       "29997     22000      4200      2000      3100                           1  \n",
       "29998      1178      1926     52964      1804                           1  \n",
       "29999      1430      1000      1000      1000                           1  \n",
       "\n",
       "[30000 rows x 24 columns]"
      ]
     },
     "execution_count": 10,
     "metadata": {},
     "output_type": "execute_result"
    }
   ],
   "source": [
    "df = pd.read_excel('credit_card_clients.xls',header=1,sheet_name='Data').iloc[0:,1:]\n",
    "df"
   ]
  },
  {
   "cell_type": "markdown",
   "metadata": {},
   "source": [
    "해당 dataset 를 보면, PAY_0 피처 다음에 PAY_2 피처가 오고 있으므로 피처명을 변경한다.<br><br>\n",
    "그리고 Label 로 사용할 default payment next month 의 경우 ' 다음 달 연체 여부' 를 의미하며 연체 일 경우 1, 정상 납부일 경우 0 으로 표현 되었다.<br>\n",
    "피처명이 너무 기므로 임의로 짧게 줄였다. "
   ]
  },
  {
   "cell_type": "code",
   "execution_count": 11,
   "metadata": {},
   "outputs": [
    {
     "data": {
      "text/html": [
       "<div>\n",
       "<style scoped>\n",
       "    .dataframe tbody tr th:only-of-type {\n",
       "        vertical-align: middle;\n",
       "    }\n",
       "\n",
       "    .dataframe tbody tr th {\n",
       "        vertical-align: top;\n",
       "    }\n",
       "\n",
       "    .dataframe thead th {\n",
       "        text-align: right;\n",
       "    }\n",
       "</style>\n",
       "<table border=\"1\" class=\"dataframe\">\n",
       "  <thead>\n",
       "    <tr style=\"text-align: right;\">\n",
       "      <th></th>\n",
       "      <th>LIMIT_BAL</th>\n",
       "      <th>SEX</th>\n",
       "      <th>EDUCATION</th>\n",
       "      <th>MARRIAGE</th>\n",
       "      <th>AGE</th>\n",
       "      <th>PAY_1</th>\n",
       "      <th>PAY_2</th>\n",
       "      <th>PAY_3</th>\n",
       "      <th>PAY_4</th>\n",
       "      <th>PAY_5</th>\n",
       "      <th>...</th>\n",
       "      <th>BILL_AMT4</th>\n",
       "      <th>BILL_AMT5</th>\n",
       "      <th>BILL_AMT6</th>\n",
       "      <th>PAY_AMT1</th>\n",
       "      <th>PAY_AMT2</th>\n",
       "      <th>PAY_AMT3</th>\n",
       "      <th>PAY_AMT4</th>\n",
       "      <th>PAY_AMT5</th>\n",
       "      <th>PAY_AMT6</th>\n",
       "      <th>overdue</th>\n",
       "    </tr>\n",
       "  </thead>\n",
       "  <tbody>\n",
       "    <tr>\n",
       "      <th>0</th>\n",
       "      <td>20000</td>\n",
       "      <td>2</td>\n",
       "      <td>2</td>\n",
       "      <td>1</td>\n",
       "      <td>24</td>\n",
       "      <td>2</td>\n",
       "      <td>2</td>\n",
       "      <td>-1</td>\n",
       "      <td>-1</td>\n",
       "      <td>-2</td>\n",
       "      <td>...</td>\n",
       "      <td>0</td>\n",
       "      <td>0</td>\n",
       "      <td>0</td>\n",
       "      <td>0</td>\n",
       "      <td>689</td>\n",
       "      <td>0</td>\n",
       "      <td>0</td>\n",
       "      <td>0</td>\n",
       "      <td>0</td>\n",
       "      <td>1</td>\n",
       "    </tr>\n",
       "    <tr>\n",
       "      <th>1</th>\n",
       "      <td>120000</td>\n",
       "      <td>2</td>\n",
       "      <td>2</td>\n",
       "      <td>2</td>\n",
       "      <td>26</td>\n",
       "      <td>-1</td>\n",
       "      <td>2</td>\n",
       "      <td>0</td>\n",
       "      <td>0</td>\n",
       "      <td>0</td>\n",
       "      <td>...</td>\n",
       "      <td>3272</td>\n",
       "      <td>3455</td>\n",
       "      <td>3261</td>\n",
       "      <td>0</td>\n",
       "      <td>1000</td>\n",
       "      <td>1000</td>\n",
       "      <td>1000</td>\n",
       "      <td>0</td>\n",
       "      <td>2000</td>\n",
       "      <td>1</td>\n",
       "    </tr>\n",
       "    <tr>\n",
       "      <th>2</th>\n",
       "      <td>90000</td>\n",
       "      <td>2</td>\n",
       "      <td>2</td>\n",
       "      <td>2</td>\n",
       "      <td>34</td>\n",
       "      <td>0</td>\n",
       "      <td>0</td>\n",
       "      <td>0</td>\n",
       "      <td>0</td>\n",
       "      <td>0</td>\n",
       "      <td>...</td>\n",
       "      <td>14331</td>\n",
       "      <td>14948</td>\n",
       "      <td>15549</td>\n",
       "      <td>1518</td>\n",
       "      <td>1500</td>\n",
       "      <td>1000</td>\n",
       "      <td>1000</td>\n",
       "      <td>1000</td>\n",
       "      <td>5000</td>\n",
       "      <td>0</td>\n",
       "    </tr>\n",
       "    <tr>\n",
       "      <th>3</th>\n",
       "      <td>50000</td>\n",
       "      <td>2</td>\n",
       "      <td>2</td>\n",
       "      <td>1</td>\n",
       "      <td>37</td>\n",
       "      <td>0</td>\n",
       "      <td>0</td>\n",
       "      <td>0</td>\n",
       "      <td>0</td>\n",
       "      <td>0</td>\n",
       "      <td>...</td>\n",
       "      <td>28314</td>\n",
       "      <td>28959</td>\n",
       "      <td>29547</td>\n",
       "      <td>2000</td>\n",
       "      <td>2019</td>\n",
       "      <td>1200</td>\n",
       "      <td>1100</td>\n",
       "      <td>1069</td>\n",
       "      <td>1000</td>\n",
       "      <td>0</td>\n",
       "    </tr>\n",
       "    <tr>\n",
       "      <th>4</th>\n",
       "      <td>50000</td>\n",
       "      <td>1</td>\n",
       "      <td>2</td>\n",
       "      <td>1</td>\n",
       "      <td>57</td>\n",
       "      <td>-1</td>\n",
       "      <td>0</td>\n",
       "      <td>-1</td>\n",
       "      <td>0</td>\n",
       "      <td>0</td>\n",
       "      <td>...</td>\n",
       "      <td>20940</td>\n",
       "      <td>19146</td>\n",
       "      <td>19131</td>\n",
       "      <td>2000</td>\n",
       "      <td>36681</td>\n",
       "      <td>10000</td>\n",
       "      <td>9000</td>\n",
       "      <td>689</td>\n",
       "      <td>679</td>\n",
       "      <td>0</td>\n",
       "    </tr>\n",
       "    <tr>\n",
       "      <th>...</th>\n",
       "      <td>...</td>\n",
       "      <td>...</td>\n",
       "      <td>...</td>\n",
       "      <td>...</td>\n",
       "      <td>...</td>\n",
       "      <td>...</td>\n",
       "      <td>...</td>\n",
       "      <td>...</td>\n",
       "      <td>...</td>\n",
       "      <td>...</td>\n",
       "      <td>...</td>\n",
       "      <td>...</td>\n",
       "      <td>...</td>\n",
       "      <td>...</td>\n",
       "      <td>...</td>\n",
       "      <td>...</td>\n",
       "      <td>...</td>\n",
       "      <td>...</td>\n",
       "      <td>...</td>\n",
       "      <td>...</td>\n",
       "      <td>...</td>\n",
       "    </tr>\n",
       "    <tr>\n",
       "      <th>29995</th>\n",
       "      <td>220000</td>\n",
       "      <td>1</td>\n",
       "      <td>3</td>\n",
       "      <td>1</td>\n",
       "      <td>39</td>\n",
       "      <td>0</td>\n",
       "      <td>0</td>\n",
       "      <td>0</td>\n",
       "      <td>0</td>\n",
       "      <td>0</td>\n",
       "      <td>...</td>\n",
       "      <td>88004</td>\n",
       "      <td>31237</td>\n",
       "      <td>15980</td>\n",
       "      <td>8500</td>\n",
       "      <td>20000</td>\n",
       "      <td>5003</td>\n",
       "      <td>3047</td>\n",
       "      <td>5000</td>\n",
       "      <td>1000</td>\n",
       "      <td>0</td>\n",
       "    </tr>\n",
       "    <tr>\n",
       "      <th>29996</th>\n",
       "      <td>150000</td>\n",
       "      <td>1</td>\n",
       "      <td>3</td>\n",
       "      <td>2</td>\n",
       "      <td>43</td>\n",
       "      <td>-1</td>\n",
       "      <td>-1</td>\n",
       "      <td>-1</td>\n",
       "      <td>-1</td>\n",
       "      <td>0</td>\n",
       "      <td>...</td>\n",
       "      <td>8979</td>\n",
       "      <td>5190</td>\n",
       "      <td>0</td>\n",
       "      <td>1837</td>\n",
       "      <td>3526</td>\n",
       "      <td>8998</td>\n",
       "      <td>129</td>\n",
       "      <td>0</td>\n",
       "      <td>0</td>\n",
       "      <td>0</td>\n",
       "    </tr>\n",
       "    <tr>\n",
       "      <th>29997</th>\n",
       "      <td>30000</td>\n",
       "      <td>1</td>\n",
       "      <td>2</td>\n",
       "      <td>2</td>\n",
       "      <td>37</td>\n",
       "      <td>4</td>\n",
       "      <td>3</td>\n",
       "      <td>2</td>\n",
       "      <td>-1</td>\n",
       "      <td>0</td>\n",
       "      <td>...</td>\n",
       "      <td>20878</td>\n",
       "      <td>20582</td>\n",
       "      <td>19357</td>\n",
       "      <td>0</td>\n",
       "      <td>0</td>\n",
       "      <td>22000</td>\n",
       "      <td>4200</td>\n",
       "      <td>2000</td>\n",
       "      <td>3100</td>\n",
       "      <td>1</td>\n",
       "    </tr>\n",
       "    <tr>\n",
       "      <th>29998</th>\n",
       "      <td>80000</td>\n",
       "      <td>1</td>\n",
       "      <td>3</td>\n",
       "      <td>1</td>\n",
       "      <td>41</td>\n",
       "      <td>1</td>\n",
       "      <td>-1</td>\n",
       "      <td>0</td>\n",
       "      <td>0</td>\n",
       "      <td>0</td>\n",
       "      <td>...</td>\n",
       "      <td>52774</td>\n",
       "      <td>11855</td>\n",
       "      <td>48944</td>\n",
       "      <td>85900</td>\n",
       "      <td>3409</td>\n",
       "      <td>1178</td>\n",
       "      <td>1926</td>\n",
       "      <td>52964</td>\n",
       "      <td>1804</td>\n",
       "      <td>1</td>\n",
       "    </tr>\n",
       "    <tr>\n",
       "      <th>29999</th>\n",
       "      <td>50000</td>\n",
       "      <td>1</td>\n",
       "      <td>2</td>\n",
       "      <td>1</td>\n",
       "      <td>46</td>\n",
       "      <td>0</td>\n",
       "      <td>0</td>\n",
       "      <td>0</td>\n",
       "      <td>0</td>\n",
       "      <td>0</td>\n",
       "      <td>...</td>\n",
       "      <td>36535</td>\n",
       "      <td>32428</td>\n",
       "      <td>15313</td>\n",
       "      <td>2078</td>\n",
       "      <td>1800</td>\n",
       "      <td>1430</td>\n",
       "      <td>1000</td>\n",
       "      <td>1000</td>\n",
       "      <td>1000</td>\n",
       "      <td>1</td>\n",
       "    </tr>\n",
       "  </tbody>\n",
       "</table>\n",
       "<p>30000 rows × 24 columns</p>\n",
       "</div>"
      ],
      "text/plain": [
       "       LIMIT_BAL  SEX  EDUCATION  MARRIAGE  AGE  PAY_1  PAY_2  PAY_3  PAY_4  \\\n",
       "0          20000    2          2         1   24      2      2     -1     -1   \n",
       "1         120000    2          2         2   26     -1      2      0      0   \n",
       "2          90000    2          2         2   34      0      0      0      0   \n",
       "3          50000    2          2         1   37      0      0      0      0   \n",
       "4          50000    1          2         1   57     -1      0     -1      0   \n",
       "...          ...  ...        ...       ...  ...    ...    ...    ...    ...   \n",
       "29995     220000    1          3         1   39      0      0      0      0   \n",
       "29996     150000    1          3         2   43     -1     -1     -1     -1   \n",
       "29997      30000    1          2         2   37      4      3      2     -1   \n",
       "29998      80000    1          3         1   41      1     -1      0      0   \n",
       "29999      50000    1          2         1   46      0      0      0      0   \n",
       "\n",
       "       PAY_5  ...  BILL_AMT4  BILL_AMT5  BILL_AMT6  PAY_AMT1  PAY_AMT2  \\\n",
       "0         -2  ...          0          0          0         0       689   \n",
       "1          0  ...       3272       3455       3261         0      1000   \n",
       "2          0  ...      14331      14948      15549      1518      1500   \n",
       "3          0  ...      28314      28959      29547      2000      2019   \n",
       "4          0  ...      20940      19146      19131      2000     36681   \n",
       "...      ...  ...        ...        ...        ...       ...       ...   \n",
       "29995      0  ...      88004      31237      15980      8500     20000   \n",
       "29996      0  ...       8979       5190          0      1837      3526   \n",
       "29997      0  ...      20878      20582      19357         0         0   \n",
       "29998      0  ...      52774      11855      48944     85900      3409   \n",
       "29999      0  ...      36535      32428      15313      2078      1800   \n",
       "\n",
       "       PAY_AMT3  PAY_AMT4  PAY_AMT5  PAY_AMT6  overdue  \n",
       "0             0         0         0         0        1  \n",
       "1          1000      1000         0      2000        1  \n",
       "2          1000      1000      1000      5000        0  \n",
       "3          1200      1100      1069      1000        0  \n",
       "4         10000      9000       689       679        0  \n",
       "...         ...       ...       ...       ...      ...  \n",
       "29995      5003      3047      5000      1000        0  \n",
       "29996      8998       129         0         0        0  \n",
       "29997     22000      4200      2000      3100        1  \n",
       "29998      1178      1926     52964      1804        1  \n",
       "29999      1430      1000      1000      1000        1  \n",
       "\n",
       "[30000 rows x 24 columns]"
      ]
     },
     "execution_count": 11,
     "metadata": {},
     "output_type": "execute_result"
    }
   ],
   "source": [
    "df.rename(columns={'PAY_0':'PAY_1','default payment next month':'overdue'},inplace=True)\n",
    "y_target = df['overdue']\n",
    "X_feature = df.drop('overdue',axis=1)\n",
    "\n",
    "df"
   ]
  },
  {
   "cell_type": "markdown",
   "metadata": {},
   "source": [
    "이제 24개의 피처별 상관 관계를 살펴보자. 이유는 PCA 는 상관관계를 이용해 주성분을 추출한다고 언급했었다.<br><br>\n",
    "[plotly expree basic](https://plotly.com/python/plotly-express/)<br>\n",
    "[plotly express 색 테마 변경](https://plotly.com/python/builtin-colorscales/) <br>\n",
    "[plotly express imshow](https://plotly.com/python/imshow/)"
   ]
  },
  {
   "cell_type": "code",
   "execution_count": 39,
   "metadata": {},
   "outputs": [
    {
     "data": {
      "application/vnd.plotly.v1+json": {
       "config": {
        "plotlyServerURL": "https://plot.ly"
       },
       "data": [
        {
         "coloraxis": "coloraxis",
         "hovertemplate": "x: %{x}<br>y: %{y}<br>color: %{z}<extra></extra>",
         "name": "0",
         "type": "heatmap",
         "x": [
          "LIMIT_BAL",
          "SEX",
          "EDUCATION",
          "MARRIAGE",
          "AGE",
          "PAY_1",
          "PAY_2",
          "PAY_3",
          "PAY_4",
          "PAY_5",
          "PAY_6",
          "BILL_AMT1",
          "BILL_AMT2",
          "BILL_AMT3",
          "BILL_AMT4",
          "BILL_AMT5",
          "BILL_AMT6",
          "PAY_AMT1",
          "PAY_AMT2",
          "PAY_AMT3",
          "PAY_AMT4",
          "PAY_AMT5",
          "PAY_AMT6",
          "overdue"
         ],
         "xaxis": "x",
         "y": [
          "LIMIT_BAL",
          "SEX",
          "EDUCATION",
          "MARRIAGE",
          "AGE",
          "PAY_1",
          "PAY_2",
          "PAY_3",
          "PAY_4",
          "PAY_5",
          "PAY_6",
          "BILL_AMT1",
          "BILL_AMT2",
          "BILL_AMT3",
          "BILL_AMT4",
          "BILL_AMT5",
          "BILL_AMT6",
          "PAY_AMT1",
          "PAY_AMT2",
          "PAY_AMT3",
          "PAY_AMT4",
          "PAY_AMT5",
          "PAY_AMT6",
          "overdue"
         ],
         "yaxis": "y",
         "z": [
          [
           1,
           0.024755235111635455,
           -0.21916069822919892,
           -0.10813941027805403,
           0.14471279755733898,
           -0.2712143321346566,
           -0.2963821009965285,
           -0.28612295390311204,
           -0.26746000963940014,
           -0.24941139482420563,
           -0.23519539948551665,
           0.2854298649650024,
           0.27831436399777376,
           0.28323578358169615,
           0.29398762371600184,
           0.2955623376582501,
           0.2903889506479491,
           0.19523591523218456,
           0.1784079536837089,
           0.21016674772340774,
           0.20324241022461373,
           0.21720243239551573,
           0.2195953686044145,
           -0.1535198763934634
          ],
          [
           0.024755235111635455,
           1,
           0.014231936162202063,
           -0.03138884007084978,
           -0.09087364652734889,
           -0.057642878866969796,
           -0.07077100316681666,
           -0.06609605640040053,
           -0.060173238366181506,
           -0.05506388503522207,
           -0.044007788187643664,
           -0.03364186958913818,
           -0.031183472229657738,
           -0.024563311681395073,
           -0.021879679073477817,
           -0.017005180187320643,
           -0.016733126348154406,
           -0.0002424545629413491,
           -0.0013909096590862312,
           -0.008596624911740208,
           -0.0022289715070052205,
           -0.0016671618004731178,
           -0.0027660222828912234,
           -0.03996057770542914
          ],
          [
           -0.21916069822919892,
           0.014231936162202063,
           1,
           -0.14346434041150158,
           0.17506066148806362,
           0.10536399793531669,
           0.12156555247068576,
           0.11402490285709801,
           0.10879345615279878,
           0.09752016063021242,
           0.08231598637747728,
           0.023581180737112246,
           0.018748770808320173,
           0.013002400711997089,
           -0.0004513453087485706,
           -0.007566503046841017,
           -0.009098954697454293,
           -0.03745618391311011,
           -0.030038186562840442,
           -0.03994314086709832,
           -0.038218166111340275,
           -0.04035845492818855,
           -0.037199903089169574,
           0.02800607765623944
          ],
          [
           -0.10813941027805403,
           -0.03138884007084978,
           -0.14346434041150158,
           1,
           -0.4141699184882271,
           0.019917190483427872,
           0.02419906728119972,
           0.032687673337237905,
           0.03312154891406339,
           0.035629170366565426,
           0.034344765997450316,
           -0.023471801910134676,
           -0.021601779859033592,
           -0.02490945102250521,
           -0.02334384691538142,
           -0.025393397991281746,
           -0.02120682480008369,
           -0.005978999780835045,
           -0.008092702837780942,
           -0.0035413519467560888,
           -0.012659278892723353,
           -0.0012047569155652525,
           -0.0066409419256549685,
           -0.024339215683405382
          ],
          [
           0.14471279755733898,
           -0.09087364652734889,
           0.17506066148806362,
           -0.4141699184882271,
           1,
           -0.03944737618411882,
           -0.05014777620686146,
           -0.053048437258155896,
           -0.04972167399537965,
           -0.05382597641308751,
           -0.0487734264283318,
           0.05623853326056632,
           0.05428307435034137,
           0.053709705178658994,
           0.05135309324331977,
           0.04934504811261162,
           0.047612677990511616,
           0.026146679056987577,
           0.02178489339261622,
           0.02924735304500797,
           0.02137900561559129,
           0.02284997355855755,
           0.019478152969871036,
           0.013889834301962055
          ],
          [
           -0.2712143321346566,
           -0.057642878866969796,
           0.10536399793531669,
           0.019917190483427872,
           -0.03944737618411882,
           1,
           0.6721643825485115,
           0.5742450926205569,
           0.5388406268711887,
           0.5094260636655169,
           0.4745530860641991,
           0.18706843147381272,
           0.1898591088935442,
           0.17978528216681353,
           0.17912477062588092,
           0.18063462540120653,
           0.17698029564143664,
           -0.07926871118542084,
           -0.07010052119394661,
           -0.07056083767035214,
           -0.0640048888877329,
           -0.05818988594977887,
           -0.05867321437607638,
           0.32479372847861593
          ],
          [
           -0.2963821009965285,
           -0.07077100316681666,
           0.12156555247068576,
           0.02419906728119972,
           -0.05014777620686146,
           0.6721643825485115,
           1,
           0.7665516829340645,
           0.6620671310240178,
           0.6227802453771065,
           0.5755008617794772,
           0.23488652660361398,
           0.23525694274355993,
           0.22414585503165704,
           0.2222365116128552,
           0.2213483730334607,
           0.21940335128671515,
           -0.08070070981017687,
           -0.0589899990346273,
           -0.055901231300970716,
           -0.04685841151355427,
           -0.03709307977013079,
           -0.0365003755272274,
           0.26355120167213386
          ],
          [
           -0.28612295390311204,
           -0.06609605640040053,
           0.11402490285709801,
           0.032687673337237905,
           -0.053048437258155896,
           0.5742450926205569,
           0.7665516829340645,
           1,
           0.7773588733014175,
           0.6867745109946158,
           0.6326835927185628,
           0.20847288868973574,
           0.2372945344028915,
           0.2274943266955342,
           0.22720228070074397,
           0.22514519307199413,
           0.2223267374362909,
           0.0012948143319477922,
           -0.06679339566551593,
           -0.05331077958609125,
           -0.04606653388795651,
           -0.035863070561357575,
           -0.0358610837187728,
           0.23525251372489042
          ],
          [
           -0.26746000963940014,
           -0.060173238366181506,
           0.10879345615279878,
           0.03312154891406339,
           -0.04972167399537965,
           0.5388406268711887,
           0.6620671310240178,
           0.7773588733014175,
           1,
           0.8198353114868159,
           0.7164494815811169,
           0.20281206938745777,
           0.2258163160680939,
           0.24498313796206503,
           0.24591720419844126,
           0.2429020584249072,
           0.23915412960586346,
           -0.009362135754402846,
           -0.001943656607904313,
           -0.06923520356768037,
           -0.04346142965539879,
           -0.033589534748120445,
           -0.026565087967652147,
           0.21661363684241972
          ],
          [
           -0.24941139482420563,
           -0.05506388503522207,
           0.09752016063021242,
           0.035629170366565426,
           -0.05382597641308751,
           0.5094260636655169,
           0.6227802453771065,
           0.6867745109946158,
           0.8198353114868159,
           1,
           0.8169001604178685,
           0.20668396424411994,
           0.22691326699155925,
           0.24333468092024604,
           0.27191500699813403,
           0.26978309015117685,
           0.26250925166846667,
           -0.006088757138842614,
           -0.003191332307053405,
           0.009062362681556524,
           -0.05829886530947286,
           -0.03333650421280089,
           -0.023027450987599254,
           0.20414891387611414
          ],
          [
           -0.23519539948551665,
           -0.044007788187643664,
           0.08231598637747728,
           0.034344765997450316,
           -0.0487734264283318,
           0.4745530860641991,
           0.5755008617794772,
           0.6326835927185628,
           0.7164494815811169,
           0.8169001604178685,
           1,
           0.2073731312956845,
           0.22692443093068188,
           0.24118114604235205,
           0.2663560690339363,
           0.2908937449486417,
           0.28509099069262595,
           -0.001496289043318324,
           -0.005223268144056256,
           0.005833774192896853,
           0.01901786328244545,
           -0.04643364107299502,
           -0.025299338462288146,
           0.18686636165353435
          ],
          [
           0.2854298649650024,
           -0.03364186958913818,
           0.023581180737112246,
           -0.023471801910134676,
           0.05623853326056632,
           0.18706843147381272,
           0.23488652660361398,
           0.20847288868973574,
           0.20281206938745777,
           0.20668396424411994,
           0.2073731312956845,
           1,
           0.9514836727518374,
           0.8922785291271761,
           0.8602721890293005,
           0.8297786058330343,
           0.8026501885528919,
           0.14027727757531827,
           0.09935503497277853,
           0.156887138475675,
           0.15830253328354743,
           0.16702571208290615,
           0.17934112200690228,
           -0.01964419714321997
          ],
          [
           0.27831436399777376,
           -0.031183472229657738,
           0.018748770808320173,
           -0.021601779859033592,
           0.05428307435034137,
           0.1898591088935442,
           0.23525694274355993,
           0.2372945344028915,
           0.2258163160680939,
           0.22691326699155925,
           0.22692443093068188,
           0.9514836727518374,
           1,
           0.9283262592714886,
           0.8924822912576753,
           0.859778307271451,
           0.8315935591018396,
           0.28036535701408555,
           0.10085087751754053,
           0.15071819370166342,
           0.14739810422001587,
           0.1579574116239592,
           0.17425616563434684,
           -0.014193218088214877
          ],
          [
           0.28323578358169615,
           -0.024563311681395073,
           0.013002400711997089,
           -0.02490945102250521,
           0.053709705178658994,
           0.17978528216681353,
           0.22414585503165704,
           0.2274943266955342,
           0.24498313796206503,
           0.24333468092024604,
           0.24118114604235205,
           0.8922785291271761,
           0.9283262592714886,
           1,
           0.9239694565909764,
           0.8839096973619937,
           0.8533200905940386,
           0.2443352376081392,
           0.31693597717969435,
           0.13001118162440695,
           0.14340460499244492,
           0.1797123504064784,
           0.18232596615205957,
           -0.014075518043213994
          ],
          [
           0.29398762371600184,
           -0.021879679073477817,
           -0.0004513453087485706,
           -0.02334384691538142,
           0.05135309324331977,
           0.17912477062588092,
           0.2222365116128552,
           0.22720228070074397,
           0.24591720419844126,
           0.27191500699813403,
           0.2663560690339363,
           0.8602721890293005,
           0.8924822912576753,
           0.9239694565909764,
           1,
           0.9401344040880266,
           0.9009409547979025,
           0.23301185215341472,
           0.20756372904210446,
           0.3000225291116425,
           0.1301914077878168,
           0.16043303762898942,
           0.17763699418675602,
           -0.010156495880289025
          ],
          [
           0.2955623376582501,
           -0.017005180187320643,
           -0.007566503046841017,
           -0.025393397991281746,
           0.04934504811261162,
           0.18063462540120653,
           0.2213483730334607,
           0.22514519307199413,
           0.2429020584249072,
           0.26978309015117685,
           0.2908937449486417,
           0.8297786058330343,
           0.859778307271451,
           0.8839096973619937,
           0.9401344040880266,
           1,
           0.9461968070522464,
           0.21703082377803495,
           0.1812464910523023,
           0.2523048617306058,
           0.293118463184434,
           0.14157417995959912,
           0.16418445035362986,
           -0.006760463841014325
          ],
          [
           0.2903889506479491,
           -0.016733126348154406,
           -0.009098954697454293,
           -0.02120682480008369,
           0.047612677990511616,
           0.17698029564143664,
           0.21940335128671515,
           0.2223267374362909,
           0.23915412960586346,
           0.26250925166846667,
           0.28509099069262595,
           0.8026501885528919,
           0.8315935591018396,
           0.8533200905940386,
           0.9009409547979025,
           0.9461968070522464,
           1,
           0.19996500616338114,
           0.17266293741805372,
           0.2337697933269198,
           0.25023682493343924,
           0.30772888950112604,
           0.11549416685165832,
           -0.005372314914815026
          ],
          [
           0.19523591523218456,
           -0.0002424545629413491,
           -0.03745618391311011,
           -0.005978999780835045,
           0.026146679056987577,
           -0.07926871118542084,
           -0.08070070981017687,
           0.0012948143319477922,
           -0.009362135754402846,
           -0.006088757138842614,
           -0.001496289043318324,
           0.14027727757531827,
           0.28036535701408555,
           0.2443352376081392,
           0.23301185215341472,
           0.21703082377803495,
           0.19996500616338114,
           1,
           0.2855755286868565,
           0.25219113895238043,
           0.1995579311706692,
           0.14845927501532108,
           0.18573525544574024,
           -0.07292948777784351
          ],
          [
           0.1784079536837089,
           -0.0013909096590862312,
           -0.030038186562840442,
           -0.008092702837780942,
           0.02178489339261622,
           -0.07010052119394661,
           -0.0589899990346273,
           -0.06679339566551593,
           -0.001943656607904313,
           -0.003191332307053405,
           -0.005223268144056256,
           0.09935503497277853,
           0.10085087751754053,
           0.31693597717969435,
           0.20756372904210446,
           0.1812464910523023,
           0.17266293741805372,
           0.2855755286868565,
           1,
           0.24477045029288258,
           0.18010674364564283,
           0.18090775259419362,
           0.15763391627235926,
           -0.05857870658290595
          ],
          [
           0.21016674772340774,
           -0.008596624911740208,
           -0.03994314086709832,
           -0.0035413519467560888,
           0.02924735304500797,
           -0.07056083767035214,
           -0.055901231300970716,
           -0.05331077958609125,
           -0.06923520356768037,
           0.009062362681556524,
           0.005833774192896853,
           0.156887138475675,
           0.15071819370166342,
           0.13001118162440695,
           0.3000225291116425,
           0.2523048617306058,
           0.2337697933269198,
           0.25219113895238043,
           0.24477045029288258,
           1,
           0.21632509170083622,
           0.1592137203086918,
           0.16274003329184034,
           -0.05625035099032396
          ],
          [
           0.20324241022461373,
           -0.0022289715070052205,
           -0.038218166111340275,
           -0.012659278892723353,
           0.02137900561559129,
           -0.0640048888877329,
           -0.04685841151355427,
           -0.04606653388795651,
           -0.04346142965539879,
           -0.05829886530947286,
           0.01901786328244545,
           0.15830253328354743,
           0.14739810422001587,
           0.14340460499244492,
           0.1301914077878168,
           0.293118463184434,
           0.25023682493343924,
           0.1995579311706692,
           0.18010674364564283,
           0.21632509170083622,
           1,
           0.15183043582616415,
           0.15783391560138624,
           -0.056827400892889145
          ],
          [
           0.21720243239551573,
           -0.0016671618004731178,
           -0.04035845492818855,
           -0.0012047569155652525,
           0.02284997355855755,
           -0.05818988594977887,
           -0.03709307977013079,
           -0.035863070561357575,
           -0.033589534748120445,
           -0.03333650421280089,
           -0.04643364107299502,
           0.16702571208290615,
           0.1579574116239592,
           0.1797123504064784,
           0.16043303762898942,
           0.14157417995959912,
           0.30772888950112604,
           0.14845927501532108,
           0.18090775259419362,
           0.1592137203086918,
           0.15183043582616415,
           1,
           0.15489552525960384,
           -0.05512351562108079
          ],
          [
           0.2195953686044145,
           -0.0027660222828912234,
           -0.037199903089169574,
           -0.0066409419256549685,
           0.019478152969871036,
           -0.05867321437607638,
           -0.0365003755272274,
           -0.0358610837187728,
           -0.026565087967652147,
           -0.023027450987599254,
           -0.025299338462288146,
           0.17934112200690228,
           0.17425616563434684,
           0.18232596615205957,
           0.17763699418675602,
           0.16418445035362986,
           0.11549416685165832,
           0.18573525544574024,
           0.15763391627235926,
           0.16274003329184034,
           0.15783391560138624,
           0.15489552525960384,
           1,
           -0.053183340326129626
          ],
          [
           -0.1535198763934634,
           -0.03996057770542914,
           0.02800607765623944,
           -0.024339215683405382,
           0.013889834301962055,
           0.32479372847861593,
           0.26355120167213386,
           0.23525251372489042,
           0.21661363684241972,
           0.20414891387611414,
           0.18686636165353435,
           -0.01964419714321997,
           -0.014193218088214877,
           -0.014075518043213994,
           -0.010156495880289025,
           -0.006760463841014325,
           -0.005372314914815026,
           -0.07292948777784351,
           -0.05857870658290595,
           -0.05625035099032396,
           -0.056827400892889145,
           -0.05512351562108079,
           -0.053183340326129626,
           1
          ]
         ]
        }
       ],
       "layout": {
        "coloraxis": {
         "colorscale": [
          [
           0,
           "rgb(247,251,255)"
          ],
          [
           0.125,
           "rgb(222,235,247)"
          ],
          [
           0.25,
           "rgb(198,219,239)"
          ],
          [
           0.375,
           "rgb(158,202,225)"
          ],
          [
           0.5,
           "rgb(107,174,214)"
          ],
          [
           0.625,
           "rgb(66,146,198)"
          ],
          [
           0.75,
           "rgb(33,113,181)"
          ],
          [
           0.875,
           "rgb(8,81,156)"
          ],
          [
           1,
           "rgb(8,48,107)"
          ]
         ]
        },
        "margin": {
         "t": 60
        },
        "template": {
         "data": {
          "bar": [
           {
            "error_x": {
             "color": "#2a3f5f"
            },
            "error_y": {
             "color": "#2a3f5f"
            },
            "marker": {
             "line": {
              "color": "#E5ECF6",
              "width": 0.5
             }
            },
            "type": "bar"
           }
          ],
          "barpolar": [
           {
            "marker": {
             "line": {
              "color": "#E5ECF6",
              "width": 0.5
             }
            },
            "type": "barpolar"
           }
          ],
          "carpet": [
           {
            "aaxis": {
             "endlinecolor": "#2a3f5f",
             "gridcolor": "white",
             "linecolor": "white",
             "minorgridcolor": "white",
             "startlinecolor": "#2a3f5f"
            },
            "baxis": {
             "endlinecolor": "#2a3f5f",
             "gridcolor": "white",
             "linecolor": "white",
             "minorgridcolor": "white",
             "startlinecolor": "#2a3f5f"
            },
            "type": "carpet"
           }
          ],
          "choropleth": [
           {
            "colorbar": {
             "outlinewidth": 0,
             "ticks": ""
            },
            "type": "choropleth"
           }
          ],
          "contour": [
           {
            "colorbar": {
             "outlinewidth": 0,
             "ticks": ""
            },
            "colorscale": [
             [
              0,
              "#0d0887"
             ],
             [
              0.1111111111111111,
              "#46039f"
             ],
             [
              0.2222222222222222,
              "#7201a8"
             ],
             [
              0.3333333333333333,
              "#9c179e"
             ],
             [
              0.4444444444444444,
              "#bd3786"
             ],
             [
              0.5555555555555556,
              "#d8576b"
             ],
             [
              0.6666666666666666,
              "#ed7953"
             ],
             [
              0.7777777777777778,
              "#fb9f3a"
             ],
             [
              0.8888888888888888,
              "#fdca26"
             ],
             [
              1,
              "#f0f921"
             ]
            ],
            "type": "contour"
           }
          ],
          "contourcarpet": [
           {
            "colorbar": {
             "outlinewidth": 0,
             "ticks": ""
            },
            "type": "contourcarpet"
           }
          ],
          "heatmap": [
           {
            "colorbar": {
             "outlinewidth": 0,
             "ticks": ""
            },
            "colorscale": [
             [
              0,
              "#0d0887"
             ],
             [
              0.1111111111111111,
              "#46039f"
             ],
             [
              0.2222222222222222,
              "#7201a8"
             ],
             [
              0.3333333333333333,
              "#9c179e"
             ],
             [
              0.4444444444444444,
              "#bd3786"
             ],
             [
              0.5555555555555556,
              "#d8576b"
             ],
             [
              0.6666666666666666,
              "#ed7953"
             ],
             [
              0.7777777777777778,
              "#fb9f3a"
             ],
             [
              0.8888888888888888,
              "#fdca26"
             ],
             [
              1,
              "#f0f921"
             ]
            ],
            "type": "heatmap"
           }
          ],
          "heatmapgl": [
           {
            "colorbar": {
             "outlinewidth": 0,
             "ticks": ""
            },
            "colorscale": [
             [
              0,
              "#0d0887"
             ],
             [
              0.1111111111111111,
              "#46039f"
             ],
             [
              0.2222222222222222,
              "#7201a8"
             ],
             [
              0.3333333333333333,
              "#9c179e"
             ],
             [
              0.4444444444444444,
              "#bd3786"
             ],
             [
              0.5555555555555556,
              "#d8576b"
             ],
             [
              0.6666666666666666,
              "#ed7953"
             ],
             [
              0.7777777777777778,
              "#fb9f3a"
             ],
             [
              0.8888888888888888,
              "#fdca26"
             ],
             [
              1,
              "#f0f921"
             ]
            ],
            "type": "heatmapgl"
           }
          ],
          "histogram": [
           {
            "marker": {
             "colorbar": {
              "outlinewidth": 0,
              "ticks": ""
             }
            },
            "type": "histogram"
           }
          ],
          "histogram2d": [
           {
            "colorbar": {
             "outlinewidth": 0,
             "ticks": ""
            },
            "colorscale": [
             [
              0,
              "#0d0887"
             ],
             [
              0.1111111111111111,
              "#46039f"
             ],
             [
              0.2222222222222222,
              "#7201a8"
             ],
             [
              0.3333333333333333,
              "#9c179e"
             ],
             [
              0.4444444444444444,
              "#bd3786"
             ],
             [
              0.5555555555555556,
              "#d8576b"
             ],
             [
              0.6666666666666666,
              "#ed7953"
             ],
             [
              0.7777777777777778,
              "#fb9f3a"
             ],
             [
              0.8888888888888888,
              "#fdca26"
             ],
             [
              1,
              "#f0f921"
             ]
            ],
            "type": "histogram2d"
           }
          ],
          "histogram2dcontour": [
           {
            "colorbar": {
             "outlinewidth": 0,
             "ticks": ""
            },
            "colorscale": [
             [
              0,
              "#0d0887"
             ],
             [
              0.1111111111111111,
              "#46039f"
             ],
             [
              0.2222222222222222,
              "#7201a8"
             ],
             [
              0.3333333333333333,
              "#9c179e"
             ],
             [
              0.4444444444444444,
              "#bd3786"
             ],
             [
              0.5555555555555556,
              "#d8576b"
             ],
             [
              0.6666666666666666,
              "#ed7953"
             ],
             [
              0.7777777777777778,
              "#fb9f3a"
             ],
             [
              0.8888888888888888,
              "#fdca26"
             ],
             [
              1,
              "#f0f921"
             ]
            ],
            "type": "histogram2dcontour"
           }
          ],
          "mesh3d": [
           {
            "colorbar": {
             "outlinewidth": 0,
             "ticks": ""
            },
            "type": "mesh3d"
           }
          ],
          "parcoords": [
           {
            "line": {
             "colorbar": {
              "outlinewidth": 0,
              "ticks": ""
             }
            },
            "type": "parcoords"
           }
          ],
          "pie": [
           {
            "automargin": true,
            "type": "pie"
           }
          ],
          "scatter": [
           {
            "marker": {
             "colorbar": {
              "outlinewidth": 0,
              "ticks": ""
             }
            },
            "type": "scatter"
           }
          ],
          "scatter3d": [
           {
            "line": {
             "colorbar": {
              "outlinewidth": 0,
              "ticks": ""
             }
            },
            "marker": {
             "colorbar": {
              "outlinewidth": 0,
              "ticks": ""
             }
            },
            "type": "scatter3d"
           }
          ],
          "scattercarpet": [
           {
            "marker": {
             "colorbar": {
              "outlinewidth": 0,
              "ticks": ""
             }
            },
            "type": "scattercarpet"
           }
          ],
          "scattergeo": [
           {
            "marker": {
             "colorbar": {
              "outlinewidth": 0,
              "ticks": ""
             }
            },
            "type": "scattergeo"
           }
          ],
          "scattergl": [
           {
            "marker": {
             "colorbar": {
              "outlinewidth": 0,
              "ticks": ""
             }
            },
            "type": "scattergl"
           }
          ],
          "scattermapbox": [
           {
            "marker": {
             "colorbar": {
              "outlinewidth": 0,
              "ticks": ""
             }
            },
            "type": "scattermapbox"
           }
          ],
          "scatterpolar": [
           {
            "marker": {
             "colorbar": {
              "outlinewidth": 0,
              "ticks": ""
             }
            },
            "type": "scatterpolar"
           }
          ],
          "scatterpolargl": [
           {
            "marker": {
             "colorbar": {
              "outlinewidth": 0,
              "ticks": ""
             }
            },
            "type": "scatterpolargl"
           }
          ],
          "scatterternary": [
           {
            "marker": {
             "colorbar": {
              "outlinewidth": 0,
              "ticks": ""
             }
            },
            "type": "scatterternary"
           }
          ],
          "surface": [
           {
            "colorbar": {
             "outlinewidth": 0,
             "ticks": ""
            },
            "colorscale": [
             [
              0,
              "#0d0887"
             ],
             [
              0.1111111111111111,
              "#46039f"
             ],
             [
              0.2222222222222222,
              "#7201a8"
             ],
             [
              0.3333333333333333,
              "#9c179e"
             ],
             [
              0.4444444444444444,
              "#bd3786"
             ],
             [
              0.5555555555555556,
              "#d8576b"
             ],
             [
              0.6666666666666666,
              "#ed7953"
             ],
             [
              0.7777777777777778,
              "#fb9f3a"
             ],
             [
              0.8888888888888888,
              "#fdca26"
             ],
             [
              1,
              "#f0f921"
             ]
            ],
            "type": "surface"
           }
          ],
          "table": [
           {
            "cells": {
             "fill": {
              "color": "#EBF0F8"
             },
             "line": {
              "color": "white"
             }
            },
            "header": {
             "fill": {
              "color": "#C8D4E3"
             },
             "line": {
              "color": "white"
             }
            },
            "type": "table"
           }
          ]
         },
         "layout": {
          "annotationdefaults": {
           "arrowcolor": "#2a3f5f",
           "arrowhead": 0,
           "arrowwidth": 1
          },
          "autotypenumbers": "strict",
          "coloraxis": {
           "colorbar": {
            "outlinewidth": 0,
            "ticks": ""
           }
          },
          "colorscale": {
           "diverging": [
            [
             0,
             "#8e0152"
            ],
            [
             0.1,
             "#c51b7d"
            ],
            [
             0.2,
             "#de77ae"
            ],
            [
             0.3,
             "#f1b6da"
            ],
            [
             0.4,
             "#fde0ef"
            ],
            [
             0.5,
             "#f7f7f7"
            ],
            [
             0.6,
             "#e6f5d0"
            ],
            [
             0.7,
             "#b8e186"
            ],
            [
             0.8,
             "#7fbc41"
            ],
            [
             0.9,
             "#4d9221"
            ],
            [
             1,
             "#276419"
            ]
           ],
           "sequential": [
            [
             0,
             "#0d0887"
            ],
            [
             0.1111111111111111,
             "#46039f"
            ],
            [
             0.2222222222222222,
             "#7201a8"
            ],
            [
             0.3333333333333333,
             "#9c179e"
            ],
            [
             0.4444444444444444,
             "#bd3786"
            ],
            [
             0.5555555555555556,
             "#d8576b"
            ],
            [
             0.6666666666666666,
             "#ed7953"
            ],
            [
             0.7777777777777778,
             "#fb9f3a"
            ],
            [
             0.8888888888888888,
             "#fdca26"
            ],
            [
             1,
             "#f0f921"
            ]
           ],
           "sequentialminus": [
            [
             0,
             "#0d0887"
            ],
            [
             0.1111111111111111,
             "#46039f"
            ],
            [
             0.2222222222222222,
             "#7201a8"
            ],
            [
             0.3333333333333333,
             "#9c179e"
            ],
            [
             0.4444444444444444,
             "#bd3786"
            ],
            [
             0.5555555555555556,
             "#d8576b"
            ],
            [
             0.6666666666666666,
             "#ed7953"
            ],
            [
             0.7777777777777778,
             "#fb9f3a"
            ],
            [
             0.8888888888888888,
             "#fdca26"
            ],
            [
             1,
             "#f0f921"
            ]
           ]
          },
          "colorway": [
           "#636efa",
           "#EF553B",
           "#00cc96",
           "#ab63fa",
           "#FFA15A",
           "#19d3f3",
           "#FF6692",
           "#B6E880",
           "#FF97FF",
           "#FECB52"
          ],
          "font": {
           "color": "#2a3f5f"
          },
          "geo": {
           "bgcolor": "white",
           "lakecolor": "white",
           "landcolor": "#E5ECF6",
           "showlakes": true,
           "showland": true,
           "subunitcolor": "white"
          },
          "hoverlabel": {
           "align": "left"
          },
          "hovermode": "closest",
          "mapbox": {
           "style": "light"
          },
          "paper_bgcolor": "white",
          "plot_bgcolor": "#E5ECF6",
          "polar": {
           "angularaxis": {
            "gridcolor": "white",
            "linecolor": "white",
            "ticks": ""
           },
           "bgcolor": "#E5ECF6",
           "radialaxis": {
            "gridcolor": "white",
            "linecolor": "white",
            "ticks": ""
           }
          },
          "scene": {
           "xaxis": {
            "backgroundcolor": "#E5ECF6",
            "gridcolor": "white",
            "gridwidth": 2,
            "linecolor": "white",
            "showbackground": true,
            "ticks": "",
            "zerolinecolor": "white"
           },
           "yaxis": {
            "backgroundcolor": "#E5ECF6",
            "gridcolor": "white",
            "gridwidth": 2,
            "linecolor": "white",
            "showbackground": true,
            "ticks": "",
            "zerolinecolor": "white"
           },
           "zaxis": {
            "backgroundcolor": "#E5ECF6",
            "gridcolor": "white",
            "gridwidth": 2,
            "linecolor": "white",
            "showbackground": true,
            "ticks": "",
            "zerolinecolor": "white"
           }
          },
          "shapedefaults": {
           "line": {
            "color": "#2a3f5f"
           }
          },
          "ternary": {
           "aaxis": {
            "gridcolor": "white",
            "linecolor": "white",
            "ticks": ""
           },
           "baxis": {
            "gridcolor": "white",
            "linecolor": "white",
            "ticks": ""
           },
           "bgcolor": "#E5ECF6",
           "caxis": {
            "gridcolor": "white",
            "linecolor": "white",
            "ticks": ""
           }
          },
          "title": {
           "x": 0.05
          },
          "xaxis": {
           "automargin": true,
           "gridcolor": "white",
           "linecolor": "white",
           "ticks": "",
           "title": {
            "standoff": 15
           },
           "zerolinecolor": "white",
           "zerolinewidth": 2
          },
          "yaxis": {
           "automargin": true,
           "gridcolor": "white",
           "linecolor": "white",
           "ticks": "",
           "title": {
            "standoff": 15
           },
           "zerolinecolor": "white",
           "zerolinewidth": 2
          }
         }
        },
        "xaxis": {
         "anchor": "y",
         "constrain": "domain",
         "domain": [
          0,
          1
         ],
         "scaleanchor": "y"
        },
        "yaxis": {
         "anchor": "x",
         "autorange": "reversed",
         "constrain": "domain",
         "domain": [
          0,
          1
         ]
        }
       }
      },
      "text/html": [
       "<div>                            <div id=\"12123f3f-b031-4354-8f9e-a06958867543\" class=\"plotly-graph-div\" style=\"height:525px; width:100%;\"></div>            <script type=\"text/javascript\">                require([\"plotly\"], function(Plotly) {                    window.PLOTLYENV=window.PLOTLYENV || {};                                    if (document.getElementById(\"12123f3f-b031-4354-8f9e-a06958867543\")) {                    Plotly.newPlot(                        \"12123f3f-b031-4354-8f9e-a06958867543\",                        [{\"coloraxis\": \"coloraxis\", \"hovertemplate\": \"x: %{x}<br>y: %{y}<br>color: %{z}<extra></extra>\", \"name\": \"0\", \"type\": \"heatmap\", \"x\": [\"LIMIT_BAL\", \"SEX\", \"EDUCATION\", \"MARRIAGE\", \"AGE\", \"PAY_1\", \"PAY_2\", \"PAY_3\", \"PAY_4\", \"PAY_5\", \"PAY_6\", \"BILL_AMT1\", \"BILL_AMT2\", \"BILL_AMT3\", \"BILL_AMT4\", \"BILL_AMT5\", \"BILL_AMT6\", \"PAY_AMT1\", \"PAY_AMT2\", \"PAY_AMT3\", \"PAY_AMT4\", \"PAY_AMT5\", \"PAY_AMT6\", \"overdue\"], \"xaxis\": \"x\", \"y\": [\"LIMIT_BAL\", \"SEX\", \"EDUCATION\", \"MARRIAGE\", \"AGE\", \"PAY_1\", \"PAY_2\", \"PAY_3\", \"PAY_4\", \"PAY_5\", \"PAY_6\", \"BILL_AMT1\", \"BILL_AMT2\", \"BILL_AMT3\", \"BILL_AMT4\", \"BILL_AMT5\", \"BILL_AMT6\", \"PAY_AMT1\", \"PAY_AMT2\", \"PAY_AMT3\", \"PAY_AMT4\", \"PAY_AMT5\", \"PAY_AMT6\", \"overdue\"], \"yaxis\": \"y\", \"z\": [[1.0, 0.024755235111635455, -0.21916069822919892, -0.10813941027805403, 0.14471279755733898, -0.2712143321346566, -0.2963821009965285, -0.28612295390311204, -0.26746000963940014, -0.24941139482420563, -0.23519539948551665, 0.2854298649650024, 0.27831436399777376, 0.28323578358169615, 0.29398762371600184, 0.2955623376582501, 0.2903889506479491, 0.19523591523218456, 0.1784079536837089, 0.21016674772340774, 0.20324241022461373, 0.21720243239551573, 0.2195953686044145, -0.1535198763934634], [0.024755235111635455, 1.0, 0.014231936162202063, -0.03138884007084978, -0.09087364652734889, -0.057642878866969796, -0.07077100316681666, -0.06609605640040053, -0.060173238366181506, -0.05506388503522207, -0.044007788187643664, -0.03364186958913818, -0.031183472229657738, -0.024563311681395073, -0.021879679073477817, -0.017005180187320643, -0.016733126348154406, -0.0002424545629413491, -0.0013909096590862312, -0.008596624911740208, -0.0022289715070052205, -0.0016671618004731178, -0.0027660222828912234, -0.03996057770542914], [-0.21916069822919892, 0.014231936162202063, 1.0, -0.14346434041150158, 0.17506066148806362, 0.10536399793531669, 0.12156555247068576, 0.11402490285709801, 0.10879345615279878, 0.09752016063021242, 0.08231598637747728, 0.023581180737112246, 0.018748770808320173, 0.013002400711997089, -0.0004513453087485706, -0.007566503046841017, -0.009098954697454293, -0.03745618391311011, -0.030038186562840442, -0.03994314086709832, -0.038218166111340275, -0.04035845492818855, -0.037199903089169574, 0.02800607765623944], [-0.10813941027805403, -0.03138884007084978, -0.14346434041150158, 1.0, -0.4141699184882271, 0.019917190483427872, 0.02419906728119972, 0.032687673337237905, 0.03312154891406339, 0.035629170366565426, 0.034344765997450316, -0.023471801910134676, -0.021601779859033592, -0.02490945102250521, -0.02334384691538142, -0.025393397991281746, -0.02120682480008369, -0.005978999780835045, -0.008092702837780942, -0.0035413519467560888, -0.012659278892723353, -0.0012047569155652525, -0.0066409419256549685, -0.024339215683405382], [0.14471279755733898, -0.09087364652734889, 0.17506066148806362, -0.4141699184882271, 1.0, -0.03944737618411882, -0.05014777620686146, -0.053048437258155896, -0.04972167399537965, -0.05382597641308751, -0.0487734264283318, 0.05623853326056632, 0.05428307435034137, 0.053709705178658994, 0.05135309324331977, 0.04934504811261162, 0.047612677990511616, 0.026146679056987577, 0.02178489339261622, 0.02924735304500797, 0.02137900561559129, 0.02284997355855755, 0.019478152969871036, 0.013889834301962055], [-0.2712143321346566, -0.057642878866969796, 0.10536399793531669, 0.019917190483427872, -0.03944737618411882, 1.0, 0.6721643825485115, 0.5742450926205569, 0.5388406268711887, 0.5094260636655169, 0.4745530860641991, 0.18706843147381272, 0.1898591088935442, 0.17978528216681353, 0.17912477062588092, 0.18063462540120653, 0.17698029564143664, -0.07926871118542084, -0.07010052119394661, -0.07056083767035214, -0.0640048888877329, -0.05818988594977887, -0.05867321437607638, 0.32479372847861593], [-0.2963821009965285, -0.07077100316681666, 0.12156555247068576, 0.02419906728119972, -0.05014777620686146, 0.6721643825485115, 1.0, 0.7665516829340645, 0.6620671310240178, 0.6227802453771065, 0.5755008617794772, 0.23488652660361398, 0.23525694274355993, 0.22414585503165704, 0.2222365116128552, 0.2213483730334607, 0.21940335128671515, -0.08070070981017687, -0.0589899990346273, -0.055901231300970716, -0.04685841151355427, -0.03709307977013079, -0.0365003755272274, 0.26355120167213386], [-0.28612295390311204, -0.06609605640040053, 0.11402490285709801, 0.032687673337237905, -0.053048437258155896, 0.5742450926205569, 0.7665516829340645, 1.0, 0.7773588733014175, 0.6867745109946158, 0.6326835927185628, 0.20847288868973574, 0.2372945344028915, 0.2274943266955342, 0.22720228070074397, 0.22514519307199413, 0.2223267374362909, 0.0012948143319477922, -0.06679339566551593, -0.05331077958609125, -0.04606653388795651, -0.035863070561357575, -0.0358610837187728, 0.23525251372489042], [-0.26746000963940014, -0.060173238366181506, 0.10879345615279878, 0.03312154891406339, -0.04972167399537965, 0.5388406268711887, 0.6620671310240178, 0.7773588733014175, 1.0, 0.8198353114868159, 0.7164494815811169, 0.20281206938745777, 0.2258163160680939, 0.24498313796206503, 0.24591720419844126, 0.2429020584249072, 0.23915412960586346, -0.009362135754402846, -0.001943656607904313, -0.06923520356768037, -0.04346142965539879, -0.033589534748120445, -0.026565087967652147, 0.21661363684241972], [-0.24941139482420563, -0.05506388503522207, 0.09752016063021242, 0.035629170366565426, -0.05382597641308751, 0.5094260636655169, 0.6227802453771065, 0.6867745109946158, 0.8198353114868159, 1.0, 0.8169001604178685, 0.20668396424411994, 0.22691326699155925, 0.24333468092024604, 0.27191500699813403, 0.26978309015117685, 0.26250925166846667, -0.006088757138842614, -0.003191332307053405, 0.009062362681556524, -0.05829886530947286, -0.03333650421280089, -0.023027450987599254, 0.20414891387611414], [-0.23519539948551665, -0.044007788187643664, 0.08231598637747728, 0.034344765997450316, -0.0487734264283318, 0.4745530860641991, 0.5755008617794772, 0.6326835927185628, 0.7164494815811169, 0.8169001604178685, 1.0, 0.2073731312956845, 0.22692443093068188, 0.24118114604235205, 0.2663560690339363, 0.2908937449486417, 0.28509099069262595, -0.001496289043318324, -0.005223268144056256, 0.005833774192896853, 0.01901786328244545, -0.04643364107299502, -0.025299338462288146, 0.18686636165353435], [0.2854298649650024, -0.03364186958913818, 0.023581180737112246, -0.023471801910134676, 0.05623853326056632, 0.18706843147381272, 0.23488652660361398, 0.20847288868973574, 0.20281206938745777, 0.20668396424411994, 0.2073731312956845, 1.0, 0.9514836727518374, 0.8922785291271761, 0.8602721890293005, 0.8297786058330343, 0.8026501885528919, 0.14027727757531827, 0.09935503497277853, 0.156887138475675, 0.15830253328354743, 0.16702571208290615, 0.17934112200690228, -0.01964419714321997], [0.27831436399777376, -0.031183472229657738, 0.018748770808320173, -0.021601779859033592, 0.05428307435034137, 0.1898591088935442, 0.23525694274355993, 0.2372945344028915, 0.2258163160680939, 0.22691326699155925, 0.22692443093068188, 0.9514836727518374, 1.0, 0.9283262592714886, 0.8924822912576753, 0.859778307271451, 0.8315935591018396, 0.28036535701408555, 0.10085087751754053, 0.15071819370166342, 0.14739810422001587, 0.1579574116239592, 0.17425616563434684, -0.014193218088214877], [0.28323578358169615, -0.024563311681395073, 0.013002400711997089, -0.02490945102250521, 0.053709705178658994, 0.17978528216681353, 0.22414585503165704, 0.2274943266955342, 0.24498313796206503, 0.24333468092024604, 0.24118114604235205, 0.8922785291271761, 0.9283262592714886, 1.0, 0.9239694565909764, 0.8839096973619937, 0.8533200905940386, 0.2443352376081392, 0.31693597717969435, 0.13001118162440695, 0.14340460499244492, 0.1797123504064784, 0.18232596615205957, -0.014075518043213994], [0.29398762371600184, -0.021879679073477817, -0.0004513453087485706, -0.02334384691538142, 0.05135309324331977, 0.17912477062588092, 0.2222365116128552, 0.22720228070074397, 0.24591720419844126, 0.27191500699813403, 0.2663560690339363, 0.8602721890293005, 0.8924822912576753, 0.9239694565909764, 1.0, 0.9401344040880266, 0.9009409547979025, 0.23301185215341472, 0.20756372904210446, 0.3000225291116425, 0.1301914077878168, 0.16043303762898942, 0.17763699418675602, -0.010156495880289025], [0.2955623376582501, -0.017005180187320643, -0.007566503046841017, -0.025393397991281746, 0.04934504811261162, 0.18063462540120653, 0.2213483730334607, 0.22514519307199413, 0.2429020584249072, 0.26978309015117685, 0.2908937449486417, 0.8297786058330343, 0.859778307271451, 0.8839096973619937, 0.9401344040880266, 1.0, 0.9461968070522464, 0.21703082377803495, 0.1812464910523023, 0.2523048617306058, 0.293118463184434, 0.14157417995959912, 0.16418445035362986, -0.006760463841014325], [0.2903889506479491, -0.016733126348154406, -0.009098954697454293, -0.02120682480008369, 0.047612677990511616, 0.17698029564143664, 0.21940335128671515, 0.2223267374362909, 0.23915412960586346, 0.26250925166846667, 0.28509099069262595, 0.8026501885528919, 0.8315935591018396, 0.8533200905940386, 0.9009409547979025, 0.9461968070522464, 1.0, 0.19996500616338114, 0.17266293741805372, 0.2337697933269198, 0.25023682493343924, 0.30772888950112604, 0.11549416685165832, -0.005372314914815026], [0.19523591523218456, -0.0002424545629413491, -0.03745618391311011, -0.005978999780835045, 0.026146679056987577, -0.07926871118542084, -0.08070070981017687, 0.0012948143319477922, -0.009362135754402846, -0.006088757138842614, -0.001496289043318324, 0.14027727757531827, 0.28036535701408555, 0.2443352376081392, 0.23301185215341472, 0.21703082377803495, 0.19996500616338114, 1.0, 0.2855755286868565, 0.25219113895238043, 0.1995579311706692, 0.14845927501532108, 0.18573525544574024, -0.07292948777784351], [0.1784079536837089, -0.0013909096590862312, -0.030038186562840442, -0.008092702837780942, 0.02178489339261622, -0.07010052119394661, -0.0589899990346273, -0.06679339566551593, -0.001943656607904313, -0.003191332307053405, -0.005223268144056256, 0.09935503497277853, 0.10085087751754053, 0.31693597717969435, 0.20756372904210446, 0.1812464910523023, 0.17266293741805372, 0.2855755286868565, 1.0, 0.24477045029288258, 0.18010674364564283, 0.18090775259419362, 0.15763391627235926, -0.05857870658290595], [0.21016674772340774, -0.008596624911740208, -0.03994314086709832, -0.0035413519467560888, 0.02924735304500797, -0.07056083767035214, -0.055901231300970716, -0.05331077958609125, -0.06923520356768037, 0.009062362681556524, 0.005833774192896853, 0.156887138475675, 0.15071819370166342, 0.13001118162440695, 0.3000225291116425, 0.2523048617306058, 0.2337697933269198, 0.25219113895238043, 0.24477045029288258, 1.0, 0.21632509170083622, 0.1592137203086918, 0.16274003329184034, -0.05625035099032396], [0.20324241022461373, -0.0022289715070052205, -0.038218166111340275, -0.012659278892723353, 0.02137900561559129, -0.0640048888877329, -0.04685841151355427, -0.04606653388795651, -0.04346142965539879, -0.05829886530947286, 0.01901786328244545, 0.15830253328354743, 0.14739810422001587, 0.14340460499244492, 0.1301914077878168, 0.293118463184434, 0.25023682493343924, 0.1995579311706692, 0.18010674364564283, 0.21632509170083622, 1.0, 0.15183043582616415, 0.15783391560138624, -0.056827400892889145], [0.21720243239551573, -0.0016671618004731178, -0.04035845492818855, -0.0012047569155652525, 0.02284997355855755, -0.05818988594977887, -0.03709307977013079, -0.035863070561357575, -0.033589534748120445, -0.03333650421280089, -0.04643364107299502, 0.16702571208290615, 0.1579574116239592, 0.1797123504064784, 0.16043303762898942, 0.14157417995959912, 0.30772888950112604, 0.14845927501532108, 0.18090775259419362, 0.1592137203086918, 0.15183043582616415, 1.0, 0.15489552525960384, -0.05512351562108079], [0.2195953686044145, -0.0027660222828912234, -0.037199903089169574, -0.0066409419256549685, 0.019478152969871036, -0.05867321437607638, -0.0365003755272274, -0.0358610837187728, -0.026565087967652147, -0.023027450987599254, -0.025299338462288146, 0.17934112200690228, 0.17425616563434684, 0.18232596615205957, 0.17763699418675602, 0.16418445035362986, 0.11549416685165832, 0.18573525544574024, 0.15763391627235926, 0.16274003329184034, 0.15783391560138624, 0.15489552525960384, 1.0, -0.053183340326129626], [-0.1535198763934634, -0.03996057770542914, 0.02800607765623944, -0.024339215683405382, 0.013889834301962055, 0.32479372847861593, 0.26355120167213386, 0.23525251372489042, 0.21661363684241972, 0.20414891387611414, 0.18686636165353435, -0.01964419714321997, -0.014193218088214877, -0.014075518043213994, -0.010156495880289025, -0.006760463841014325, -0.005372314914815026, -0.07292948777784351, -0.05857870658290595, -0.05625035099032396, -0.056827400892889145, -0.05512351562108079, -0.053183340326129626, 1.0]]}],                        {\"coloraxis\": {\"colorscale\": [[0.0, \"rgb(247,251,255)\"], [0.125, \"rgb(222,235,247)\"], [0.25, \"rgb(198,219,239)\"], [0.375, \"rgb(158,202,225)\"], [0.5, \"rgb(107,174,214)\"], [0.625, \"rgb(66,146,198)\"], [0.75, \"rgb(33,113,181)\"], [0.875, \"rgb(8,81,156)\"], [1.0, \"rgb(8,48,107)\"]]}, \"margin\": {\"t\": 60}, \"template\": {\"data\": {\"bar\": [{\"error_x\": {\"color\": \"#2a3f5f\"}, \"error_y\": {\"color\": \"#2a3f5f\"}, \"marker\": {\"line\": {\"color\": \"#E5ECF6\", \"width\": 0.5}}, \"type\": \"bar\"}], \"barpolar\": [{\"marker\": {\"line\": {\"color\": \"#E5ECF6\", \"width\": 0.5}}, \"type\": \"barpolar\"}], \"carpet\": [{\"aaxis\": {\"endlinecolor\": \"#2a3f5f\", \"gridcolor\": \"white\", \"linecolor\": \"white\", \"minorgridcolor\": \"white\", \"startlinecolor\": \"#2a3f5f\"}, \"baxis\": {\"endlinecolor\": \"#2a3f5f\", \"gridcolor\": \"white\", \"linecolor\": \"white\", \"minorgridcolor\": \"white\", \"startlinecolor\": \"#2a3f5f\"}, \"type\": \"carpet\"}], \"choropleth\": [{\"colorbar\": {\"outlinewidth\": 0, \"ticks\": \"\"}, \"type\": \"choropleth\"}], \"contour\": [{\"colorbar\": {\"outlinewidth\": 0, \"ticks\": \"\"}, \"colorscale\": [[0.0, \"#0d0887\"], [0.1111111111111111, \"#46039f\"], [0.2222222222222222, \"#7201a8\"], [0.3333333333333333, \"#9c179e\"], [0.4444444444444444, \"#bd3786\"], [0.5555555555555556, \"#d8576b\"], [0.6666666666666666, \"#ed7953\"], [0.7777777777777778, \"#fb9f3a\"], [0.8888888888888888, \"#fdca26\"], [1.0, \"#f0f921\"]], \"type\": \"contour\"}], \"contourcarpet\": [{\"colorbar\": {\"outlinewidth\": 0, \"ticks\": \"\"}, \"type\": \"contourcarpet\"}], \"heatmap\": [{\"colorbar\": {\"outlinewidth\": 0, \"ticks\": \"\"}, \"colorscale\": [[0.0, \"#0d0887\"], [0.1111111111111111, \"#46039f\"], [0.2222222222222222, \"#7201a8\"], [0.3333333333333333, \"#9c179e\"], [0.4444444444444444, \"#bd3786\"], [0.5555555555555556, \"#d8576b\"], [0.6666666666666666, \"#ed7953\"], [0.7777777777777778, \"#fb9f3a\"], [0.8888888888888888, \"#fdca26\"], [1.0, \"#f0f921\"]], \"type\": \"heatmap\"}], \"heatmapgl\": [{\"colorbar\": {\"outlinewidth\": 0, \"ticks\": \"\"}, \"colorscale\": [[0.0, \"#0d0887\"], [0.1111111111111111, \"#46039f\"], [0.2222222222222222, \"#7201a8\"], [0.3333333333333333, \"#9c179e\"], [0.4444444444444444, \"#bd3786\"], [0.5555555555555556, \"#d8576b\"], [0.6666666666666666, \"#ed7953\"], [0.7777777777777778, \"#fb9f3a\"], [0.8888888888888888, \"#fdca26\"], [1.0, \"#f0f921\"]], \"type\": \"heatmapgl\"}], \"histogram\": [{\"marker\": {\"colorbar\": {\"outlinewidth\": 0, \"ticks\": \"\"}}, \"type\": \"histogram\"}], \"histogram2d\": [{\"colorbar\": {\"outlinewidth\": 0, \"ticks\": \"\"}, \"colorscale\": [[0.0, \"#0d0887\"], [0.1111111111111111, \"#46039f\"], [0.2222222222222222, \"#7201a8\"], [0.3333333333333333, \"#9c179e\"], [0.4444444444444444, \"#bd3786\"], [0.5555555555555556, \"#d8576b\"], [0.6666666666666666, \"#ed7953\"], [0.7777777777777778, \"#fb9f3a\"], [0.8888888888888888, \"#fdca26\"], [1.0, \"#f0f921\"]], \"type\": \"histogram2d\"}], \"histogram2dcontour\": [{\"colorbar\": {\"outlinewidth\": 0, \"ticks\": \"\"}, \"colorscale\": [[0.0, \"#0d0887\"], [0.1111111111111111, \"#46039f\"], [0.2222222222222222, \"#7201a8\"], [0.3333333333333333, \"#9c179e\"], [0.4444444444444444, \"#bd3786\"], [0.5555555555555556, \"#d8576b\"], [0.6666666666666666, \"#ed7953\"], [0.7777777777777778, \"#fb9f3a\"], [0.8888888888888888, \"#fdca26\"], [1.0, \"#f0f921\"]], \"type\": \"histogram2dcontour\"}], \"mesh3d\": [{\"colorbar\": {\"outlinewidth\": 0, \"ticks\": \"\"}, \"type\": \"mesh3d\"}], \"parcoords\": [{\"line\": {\"colorbar\": {\"outlinewidth\": 0, \"ticks\": \"\"}}, \"type\": \"parcoords\"}], \"pie\": [{\"automargin\": true, \"type\": \"pie\"}], \"scatter\": [{\"marker\": {\"colorbar\": {\"outlinewidth\": 0, \"ticks\": \"\"}}, \"type\": \"scatter\"}], \"scatter3d\": [{\"line\": {\"colorbar\": {\"outlinewidth\": 0, \"ticks\": \"\"}}, \"marker\": {\"colorbar\": {\"outlinewidth\": 0, \"ticks\": \"\"}}, \"type\": \"scatter3d\"}], \"scattercarpet\": [{\"marker\": {\"colorbar\": {\"outlinewidth\": 0, \"ticks\": \"\"}}, \"type\": \"scattercarpet\"}], \"scattergeo\": [{\"marker\": {\"colorbar\": {\"outlinewidth\": 0, \"ticks\": \"\"}}, \"type\": \"scattergeo\"}], \"scattergl\": [{\"marker\": {\"colorbar\": {\"outlinewidth\": 0, \"ticks\": \"\"}}, \"type\": \"scattergl\"}], \"scattermapbox\": [{\"marker\": {\"colorbar\": {\"outlinewidth\": 0, \"ticks\": \"\"}}, \"type\": \"scattermapbox\"}], \"scatterpolar\": [{\"marker\": {\"colorbar\": {\"outlinewidth\": 0, \"ticks\": \"\"}}, \"type\": \"scatterpolar\"}], \"scatterpolargl\": [{\"marker\": {\"colorbar\": {\"outlinewidth\": 0, \"ticks\": \"\"}}, \"type\": \"scatterpolargl\"}], \"scatterternary\": [{\"marker\": {\"colorbar\": {\"outlinewidth\": 0, \"ticks\": \"\"}}, \"type\": \"scatterternary\"}], \"surface\": [{\"colorbar\": {\"outlinewidth\": 0, \"ticks\": \"\"}, \"colorscale\": [[0.0, \"#0d0887\"], [0.1111111111111111, \"#46039f\"], [0.2222222222222222, \"#7201a8\"], [0.3333333333333333, \"#9c179e\"], [0.4444444444444444, \"#bd3786\"], [0.5555555555555556, \"#d8576b\"], [0.6666666666666666, \"#ed7953\"], [0.7777777777777778, \"#fb9f3a\"], [0.8888888888888888, \"#fdca26\"], [1.0, \"#f0f921\"]], \"type\": \"surface\"}], \"table\": [{\"cells\": {\"fill\": {\"color\": \"#EBF0F8\"}, \"line\": {\"color\": \"white\"}}, \"header\": {\"fill\": {\"color\": \"#C8D4E3\"}, \"line\": {\"color\": \"white\"}}, \"type\": \"table\"}]}, \"layout\": {\"annotationdefaults\": {\"arrowcolor\": \"#2a3f5f\", \"arrowhead\": 0, \"arrowwidth\": 1}, \"autotypenumbers\": \"strict\", \"coloraxis\": {\"colorbar\": {\"outlinewidth\": 0, \"ticks\": \"\"}}, \"colorscale\": {\"diverging\": [[0, \"#8e0152\"], [0.1, \"#c51b7d\"], [0.2, \"#de77ae\"], [0.3, \"#f1b6da\"], [0.4, \"#fde0ef\"], [0.5, \"#f7f7f7\"], [0.6, \"#e6f5d0\"], [0.7, \"#b8e186\"], [0.8, \"#7fbc41\"], [0.9, \"#4d9221\"], [1, \"#276419\"]], \"sequential\": [[0.0, \"#0d0887\"], [0.1111111111111111, \"#46039f\"], [0.2222222222222222, \"#7201a8\"], [0.3333333333333333, \"#9c179e\"], [0.4444444444444444, \"#bd3786\"], [0.5555555555555556, \"#d8576b\"], [0.6666666666666666, \"#ed7953\"], [0.7777777777777778, \"#fb9f3a\"], [0.8888888888888888, \"#fdca26\"], [1.0, \"#f0f921\"]], \"sequentialminus\": [[0.0, \"#0d0887\"], [0.1111111111111111, \"#46039f\"], [0.2222222222222222, \"#7201a8\"], [0.3333333333333333, \"#9c179e\"], [0.4444444444444444, \"#bd3786\"], [0.5555555555555556, \"#d8576b\"], [0.6666666666666666, \"#ed7953\"], [0.7777777777777778, \"#fb9f3a\"], [0.8888888888888888, \"#fdca26\"], [1.0, \"#f0f921\"]]}, \"colorway\": [\"#636efa\", \"#EF553B\", \"#00cc96\", \"#ab63fa\", \"#FFA15A\", \"#19d3f3\", \"#FF6692\", \"#B6E880\", \"#FF97FF\", \"#FECB52\"], \"font\": {\"color\": \"#2a3f5f\"}, \"geo\": {\"bgcolor\": \"white\", \"lakecolor\": \"white\", \"landcolor\": \"#E5ECF6\", \"showlakes\": true, \"showland\": true, \"subunitcolor\": \"white\"}, \"hoverlabel\": {\"align\": \"left\"}, \"hovermode\": \"closest\", \"mapbox\": {\"style\": \"light\"}, \"paper_bgcolor\": \"white\", \"plot_bgcolor\": \"#E5ECF6\", \"polar\": {\"angularaxis\": {\"gridcolor\": \"white\", \"linecolor\": \"white\", \"ticks\": \"\"}, \"bgcolor\": \"#E5ECF6\", \"radialaxis\": {\"gridcolor\": \"white\", \"linecolor\": \"white\", \"ticks\": \"\"}}, \"scene\": {\"xaxis\": {\"backgroundcolor\": \"#E5ECF6\", \"gridcolor\": \"white\", \"gridwidth\": 2, \"linecolor\": \"white\", \"showbackground\": true, \"ticks\": \"\", \"zerolinecolor\": \"white\"}, \"yaxis\": {\"backgroundcolor\": \"#E5ECF6\", \"gridcolor\": \"white\", \"gridwidth\": 2, \"linecolor\": \"white\", \"showbackground\": true, \"ticks\": \"\", \"zerolinecolor\": \"white\"}, \"zaxis\": {\"backgroundcolor\": \"#E5ECF6\", \"gridcolor\": \"white\", \"gridwidth\": 2, \"linecolor\": \"white\", \"showbackground\": true, \"ticks\": \"\", \"zerolinecolor\": \"white\"}}, \"shapedefaults\": {\"line\": {\"color\": \"#2a3f5f\"}}, \"ternary\": {\"aaxis\": {\"gridcolor\": \"white\", \"linecolor\": \"white\", \"ticks\": \"\"}, \"baxis\": {\"gridcolor\": \"white\", \"linecolor\": \"white\", \"ticks\": \"\"}, \"bgcolor\": \"#E5ECF6\", \"caxis\": {\"gridcolor\": \"white\", \"linecolor\": \"white\", \"ticks\": \"\"}}, \"title\": {\"x\": 0.05}, \"xaxis\": {\"automargin\": true, \"gridcolor\": \"white\", \"linecolor\": \"white\", \"ticks\": \"\", \"title\": {\"standoff\": 15}, \"zerolinecolor\": \"white\", \"zerolinewidth\": 2}, \"yaxis\": {\"automargin\": true, \"gridcolor\": \"white\", \"linecolor\": \"white\", \"ticks\": \"\", \"title\": {\"standoff\": 15}, \"zerolinecolor\": \"white\", \"zerolinewidth\": 2}}}, \"xaxis\": {\"anchor\": \"y\", \"constrain\": \"domain\", \"domain\": [0.0, 1.0], \"scaleanchor\": \"y\"}, \"yaxis\": {\"anchor\": \"x\", \"autorange\": \"reversed\", \"constrain\": \"domain\", \"domain\": [0.0, 1.0]}},                        {\"responsive\": true}                    ).then(function(){\n",
       "                            \n",
       "var gd = document.getElementById('12123f3f-b031-4354-8f9e-a06958867543');\n",
       "var x = new MutationObserver(function (mutations, observer) {{\n",
       "        var display = window.getComputedStyle(gd).display;\n",
       "        if (!display || display === 'none') {{\n",
       "            console.log([gd, 'removed!']);\n",
       "            Plotly.purge(gd);\n",
       "            observer.disconnect();\n",
       "        }}\n",
       "}});\n",
       "\n",
       "// Listen for the removal of the full notebook cells\n",
       "var notebookContainer = gd.closest('#notebook-container');\n",
       "if (notebookContainer) {{\n",
       "    x.observe(notebookContainer, {childList: true});\n",
       "}}\n",
       "\n",
       "// Listen for the clearing of the current output cell\n",
       "var outputEl = gd.closest('.output');\n",
       "if (outputEl) {{\n",
       "    x.observe(outputEl, {childList: true});\n",
       "}}\n",
       "\n",
       "                        })                };                });            </script>        </div>"
      ]
     },
     "metadata": {},
     "output_type": "display_data"
    }
   ],
   "source": [
    "import plotly.express as px\n",
    "\n",
    "graph = px.imshow(df.corr(),color_continuous_scale=\"blues\")\n",
    "\n",
    "graph.show()"
   ]
  },
  {
   "cell_type": "markdown",
   "metadata": {},
   "source": [
    "먼저 BILL_AMT 1 ~ 6 에서 상관도가 대부분 0.9 이상 수준으로 매우 높은 것을 알 수 있으며 PAY_AMT 1 ~ 6 도 0.5 이상의 높은 상관도를 가지고 있다.<br><br>\n",
    "이번에는 BILL_AMT 의 6개 속성을 2개의 component 로 PCA 변환 한 뒤 반영 변동성을 살펴보자."
   ]
  },
  {
   "cell_type": "code",
   "execution_count": 41,
   "metadata": {},
   "outputs": [
    {
     "name": "stdout",
     "output_type": "stream",
     "text": [
      "PCA Component 별 변동성:  [0.90555253 0.0509867 ]\n"
     ]
    }
   ],
   "source": [
    "# BILL_AMT 1 ~ 6 까지 추출 \n",
    "cols_bill = ['BILL_AMT'+str(i) for i in range(1,7)]\n",
    "\n",
    "scaler = StandardScaler()\n",
    "\n",
    "df_cols_bill_scaled = scaler.fit_transform(X_feature[cols_bill])\n",
    "pca = PCA(n_components=2)\n",
    "\n",
    "pca.fit(df_cols_bill_scaled)\n",
    "\n",
    "print(\"PCA Component 별 변동성: \",pca.explained_variance_ratio_)"
   ]
  },
  {
   "cell_type": "markdown",
   "metadata": {},
   "source": [
    "단 2개의 PCA component 만으로 6개의 피처의 변동성을 약 95% 나 설명 할 수 있다.<br><br>\n",
    "이번에는 원본 데이터 세트를 RandomForest 모델 / cross_val_score 로 교차검증 /  accuracy 평가 지표  &nbsp;&nbsp;&nbsp; 를  사용 할 것이고,\n",
    "\n",
    "* PCA 변환없이 단순 모델 학습 및 예측 성능 평가 \n",
    "* 6개의 component 로 PCA 변환을 한 뒤에 모델 학습 및 예측 성능 평가 \n",
    "\n",
    "이렇게 두 케이스로 나누어서 각자 학습을 한 뒤에 비교해보자."
   ]
  },
  {
   "cell_type": "code",
   "execution_count": 44,
   "metadata": {},
   "outputs": [
    {
     "name": "stdout",
     "output_type": "stream",
     "text": [
      "원본 신용카드 고객 dataset 교차 검증 개별 정확도:  [0.808  0.8208 0.8229]\n",
      "원본 신용카드 고객 dataset 평균 정확도:  0.817\n"
     ]
    }
   ],
   "source": [
    "rf_clf = RandomForestClassifier(n_estimators=300,random_state=166)\n",
    "\n",
    "scores = cross_val_score(rf_clf,X_feature,y_target,scoring='accuracy',cv=3)\n",
    "\n",
    "print('원본 신용카드 고객 dataset 교차 검증 개별 정확도: ',scores)\n",
    "print('원본 신용카드 고객 dataset 평균 정확도: ',np.round(np.mean(scores),3))"
   ]
  },
  {
   "cell_type": "code",
   "execution_count": 48,
   "metadata": {},
   "outputs": [
    {
     "name": "stdout",
     "output_type": "stream",
     "text": [
      "PCA 변환 신용카드 고객 dataset 교차 검증 개별 정확도:  [0.7895 0.7964 0.8019]\n",
      "PCA 변환 신용카드 고객 dataset 평균 정확도:  0.796\n",
      "PCA Component 별 변동성:  [0.28448215 0.17818817 0.06743307 0.06401154 0.04457555 0.04161736]\n"
     ]
    }
   ],
   "source": [
    "scaler = StandardScaler()\n",
    "\n",
    "X_feature_scaled = scaler.fit_transform(X_feature)\n",
    "pca = PCA(n_components=6)\n",
    "\n",
    "X_feature_scaled_pca = pca.fit_transform(X_feature_scaled)\n",
    "\n",
    "scores = cross_val_score(rf_clf,X_feature_scaled_pca,y_target,scoring='accuracy',cv=3)\n",
    "\n",
    "print('PCA 변환 신용카드 고객 dataset 교차 검증 개별 정확도: ',scores)\n",
    "print('PCA 변환 신용카드 고객 dataset 평균 정확도: ',np.round(np.mean(scores),3))\n",
    "print(\"PCA Component 별 변동성: \",pca.explained_variance_ratio_)"
   ]
  },
  {
   "cell_type": "markdown",
   "metadata": {},
   "source": [
    "두 결과를 보자. PCA 변환을 적용한 전체 피처의 1/4 정도만으로도 예측 성능이 PCA 변환을 적용하지 않은 원본 데이터와 크게 차이가 나지 않는다.<br>\n",
    "이러면에서 PCA는 유용하다 볼 수 있지만, 원본 데이터의 변동성이 65 % 수준에 머무르는 것을 보면 항상 유용하다 보기는 어려운 것 같다. <br><br>\n",
    "이 부분은 관련 논문을 찾아본 뒤 리뷰를 하면서 자세하게 알아 보도록 하자. <br><br>\n",
    "추가로 PCA 는 computer vision 분야에서 더 활발하게 사용된다. "
   ]
  }
 ],
 "metadata": {
  "kernelspec": {
   "display_name": "Python 3",
   "language": "python",
   "name": "python3"
  },
  "language_info": {
   "codemirror_mode": {
    "name": "ipython",
    "version": 3
   },
   "file_extension": ".py",
   "mimetype": "text/x-python",
   "name": "python",
   "nbconvert_exporter": "python",
   "pygments_lexer": "ipython3",
   "version": "3.8.5"
  }
 },
 "nbformat": 4,
 "nbformat_minor": 4
}
